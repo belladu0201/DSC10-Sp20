{
 "cells": [
  {
   "cell_type": "markdown",
   "metadata": {},
   "source": [
    "# Discussion Week 9\n"
   ]
  },
  {
   "cell_type": "markdown",
   "metadata": {},
   "source": [
    "# Confidence Intervals and Central Limit Theorem\n",
    "\n",
    "This week we will be talking about some mathematical problems regarding the MLS Soccer Players' Dataset. "
   ]
  },
  {
   "cell_type": "markdown",
   "metadata": {},
   "source": [
    "![MLS Table](MLS.PNG)"
   ]
  },
  {
   "cell_type": "markdown",
   "metadata": {},
   "source": [
    "We will be examining MLS soccer players’ salaries to explore the Central Limit Theorem, confidence intervals, and more. \n",
    "<br><br>\n",
    "- There are 693 players in our dataset (full population). \n",
    "- The dataset has Total Compensation average of µ and standard deviation of σ.\n",
    "- Total compensation will be referred to as the players’ salary.\n",
    "\n"
   ]
  },
  {
   "cell_type": "markdown",
   "metadata": {},
   "source": [
    "# Question 1\n",
    "We gather MLS salary data from the top 10 most successful clubs in the MLS. We then use this data to estimate the\n",
    "average salary for the league. Is this an acceptable way to sample? Why or why not?"
   ]
  },
  {
   "cell_type": "markdown",
   "metadata": {},
   "source": [
    "Answer: No. Because our sample will be biased, will not represent the original dataset.\n",
    "Successful clubs for example may pay more salary to their players, which would increase the average. "
   ]
  },
  {
   "cell_type": "markdown",
   "metadata": {},
   "source": [
    "# Question 2\n",
    "- Let's say we get average salaries with a sample size of 100.\n",
    "- What is the shape of the distribution? \n",
    "- What will the mean and SD of this distribution be?"
   ]
  },
  {
   "cell_type": "markdown",
   "metadata": {},
   "source": [
    "Answer: The distribution will approach a Normal Dist. Due to the Central Limit Theorem.\n",
    "- Mean --> mu. mean = mu. It will tend towards mu.\n",
    "- SD --> sigma. SD = sigma.\n",
    "\n",
    "- sample_size = 100\n",
    "- SD_sample = sigma / sqrt(sample_size)"
   ]
  },
  {
   "cell_type": "code",
   "execution_count": 8,
   "metadata": {},
   "outputs": [
    {
     "data": {
      "text/plain": [
       "2.0"
      ]
     },
     "execution_count": 8,
     "metadata": {},
     "output_type": "execute_result"
    }
   ],
   "source": [
    "import math\n",
    "sample_size = 100\n",
    "sigma = 20\n",
    "SD_sample = sigma / math.sqrt(sample_size)\n",
    "SD_sample"
   ]
  },
  {
   "cell_type": "markdown",
   "metadata": {},
   "source": [
    "# Question 3\n",
    "- Imagine we take 10 samples from the distribution above.\n",
    "- What will the shape of this new distribution be?"
   ]
  },
  {
   "cell_type": "markdown",
   "metadata": {},
   "source": [
    "Answer: Unknown due to low sample count. We are sampling from a normal dist.\n",
    "but we have low sample count, so it will not necessarily form a normal dist."
   ]
  },
  {
   "cell_type": "markdown",
   "metadata": {},
   "source": [
    "# Question 4\n",
    "- A random sample of 100 players in the MLS have an average salary of \\$330,000. \n",
    "- The SD of this sample is \\$700,000.\n",
    "<br><br>\n",
    "What is our 95% confidence interval of the average salary?"
   ]
  },
  {
   "cell_type": "markdown",
   "metadata": {},
   "source": [
    "Answer: Let's assume it's a normal dist.\n",
    "\n",
    "- SD_est is the s.d. of the population.\n",
    "\n",
    "- lower_limit = mean - 2 * SD_est # 2.5%\n",
    "- upper_limit = mean + 2 * SD_est # 97.5%\n",
    "\n",
    "- 95% of the data lies between lower and upper limit. Assuming the dist. is normal dist.\n",
    "\n",
    "- sigma_sample --> SD of my sample\n",
    "- SD_est = sigma / sqrt(100)"
   ]
  },
  {
   "cell_type": "code",
   "execution_count": 9,
   "metadata": {},
   "outputs": [
    {
     "data": {
      "text/plain": [
       "70000.0"
      ]
     },
     "execution_count": 9,
     "metadata": {},
     "output_type": "execute_result"
    }
   ],
   "source": [
    "# My estimate of the sd of the population is\n",
    "sigma_sample = 700_000\n",
    "SD_est = sigma_sample / math.sqrt(100)\n",
    "SD_est"
   ]
  },
  {
   "cell_type": "code",
   "execution_count": 10,
   "metadata": {},
   "outputs": [
    {
     "name": "stdout",
     "output_type": "stream",
     "text": [
      "190000.0 470000.0\n"
     ]
    }
   ],
   "source": [
    "mean = 330_000\n",
    "lower_limit = mean - 2 * SD_est\n",
    "upper_limit = mean + 2 * SD_est\n",
    "print(lower_limit, upper_limit)"
   ]
  },
  {
   "cell_type": "markdown",
   "metadata": {},
   "source": [
    "# Question 5\n",
    "Interpret a 95% confidence interval in context of this dataset"
   ]
  },
  {
   "cell_type": "markdown",
   "metadata": {},
   "source": [
    "Answer: If ran this experiment 100 times, I expect roughly 95 times, the actual mean would be in my confidence interval. And roughly 5 times, the mean would be out of the C.I."
   ]
  },
  {
   "cell_type": "markdown",
   "metadata": {},
   "source": [
    "# Question 6\n",
    "Assuming:\n",
    "- We work on the sample mean (or any other sample statistic)\n",
    "- A sample standard deviation of \\\\$700,000\n",
    "- 99.7\\% confidence interval from \\\\$100,000 to \\\\$500,000\n",
    "<br><br>\n",
    "How big must the sample be?"
   ]
  },
  {
   "cell_type": "markdown",
   "metadata": {},
   "source": [
    "Answer: \n",
    "\n",
    "- Middle point of the C.I. is 300_000\n",
    "- If I have a large enough sample, I can assume normal dist.\n",
    "\n",
    "- lower_limit = mean - 3 * SD_est # 00.15%\n",
    "- upper_limit = mean + 3 * SD_est # 99.85%\n",
    "\n",
    "99.85 - 0.15 = 99.7\n",
    "\n",
    "- 99.7% of the data lies between lower and upper limit. Assuming the dist. is normal dist.\n"
   ]
  },
  {
   "cell_type": "markdown",
   "metadata": {},
   "source": [
    "- 3 * SD_est = mean - lower_limit"
   ]
  },
  {
   "cell_type": "code",
   "execution_count": 12,
   "metadata": {},
   "outputs": [
    {
     "data": {
      "text/plain": [
       "66666.66666666667"
      ]
     },
     "execution_count": 12,
     "metadata": {},
     "output_type": "execute_result"
    }
   ],
   "source": [
    "lower_limit = 100_000\n",
    "upper_limit = 500_000\n",
    "mean = 300_000\n",
    "\n",
    "SD_est = (mean - lower_limit) / 3\n",
    "SD_est"
   ]
  },
  {
   "cell_type": "code",
   "execution_count": 14,
   "metadata": {},
   "outputs": [
    {
     "data": {
      "text/plain": [
       "111"
      ]
     },
     "execution_count": 14,
     "metadata": {},
     "output_type": "execute_result"
    }
   ],
   "source": [
    "sigma_sample = 700_000\n",
    "sample_size = (sigma_sample / SD_est) ** 2\n",
    "math.ceil(sample_size)"
   ]
  },
  {
   "cell_type": "markdown",
   "metadata": {},
   "source": [
    "# Question 7\n",
    "What are the 2 different ways to decrease the size of a confidence interval? (assume the distribution from which\n",
    "you’re sampling can not be changed)"
   ]
  },
  {
   "cell_type": "markdown",
   "metadata": {},
   "source": [
    "Answer:\n",
    "\n",
    "- 1: Increase sample size\n",
    "- 2: Decrease my confidence level"
   ]
  },
  {
   "cell_type": "markdown",
   "metadata": {},
   "source": [
    "# Question 8\n",
    "- A 95.0% confidence interval of \\\\$250,000 to \\\\$350,000 is found through bootstrapping 50 times from a sample of size 100 with SD \\\\$700,000. \n",
    "- Will the interval get bigger or smaller when bootstrapping 5000 times is used?\n"
   ]
  },
  {
   "cell_type": "markdown",
   "metadata": {},
   "source": [
    "Answer: What will happen if we do more bootstraps. --> bootstraps conf. interval will become more like the normal confidence interval. \n",
    "\n",
    "lower, upper = 190_000, 470_000\n",
    "\n",
    "- previous:   250_000 - 350_000\n",
    "- approaching: 190_000 - 470_000"
   ]
  },
  {
   "cell_type": "code",
   "execution_count": null,
   "metadata": {},
   "outputs": [],
   "source": []
  }
 ],
 "metadata": {
  "kernelspec": {
   "display_name": "Python 3",
   "language": "python",
   "name": "python3"
  },
  "language_info": {
   "codemirror_mode": {
    "name": "ipython",
    "version": 3
   },
   "file_extension": ".py",
   "mimetype": "text/x-python",
   "name": "python",
   "nbconvert_exporter": "python",
   "pygments_lexer": "ipython3",
   "version": "3.7.5"
  }
 },
 "nbformat": 4,
 "nbformat_minor": 2
}
