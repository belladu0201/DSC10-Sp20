{
 "cells": [
  {
   "cell_type": "markdown",
   "metadata": {},
   "source": [
    "# Discussion Week 9\n"
   ]
  },
  {
   "cell_type": "markdown",
   "metadata": {},
   "source": [
    "# Confidence Intervals and Central Limit Theorem\n",
    "\n",
    "This week we will be talking about some mathematcal problems regarding the MLS Soccer Players' Dataset. "
   ]
  },
  {
   "cell_type": "markdown",
   "metadata": {},
   "source": [
    "![MLS Table](MLS.PNG)"
   ]
  },
  {
   "cell_type": "markdown",
   "metadata": {},
   "source": [
    "We will be examining MLS soccer players’ salaries to explore the Central Limit Theorem, confidence intervals, and more. \n",
    "<br><br>\n",
    "- There are 693 players in our dataset (full population). \n",
    "- The dataset has Total Compensation average of µ and standard deviation of σ.\n",
    "- Total compensation will be referred to as the players’ salary.\n",
    "\n"
   ]
  },
  {
   "cell_type": "markdown",
   "metadata": {},
   "source": [
    "# Question 1\n",
    "We gather MLS salary data from the top 10 most successful clubs in the MLS. We then use this data to estimate the\n",
    "average salary for the league. Is this an acceptable way to sample? Why or why not?"
   ]
  },
  {
   "cell_type": "markdown",
   "metadata": {},
   "source": [
    "Answer:"
   ]
  },
  {
   "cell_type": "markdown",
   "metadata": {},
   "source": [
    "# Question 2\n",
    "- Let's say we get average salaries with a sample size of 10_000.\n",
    "- What is the shape of the distribution? \n",
    "- What will the mean and SD of this distribution be?"
   ]
  },
  {
   "cell_type": "markdown",
   "metadata": {},
   "source": [
    "Answer:"
   ]
  },
  {
   "cell_type": "markdown",
   "metadata": {},
   "source": [
    "# Question 3\n",
    "- Imagine we take 10 samples from the distribution above.\n",
    "- What will the shape of this new distribution be?"
   ]
  },
  {
   "cell_type": "markdown",
   "metadata": {},
   "source": [
    "Answer:"
   ]
  },
  {
   "cell_type": "markdown",
   "metadata": {},
   "source": [
    "# Question 4\n",
    "- A random sample of 100 players in the MLS have an average salary of \\$330,000. \n",
    "- The SD of thiss sample is \\$700,000.\n",
    "<br><br>\n",
    "What is our 95% confidence interval of the average salary?"
   ]
  },
  {
   "cell_type": "markdown",
   "metadata": {},
   "source": [
    "Answer:"
   ]
  },
  {
   "cell_type": "markdown",
   "metadata": {},
   "source": [
    "# Question 5\n",
    "Interpret a 95% confidence interval in context of this dataset"
   ]
  },
  {
   "cell_type": "markdown",
   "metadata": {},
   "source": [
    "Answer:"
   ]
  },
  {
   "cell_type": "markdown",
   "metadata": {},
   "source": [
    "# Question 6\n",
    "Assuming:\n",
    "- A sample standard deviation of \\\\$700,000\n",
    "- 99.7\\% confidence interval from \\\\$100,000 to \\\\$500,000\n",
    "<br><br>\n",
    "How big must the sample be?"
   ]
  },
  {
   "cell_type": "markdown",
   "metadata": {},
   "source": [
    "Answer:"
   ]
  },
  {
   "cell_type": "markdown",
   "metadata": {},
   "source": [
    "# Question 7\n",
    "What are the 2 different ways to decrease the size of a confidence interval? (assume the distribution from which\n",
    "you’re sampling can not be changed)"
   ]
  },
  {
   "cell_type": "markdown",
   "metadata": {},
   "source": [
    "Answer:"
   ]
  },
  {
   "cell_type": "markdown",
   "metadata": {},
   "source": [
    "# Question 8\n",
    "- A 95.0% confidence interval of \\\\$250,000 to \\\\$350,000 is found through bootstrapping 50 times from a sample of size 100 with SD \\\\$700,000. \n",
    "- Will the interval get bigger or smaller when bootstrapping 5000 times is used?\n"
   ]
  },
  {
   "cell_type": "markdown",
   "metadata": {},
   "source": [
    "Answer:"
   ]
  }
 ],
 "metadata": {
  "kernelspec": {
   "display_name": "Python 3",
   "language": "python",
   "name": "python3"
  },
  "language_info": {
   "codemirror_mode": {
    "name": "ipython",
    "version": 3
   },
   "file_extension": ".py",
   "mimetype": "text/x-python",
   "name": "python",
   "nbconvert_exporter": "python",
   "pygments_lexer": "ipython3",
   "version": "3.7.5"
  }
 },
 "nbformat": 4,
 "nbformat_minor": 2
}
