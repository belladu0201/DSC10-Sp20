{
 "cells": [
  {
   "cell_type": "markdown",
   "metadata": {},
   "source": [
    "# Homework 3: Custom Functions\n",
    "### Due Monday, April 20th, at 11:59 pm\n",
    "Directly sharing answers is not okay, but discussing problems with the course staff or with other students is encouraged. \n",
    "\n",
    "You should start early so that you have time to get help if you're stuck.\n",
    "\n",
    "Please complete this notebook by filling in the cells provided. Before you begin, execute the following cell to load the provided tests. Each time you start your server, you will need to execute this cell again to load the tests."
   ]
  },
  {
   "cell_type": "code",
   "execution_count": 1,
   "metadata": {},
   "outputs": [
    {
     "ename": "ModuleNotFoundError",
     "evalue": "No module named 'client'",
     "output_type": "error",
     "traceback": [
      "\u001b[1;31m---------------------------------------------------------------------------\u001b[0m",
      "\u001b[1;31mModuleNotFoundError\u001b[0m                       Traceback (most recent call last)",
      "\u001b[1;32m<ipython-input-1-3bf6d947f20a>\u001b[0m in \u001b[0;36m<module>\u001b[1;34m\u001b[0m\n\u001b[0;32m      7\u001b[0m \u001b[0mplt\u001b[0m\u001b[1;33m.\u001b[0m\u001b[0mstyle\u001b[0m\u001b[1;33m.\u001b[0m\u001b[0muse\u001b[0m\u001b[1;33m(\u001b[0m\u001b[1;34m'fivethirtyeight'\u001b[0m\u001b[1;33m)\u001b[0m\u001b[1;33m\u001b[0m\u001b[0m\n\u001b[0;32m      8\u001b[0m \u001b[1;33m\u001b[0m\u001b[0m\n\u001b[1;32m----> 9\u001b[1;33m \u001b[1;32mfrom\u001b[0m \u001b[0mclient\u001b[0m\u001b[1;33m.\u001b[0m\u001b[0mapi\u001b[0m\u001b[1;33m.\u001b[0m\u001b[0mnotebook\u001b[0m \u001b[1;32mimport\u001b[0m \u001b[0mNotebook\u001b[0m\u001b[1;33m\u001b[0m\u001b[0m\n\u001b[0m\u001b[0;32m     10\u001b[0m \u001b[0mok\u001b[0m \u001b[1;33m=\u001b[0m \u001b[0mNotebook\u001b[0m\u001b[1;33m(\u001b[0m\u001b[1;34m'hw.ok'\u001b[0m\u001b[1;33m)\u001b[0m\u001b[1;33m\u001b[0m\u001b[0m\n\u001b[0;32m     11\u001b[0m \u001b[0m_\u001b[0m \u001b[1;33m=\u001b[0m \u001b[0mok\u001b[0m\u001b[1;33m.\u001b[0m\u001b[0mauth\u001b[0m\u001b[1;33m(\u001b[0m\u001b[0minline\u001b[0m\u001b[1;33m=\u001b[0m\u001b[1;32mTrue\u001b[0m\u001b[1;33m)\u001b[0m\u001b[1;33m\u001b[0m\u001b[0m\n",
      "\u001b[1;31mModuleNotFoundError\u001b[0m: No module named 'client'"
     ]
    }
   ],
   "source": [
    "# Don't change this cell; just run it\n",
    "import numpy as np\n",
    "import babypandas as bpd\n",
    "\n",
    "import matplotlib.pyplot as plt\n",
    "%matplotlib inline\n",
    "plt.style.use('fivethirtyeight')\n",
    "\n",
    "from client.api.notebook import Notebook\n",
    "ok = Notebook('hw.ok')\n",
    "_ = ok.auth(inline=True)"
   ]
  },
  {
   "cell_type": "markdown",
   "metadata": {},
   "source": [
    "**Important**: The `ok` tests don't always tell you that your answer is correct. More often, they help catch careless mistakes. It's up to you to ensure that your answer is correct. If you're not sure, ask someone (not for the answer, but for some guidance about your approach)."
   ]
  },
  {
   "cell_type": "markdown",
   "metadata": {},
   "source": [
    "## 1. Avocadopocalypse"
   ]
  },
  {
   "cell_type": "markdown",
   "metadata": {},
   "source": [
    "In early 2017, reduced harvests and labor strikes caused avocado production in Mexico, Peru, and California to  dramatically decrease. In this problem we will investigate how and where prices fluctuated in response to the \"avocadopocalypse\".\n",
    "\n",
    "The source of the avocado price data is [here](http://www.hassavocadoboard.com/retail/volume-and-price-data). We will use a subset of the data. The data has the following columns:\n",
    "\n",
    "|Column|Description|\n",
    "|------|-----------|\n",
    "|Date|The date on which a price was recorded in YEAR-MONTH format|\n",
    "|Type|The type of avocado. Either \"conventional\" or \"organic\".|\n",
    "|Region|Where the price was recorded.|\n",
    "|Price|The average avocado price for that time period/location.|\n",
    "|Volume|The number of avocados sold (in thousands).|"
   ]
  },
  {
   "cell_type": "markdown",
   "metadata": {},
   "source": [
    "**Question 1.1.** The data are in a CSV called `avocado.csv`. Read this file into a table named `avocado`. There is not good columns to use as the index, so don't set one!"
   ]
  },
  {
   "cell_type": "code",
   "execution_count": 2,
   "metadata": {},
   "outputs": [
    {
     "data": {
      "text/html": [
       "<div>\n",
       "<style scoped>\n",
       "    .dataframe tbody tr th:only-of-type {\n",
       "        vertical-align: middle;\n",
       "    }\n",
       "\n",
       "    .dataframe tbody tr th {\n",
       "        vertical-align: top;\n",
       "    }\n",
       "\n",
       "    .dataframe thead th {\n",
       "        text-align: right;\n",
       "    }\n",
       "</style>\n",
       "<table border=\"1\" class=\"dataframe\">\n",
       "  <thead>\n",
       "    <tr style=\"text-align: right;\">\n",
       "      <th></th>\n",
       "      <th>Date</th>\n",
       "      <th>Region</th>\n",
       "      <th>Type</th>\n",
       "      <th>Price</th>\n",
       "      <th>Volume</th>\n",
       "    </tr>\n",
       "  </thead>\n",
       "  <tbody>\n",
       "    <tr>\n",
       "      <th>0</th>\n",
       "      <td>2015-01</td>\n",
       "      <td>Boise</td>\n",
       "      <td>conventional</td>\n",
       "      <td>1.0750</td>\n",
       "      <td>66.582385</td>\n",
       "    </tr>\n",
       "    <tr>\n",
       "      <th>1</th>\n",
       "      <td>2016-06</td>\n",
       "      <td>Sacramento</td>\n",
       "      <td>conventional</td>\n",
       "      <td>1.1925</td>\n",
       "      <td>498.762617</td>\n",
       "    </tr>\n",
       "    <tr>\n",
       "      <th>2</th>\n",
       "      <td>2016-10</td>\n",
       "      <td>Indianapolis</td>\n",
       "      <td>organic</td>\n",
       "      <td>1.7080</td>\n",
       "      <td>3.403160</td>\n",
       "    </tr>\n",
       "    <tr>\n",
       "      <th>3</th>\n",
       "      <td>2017-03</td>\n",
       "      <td>Indianapolis</td>\n",
       "      <td>organic</td>\n",
       "      <td>1.1975</td>\n",
       "      <td>6.276205</td>\n",
       "    </tr>\n",
       "    <tr>\n",
       "      <th>4</th>\n",
       "      <td>2017-09</td>\n",
       "      <td>StLouis</td>\n",
       "      <td>organic</td>\n",
       "      <td>2.6750</td>\n",
       "      <td>4.368665</td>\n",
       "    </tr>\n",
       "    <tr>\n",
       "      <th>...</th>\n",
       "      <td>...</td>\n",
       "      <td>...</td>\n",
       "      <td>...</td>\n",
       "      <td>...</td>\n",
       "      <td>...</td>\n",
       "    </tr>\n",
       "    <tr>\n",
       "      <th>4129</th>\n",
       "      <td>2015-09</td>\n",
       "      <td>BaltimoreWashington</td>\n",
       "      <td>organic</td>\n",
       "      <td>1.5575</td>\n",
       "      <td>11.213677</td>\n",
       "    </tr>\n",
       "    <tr>\n",
       "      <th>4130</th>\n",
       "      <td>2015-03</td>\n",
       "      <td>GrandRapids</td>\n",
       "      <td>conventional</td>\n",
       "      <td>1.0800</td>\n",
       "      <td>199.245174</td>\n",
       "    </tr>\n",
       "    <tr>\n",
       "      <th>4131</th>\n",
       "      <td>2015-09</td>\n",
       "      <td>SouthCentral</td>\n",
       "      <td>organic</td>\n",
       "      <td>1.5125</td>\n",
       "      <td>65.335568</td>\n",
       "    </tr>\n",
       "    <tr>\n",
       "      <th>4132</th>\n",
       "      <td>2018-01</td>\n",
       "      <td>Charlotte</td>\n",
       "      <td>conventional</td>\n",
       "      <td>1.3050</td>\n",
       "      <td>268.444935</td>\n",
       "    </tr>\n",
       "    <tr>\n",
       "      <th>4133</th>\n",
       "      <td>2015-04</td>\n",
       "      <td>California</td>\n",
       "      <td>organic</td>\n",
       "      <td>1.5100</td>\n",
       "      <td>123.095327</td>\n",
       "    </tr>\n",
       "  </tbody>\n",
       "</table>\n",
       "<p>4134 rows × 5 columns</p>\n",
       "</div>"
      ],
      "text/plain": [
       "         Date               Region          Type   Price      Volume\n",
       "0     2015-01                Boise  conventional  1.0750   66.582385\n",
       "1     2016-06           Sacramento  conventional  1.1925  498.762617\n",
       "2     2016-10         Indianapolis       organic  1.7080    3.403160\n",
       "3     2017-03         Indianapolis       organic  1.1975    6.276205\n",
       "4     2017-09              StLouis       organic  2.6750    4.368665\n",
       "...       ...                  ...           ...     ...         ...\n",
       "4129  2015-09  BaltimoreWashington       organic  1.5575   11.213677\n",
       "4130  2015-03          GrandRapids  conventional  1.0800  199.245174\n",
       "4131  2015-09         SouthCentral       organic  1.5125   65.335568\n",
       "4132  2018-01            Charlotte  conventional  1.3050  268.444935\n",
       "4133  2015-04           California       organic  1.5100  123.095327\n",
       "\n",
       "[4134 rows x 5 columns]"
      ]
     },
     "execution_count": 2,
     "metadata": {},
     "output_type": "execute_result"
    }
   ],
   "source": [
    "#...avocado\n",
    "avocado = bpd.read_csv('avocado.csv')\n",
    "avocado"
   ]
  },
  {
   "cell_type": "code",
   "execution_count": 3,
   "metadata": {},
   "outputs": [
    {
     "ename": "NameError",
     "evalue": "name 'ok' is not defined",
     "output_type": "error",
     "traceback": [
      "\u001b[1;31m---------------------------------------------------------------------------\u001b[0m",
      "\u001b[1;31mNameError\u001b[0m                                 Traceback (most recent call last)",
      "\u001b[1;32m<ipython-input-3-49c80298c67c>\u001b[0m in \u001b[0;36m<module>\u001b[1;34m\u001b[0m\n\u001b[1;32m----> 1\u001b[1;33m \u001b[0m_\u001b[0m \u001b[1;33m=\u001b[0m \u001b[0mok\u001b[0m\u001b[1;33m.\u001b[0m\u001b[0mgrade\u001b[0m\u001b[1;33m(\u001b[0m\u001b[1;34m'q1_1'\u001b[0m\u001b[1;33m)\u001b[0m\u001b[1;33m\u001b[0m\u001b[0m\n\u001b[0m",
      "\u001b[1;31mNameError\u001b[0m: name 'ok' is not defined"
     ]
    }
   ],
   "source": [
    "_ = ok.grade('q1_1')"
   ]
  },
  {
   "cell_type": "markdown",
   "metadata": {},
   "source": [
    "It might look like the `Date` column would make a good index, but it turns out that its entries are not unique! We can see this using the `.describe()` method, which gives us some useful information about a column:"
   ]
  },
  {
   "cell_type": "code",
   "execution_count": 4,
   "metadata": {},
   "outputs": [
    {
     "data": {
      "text/plain": [
       "count        4134\n",
       "unique         39\n",
       "top       2016-09\n",
       "freq          106\n",
       "Name: Date, dtype: object"
      ]
     },
     "execution_count": 4,
     "metadata": {},
     "output_type": "execute_result"
    }
   ],
   "source": [
    "avocado.get('Date').describe()"
   ]
  },
  {
   "cell_type": "markdown",
   "metadata": {},
   "source": [
    "We see that although there are 4134 entries, only 39 of them are unique. This is because the same date will appear once for each city in the data set."
   ]
  },
  {
   "cell_type": "markdown",
   "metadata": {},
   "source": [
    "**Question 1.2.** Assign `second_cheapest` to the name of the region which had the second cheapest avocados (in), and similarly assign `fifth_expensive` to the name of the region with the fifth most expensive avocados (of any type, and any date).\n"
   ]
  },
  {
   "cell_type": "code",
   "execution_count": 5,
   "metadata": {},
   "outputs": [
    {
     "data": {
      "text/plain": [
       "'PhoenixTucson'"
      ]
     },
     "execution_count": 5,
     "metadata": {},
     "output_type": "execute_result"
    }
   ],
   "source": [
    "#...second_cheapest\n",
    "second_cheapest = avocado.sort_values('Price').get('Region').iloc[1]\n",
    "second_cheapest"
   ]
  },
  {
   "cell_type": "code",
   "execution_count": 6,
   "metadata": {},
   "outputs": [
    {
     "data": {
      "text/plain": [
       "'Portland'"
      ]
     },
     "execution_count": 6,
     "metadata": {},
     "output_type": "execute_result"
    }
   ],
   "source": [
    "#...fifth_expensive\n",
    "fifth_expensive = avocado.sort_values('Price').get('Region').iloc[-5]\n",
    "fifth_expensive "
   ]
  },
  {
   "cell_type": "code",
   "execution_count": 7,
   "metadata": {},
   "outputs": [
    {
     "ename": "NameError",
     "evalue": "name 'ok' is not defined",
     "output_type": "error",
     "traceback": [
      "\u001b[1;31m---------------------------------------------------------------------------\u001b[0m",
      "\u001b[1;31mNameError\u001b[0m                                 Traceback (most recent call last)",
      "\u001b[1;32m<ipython-input-7-b8b0b3a186a9>\u001b[0m in \u001b[0;36m<module>\u001b[1;34m\u001b[0m\n\u001b[1;32m----> 1\u001b[1;33m \u001b[0m_\u001b[0m \u001b[1;33m=\u001b[0m \u001b[0mok\u001b[0m\u001b[1;33m.\u001b[0m\u001b[0mgrade\u001b[0m\u001b[1;33m(\u001b[0m\u001b[1;34m'q1_2'\u001b[0m\u001b[1;33m)\u001b[0m\u001b[1;33m\u001b[0m\u001b[0m\n\u001b[0m",
      "\u001b[1;31mNameError\u001b[0m: name 'ok' is not defined"
     ]
    }
   ],
   "source": [
    "_ = ok.grade('q1_2')"
   ]
  },
  {
   "cell_type": "markdown",
   "metadata": {},
   "source": [
    "**Question 1.3.** Avocados are sold in two types: organic and conventional. Make a table named `organic` containing only the data for organic avocados, and a table named `conventional` for conventional avocados."
   ]
  },
  {
   "cell_type": "code",
   "execution_count": 8,
   "metadata": {},
   "outputs": [],
   "source": [
    "#...organic\n",
    "organic = avocado[avocado.get('Type') == 'organic']"
   ]
  },
  {
   "cell_type": "code",
   "execution_count": 9,
   "metadata": {},
   "outputs": [],
   "source": [
    "#...conventional\n",
    "conventional = avocado[avocado.get('Type') == 'conventional']"
   ]
  },
  {
   "cell_type": "code",
   "execution_count": 10,
   "metadata": {},
   "outputs": [
    {
     "ename": "NameError",
     "evalue": "name 'ok' is not defined",
     "output_type": "error",
     "traceback": [
      "\u001b[1;31m---------------------------------------------------------------------------\u001b[0m",
      "\u001b[1;31mNameError\u001b[0m                                 Traceback (most recent call last)",
      "\u001b[1;32m<ipython-input-10-c00e33f7c4e5>\u001b[0m in \u001b[0;36m<module>\u001b[1;34m\u001b[0m\n\u001b[1;32m----> 1\u001b[1;33m \u001b[0m_\u001b[0m \u001b[1;33m=\u001b[0m \u001b[0mok\u001b[0m\u001b[1;33m.\u001b[0m\u001b[0mgrade\u001b[0m\u001b[1;33m(\u001b[0m\u001b[1;34m'q1_3'\u001b[0m\u001b[1;33m)\u001b[0m\u001b[1;33m\u001b[0m\u001b[0m\n\u001b[0m",
      "\u001b[1;31mNameError\u001b[0m: name 'ok' is not defined"
     ]
    }
   ],
   "source": [
    "_ = ok.grade('q1_3')"
   ]
  },
  {
   "cell_type": "markdown",
   "metadata": {},
   "source": [
    "**Question 1.4.**: Create a table named `Portland_max` which contains one column, `Volume`. The Volume column should be equal to the max volume of avocados (either organic or conventional) sold in Portland for each date. The index of your table should contain the dates.\n",
    "\n",
    "\n",
    "*Hint*: if you do this right, you won't need to use `.set_index()` to make the date the row label."
   ]
  },
  {
   "cell_type": "code",
   "execution_count": 11,
   "metadata": {},
   "outputs": [
    {
     "data": {
      "text/html": [
       "<div>\n",
       "<style scoped>\n",
       "    .dataframe tbody tr th:only-of-type {\n",
       "        vertical-align: middle;\n",
       "    }\n",
       "\n",
       "    .dataframe tbody tr th {\n",
       "        vertical-align: top;\n",
       "    }\n",
       "\n",
       "    .dataframe thead th {\n",
       "        text-align: right;\n",
       "    }\n",
       "</style>\n",
       "<table border=\"1\" class=\"dataframe\">\n",
       "  <thead>\n",
       "    <tr style=\"text-align: right;\">\n",
       "      <th></th>\n",
       "      <th>Volume</th>\n",
       "    </tr>\n",
       "    <tr>\n",
       "      <th>Date</th>\n",
       "      <th></th>\n",
       "    </tr>\n",
       "  </thead>\n",
       "  <tbody>\n",
       "    <tr>\n",
       "      <th>2015-01</th>\n",
       "      <td>495.626550</td>\n",
       "    </tr>\n",
       "    <tr>\n",
       "      <th>2015-02</th>\n",
       "      <td>520.715278</td>\n",
       "    </tr>\n",
       "    <tr>\n",
       "      <th>2015-03</th>\n",
       "      <td>447.882634</td>\n",
       "    </tr>\n",
       "    <tr>\n",
       "      <th>2015-04</th>\n",
       "      <td>512.133530</td>\n",
       "    </tr>\n",
       "    <tr>\n",
       "      <th>2015-05</th>\n",
       "      <td>602.611250</td>\n",
       "    </tr>\n",
       "    <tr>\n",
       "      <th>...</th>\n",
       "      <td>...</td>\n",
       "    </tr>\n",
       "    <tr>\n",
       "      <th>2017-11</th>\n",
       "      <td>490.306495</td>\n",
       "    </tr>\n",
       "    <tr>\n",
       "      <th>2017-12</th>\n",
       "      <td>531.155938</td>\n",
       "    </tr>\n",
       "    <tr>\n",
       "      <th>2018-01</th>\n",
       "      <td>602.547905</td>\n",
       "    </tr>\n",
       "    <tr>\n",
       "      <th>2018-02</th>\n",
       "      <td>742.036767</td>\n",
       "    </tr>\n",
       "    <tr>\n",
       "      <th>2018-03</th>\n",
       "      <td>671.479033</td>\n",
       "    </tr>\n",
       "  </tbody>\n",
       "</table>\n",
       "<p>39 rows × 1 columns</p>\n",
       "</div>"
      ],
      "text/plain": [
       "             Volume\n",
       "Date               \n",
       "2015-01  495.626550\n",
       "2015-02  520.715278\n",
       "2015-03  447.882634\n",
       "2015-04  512.133530\n",
       "2015-05  602.611250\n",
       "...             ...\n",
       "2017-11  490.306495\n",
       "2017-12  531.155938\n",
       "2018-01  602.547905\n",
       "2018-02  742.036767\n",
       "2018-03  671.479033\n",
       "\n",
       "[39 rows x 1 columns]"
      ]
     },
     "execution_count": 11,
     "metadata": {},
     "output_type": "execute_result"
    }
   ],
   "source": [
    "#...Portland_max\n",
    "Portland_max=avocado[avocado.get('Region')=='Portland'].groupby('Date').max().drop(columns=['Price', 'Type','Region'])\n",
    "Portland_max\n"
   ]
  },
  {
   "cell_type": "code",
   "execution_count": 12,
   "metadata": {},
   "outputs": [
    {
     "ename": "NameError",
     "evalue": "name 'ok' is not defined",
     "output_type": "error",
     "traceback": [
      "\u001b[1;31m---------------------------------------------------------------------------\u001b[0m",
      "\u001b[1;31mNameError\u001b[0m                                 Traceback (most recent call last)",
      "\u001b[1;32m<ipython-input-12-a48ad586001f>\u001b[0m in \u001b[0;36m<module>\u001b[1;34m\u001b[0m\n\u001b[1;32m----> 1\u001b[1;33m \u001b[0m_\u001b[0m \u001b[1;33m=\u001b[0m \u001b[0mok\u001b[0m\u001b[1;33m.\u001b[0m\u001b[0mgrade\u001b[0m\u001b[1;33m(\u001b[0m\u001b[1;34m'q1_4'\u001b[0m\u001b[1;33m)\u001b[0m\u001b[1;33m\u001b[0m\u001b[0m\n\u001b[0m",
      "\u001b[1;31mNameError\u001b[0m: name 'ok' is not defined"
     ]
    }
   ],
   "source": [
    "_ = ok.grade('q1_4')"
   ]
  },
  {
   "cell_type": "markdown",
   "metadata": {},
   "source": [
    "**Question 1.5.** Create a table named `avg_prive` containing one column named `AvgPrice` containing the average price of conventional avocados sold on each date. Your table should have one row for each date, and the row label should be the date.\n"
   ]
  },
  {
   "cell_type": "code",
   "execution_count": 13,
   "metadata": {},
   "outputs": [
    {
     "data": {
      "text/plain": [
       "45.18596226415095"
      ]
     },
     "execution_count": 13,
     "metadata": {},
     "output_type": "execute_result"
    }
   ],
   "source": [
    "#...avg_price\n",
    "avg_price = bpd.DataFrame().assign(\n",
    "    AvgPrice=conventional.groupby('Date').mean().get('Price')\n",
    ")\n",
    "avg_price.get('AvgPrice').sum()\n"
   ]
  },
  {
   "cell_type": "code",
   "execution_count": 14,
   "metadata": {},
   "outputs": [
    {
     "ename": "NameError",
     "evalue": "name 'ok' is not defined",
     "output_type": "error",
     "traceback": [
      "\u001b[1;31m---------------------------------------------------------------------------\u001b[0m",
      "\u001b[1;31mNameError\u001b[0m                                 Traceback (most recent call last)",
      "\u001b[1;32m<ipython-input-14-e968e3be949c>\u001b[0m in \u001b[0;36m<module>\u001b[1;34m\u001b[0m\n\u001b[1;32m----> 1\u001b[1;33m \u001b[0m_\u001b[0m \u001b[1;33m=\u001b[0m \u001b[0mok\u001b[0m\u001b[1;33m.\u001b[0m\u001b[0mgrade\u001b[0m\u001b[1;33m(\u001b[0m\u001b[1;34m'q1_5'\u001b[0m\u001b[1;33m)\u001b[0m\u001b[1;33m\u001b[0m\u001b[0m\n\u001b[0m",
      "\u001b[1;31mNameError\u001b[0m: name 'ok' is not defined"
     ]
    }
   ],
   "source": [
    "_ = ok.grade('q1_5')"
   ]
  },
  {
   "cell_type": "markdown",
   "metadata": {},
   "source": [
    "**Question 1.6.** Plot the average price of conventional avocados in the entire US as a function of date. Does the data support the \"avocadopocalypse\"; that is, were prices higher in 2017? Describe how you could use the given data to investigate the *reason* that prices were higher."
   ]
  },
  {
   "cell_type": "code",
   "execution_count": 15,
   "metadata": {},
   "outputs": [
    {
     "data": {
      "text/plain": [
       "<matplotlib.axes._subplots.AxesSubplot at 0x2594f39b518>"
      ]
     },
     "execution_count": 15,
     "metadata": {},
     "output_type": "execute_result"
    },
    {
     "data": {
      "image/png": "[encoded data removed]",
      "text/plain": [
       "<Figure size 432x288 with 1 Axes>"
      ]
     },
     "metadata": {},
     "output_type": "display_data"
    }
   ],
   "source": [
    "# Make your plot here\n",
    "avg_price.plot(kind='line', y='AvgPrice')"
   ]
  },
  {
   "cell_type": "markdown",
   "metadata": {},
   "source": [
    "<hr style=\"color:Maroon;background-color:Maroon;border:0 none; height: 3px;\">\n",
    "\n",
    "*Write your answer here.*\n",
    "\n",
    "<hr style=\"color:Maroon;background-color:Maroon;border:0 none; height: 3px;\">"
   ]
  },
  {
   "cell_type": "markdown",
   "metadata": {},
   "source": [
    "## 2. Power Outages\n"
   ]
  },
  {
   "cell_type": "markdown",
   "metadata": {},
   "source": [
    "The dataset below contains information about power outages that occurred in North America between 2000 to 2014. The data is a subset of the data available [here](https://www.kaggle.com/autunno/15-years-of-power-outages).  Run the next cell to load the data."
   ]
  },
  {
   "cell_type": "code",
   "execution_count": 16,
   "metadata": {
    "scrolled": true
   },
   "outputs": [
    {
     "data": {
      "text/html": [
       "<div>\n",
       "<style scoped>\n",
       "    .dataframe tbody tr th:only-of-type {\n",
       "        vertical-align: middle;\n",
       "    }\n",
       "\n",
       "    .dataframe tbody tr th {\n",
       "        vertical-align: top;\n",
       "    }\n",
       "\n",
       "    .dataframe thead th {\n",
       "        text-align: right;\n",
       "    }\n",
       "</style>\n",
       "<table border=\"1\" class=\"dataframe\">\n",
       "  <thead>\n",
       "    <tr style=\"text-align: right;\">\n",
       "      <th></th>\n",
       "      <th>Event Description</th>\n",
       "      <th>Year</th>\n",
       "      <th>Time Event Began</th>\n",
       "      <th>Date of Restoration</th>\n",
       "      <th>Time of Restoration</th>\n",
       "      <th>Respondent</th>\n",
       "      <th>Geographic Areas</th>\n",
       "      <th>NERC Region</th>\n",
       "      <th>Number of Customers Affected</th>\n",
       "      <th>Tags</th>\n",
       "    </tr>\n",
       "  </thead>\n",
       "  <tbody>\n",
       "    <tr>\n",
       "      <th>0</th>\n",
       "      <td>Severe Weather - Thunderstorms</td>\n",
       "      <td>2014</td>\n",
       "      <td>8:00 PM</td>\n",
       "      <td>7/2/2014</td>\n",
       "      <td>6:30 PM</td>\n",
       "      <td>Exelon Corporation/ComEd</td>\n",
       "      <td>Illinois</td>\n",
       "      <td>RFC</td>\n",
       "      <td>420,000</td>\n",
       "      <td>severe weather, thunderstorm</td>\n",
       "    </tr>\n",
       "    <tr>\n",
       "      <th>1</th>\n",
       "      <td>Severe Weather - Thunderstorms</td>\n",
       "      <td>2014</td>\n",
       "      <td>11:20 PM</td>\n",
       "      <td>7/1/2014</td>\n",
       "      <td>5:00 PM</td>\n",
       "      <td>Northern Indiana Public Service Company</td>\n",
       "      <td>North Central Indiana</td>\n",
       "      <td>RFC</td>\n",
       "      <td>127,000</td>\n",
       "      <td>severe weather, thunderstorm</td>\n",
       "    </tr>\n",
       "    <tr>\n",
       "      <th>2</th>\n",
       "      <td>Severe Weather - Thunderstorms</td>\n",
       "      <td>2014</td>\n",
       "      <td>5:55 PM</td>\n",
       "      <td>7/1/2014</td>\n",
       "      <td>2:53 AM</td>\n",
       "      <td>We Energies</td>\n",
       "      <td>Southeast  Wisconsin</td>\n",
       "      <td>MRO</td>\n",
       "      <td>120,000</td>\n",
       "      <td>severe weather, thunderstorm</td>\n",
       "    </tr>\n",
       "    <tr>\n",
       "      <th>3</th>\n",
       "      <td>Fuel Supply Emergency - Coal</td>\n",
       "      <td>2014</td>\n",
       "      <td>1:21 PM</td>\n",
       "      <td>Unknown</td>\n",
       "      <td>Unknown</td>\n",
       "      <td>We Energies</td>\n",
       "      <td>Wisconsin</td>\n",
       "      <td>MRO</td>\n",
       "      <td>Unknown</td>\n",
       "      <td>fuel supply emergency, coal</td>\n",
       "    </tr>\n",
       "    <tr>\n",
       "      <th>4</th>\n",
       "      <td>Physical Attack - Vandalism</td>\n",
       "      <td>2014</td>\n",
       "      <td>2:54 PM</td>\n",
       "      <td>6/24/2014</td>\n",
       "      <td>2:55 PM</td>\n",
       "      <td>Tennessee Valley Authority</td>\n",
       "      <td>Nashville, Tennessee</td>\n",
       "      <td>SERC</td>\n",
       "      <td>Unknown</td>\n",
       "      <td>vandalism, physical</td>\n",
       "    </tr>\n",
       "    <tr>\n",
       "      <th>...</th>\n",
       "      <td>...</td>\n",
       "      <td>...</td>\n",
       "      <td>...</td>\n",
       "      <td>...</td>\n",
       "      <td>...</td>\n",
       "      <td>...</td>\n",
       "      <td>...</td>\n",
       "      <td>...</td>\n",
       "      <td>...</td>\n",
       "      <td>...</td>\n",
       "    </tr>\n",
       "    <tr>\n",
       "      <th>1647</th>\n",
       "      <td>Transmission Line Loss</td>\n",
       "      <td>2000</td>\n",
       "      <td>4:00 p.m.</td>\n",
       "      <td>3/18/2000</td>\n",
       "      <td>5:10:00 PM</td>\n",
       "      <td>El Paso Elec. Co.</td>\n",
       "      <td>Texas</td>\n",
       "      <td>MAIN</td>\n",
       "      <td>100,000</td>\n",
       "      <td>transmission interruption</td>\n",
       "    </tr>\n",
       "    <tr>\n",
       "      <th>1648</th>\n",
       "      <td>Vandalism</td>\n",
       "      <td>2000</td>\n",
       "      <td>9:06 p.m.</td>\n",
       "      <td>NaN</td>\n",
       "      <td>NaN</td>\n",
       "      <td>Alliant Energy</td>\n",
       "      <td>Maine</td>\n",
       "      <td>MAIN</td>\n",
       "      <td>NaN</td>\n",
       "      <td>vandalism</td>\n",
       "    </tr>\n",
       "    <tr>\n",
       "      <th>1649</th>\n",
       "      <td>Ice Storm</td>\n",
       "      <td>2000</td>\n",
       "      <td>10:00 p.m.</td>\n",
       "      <td>2/3/2000</td>\n",
       "      <td>12:00:00 PM</td>\n",
       "      <td>Duke Power Co.</td>\n",
       "      <td>South Carolina</td>\n",
       "      <td>SERC</td>\n",
       "      <td>81,000</td>\n",
       "      <td>severe weather, winter storm</td>\n",
       "    </tr>\n",
       "    <tr>\n",
       "      <th>1650</th>\n",
       "      <td>Ice Storm</td>\n",
       "      <td>2000</td>\n",
       "      <td>7:00 p.m.</td>\n",
       "      <td>NaN</td>\n",
       "      <td>NaN</td>\n",
       "      <td>Carolina Power &amp; Light</td>\n",
       "      <td>North Carolina &amp; Northern South Carolina</td>\n",
       "      <td>SERC</td>\n",
       "      <td>173,000</td>\n",
       "      <td>severe weather, winter storm</td>\n",
       "    </tr>\n",
       "    <tr>\n",
       "      <th>1651</th>\n",
       "      <td>Ice Storm</td>\n",
       "      <td>2000</td>\n",
       "      <td>8:00 a.m.</td>\n",
       "      <td>1/28/2000</td>\n",
       "      <td>12:00:00 PM</td>\n",
       "      <td>Duke Power Co.</td>\n",
       "      <td>South Carolina</td>\n",
       "      <td>SERC</td>\n",
       "      <td>133,000</td>\n",
       "      <td>severe weather, winter storm</td>\n",
       "    </tr>\n",
       "  </tbody>\n",
       "</table>\n",
       "<p>1652 rows × 10 columns</p>\n",
       "</div>"
      ],
      "text/plain": [
       "                   Event Description  Year Time Event Began  \\\n",
       "0     Severe Weather - Thunderstorms  2014          8:00 PM   \n",
       "1     Severe Weather - Thunderstorms  2014         11:20 PM   \n",
       "2     Severe Weather - Thunderstorms  2014          5:55 PM   \n",
       "3       Fuel Supply Emergency - Coal  2014          1:21 PM   \n",
       "4        Physical Attack - Vandalism  2014          2:54 PM   \n",
       "...                              ...   ...              ...   \n",
       "1647          Transmission Line Loss  2000        4:00 p.m.   \n",
       "1648                       Vandalism  2000        9:06 p.m.   \n",
       "1649                       Ice Storm  2000       10:00 p.m.   \n",
       "1650                       Ice Storm  2000        7:00 p.m.   \n",
       "1651                       Ice Storm  2000        8:00 a.m.   \n",
       "\n",
       "     Date of Restoration Time of Restoration  \\\n",
       "0               7/2/2014             6:30 PM   \n",
       "1               7/1/2014             5:00 PM   \n",
       "2               7/1/2014             2:53 AM   \n",
       "3                Unknown             Unknown   \n",
       "4              6/24/2014             2:55 PM   \n",
       "...                  ...                 ...   \n",
       "1647           3/18/2000          5:10:00 PM   \n",
       "1648                 NaN                 NaN   \n",
       "1649            2/3/2000         12:00:00 PM   \n",
       "1650                 NaN                 NaN   \n",
       "1651           1/28/2000         12:00:00 PM   \n",
       "\n",
       "                                   Respondent  \\\n",
       "0                    Exelon Corporation/ComEd   \n",
       "1     Northern Indiana Public Service Company   \n",
       "2                                 We Energies   \n",
       "3                                 We Energies   \n",
       "4                  Tennessee Valley Authority   \n",
       "...                                       ...   \n",
       "1647                        El Paso Elec. Co.   \n",
       "1648                           Alliant Energy   \n",
       "1649                           Duke Power Co.   \n",
       "1650                   Carolina Power & Light   \n",
       "1651                           Duke Power Co.   \n",
       "\n",
       "                              Geographic Areas NERC Region  \\\n",
       "0                                     Illinois         RFC   \n",
       "1                        North Central Indiana         RFC   \n",
       "2                         Southeast  Wisconsin         MRO   \n",
       "3                                    Wisconsin         MRO   \n",
       "4                         Nashville, Tennessee        SERC   \n",
       "...                                        ...         ...   \n",
       "1647                                     Texas        MAIN   \n",
       "1648                                     Maine        MAIN   \n",
       "1649                            South Carolina        SERC   \n",
       "1650  North Carolina & Northern South Carolina        SERC   \n",
       "1651                            South Carolina        SERC   \n",
       "\n",
       "     Number of Customers Affected                          Tags  \n",
       "0                         420,000  severe weather, thunderstorm  \n",
       "1                         127,000  severe weather, thunderstorm  \n",
       "2                         120,000  severe weather, thunderstorm  \n",
       "3                         Unknown   fuel supply emergency, coal  \n",
       "4                         Unknown           vandalism, physical  \n",
       "...                           ...                           ...  \n",
       "1647                      100,000     transmission interruption  \n",
       "1648                          NaN                     vandalism  \n",
       "1649                       81,000  severe weather, winter storm  \n",
       "1650                      173,000  severe weather, winter storm  \n",
       "1651                      133,000  severe weather, winter storm  \n",
       "\n",
       "[1652 rows x 10 columns]"
      ]
     },
     "execution_count": 16,
     "metadata": {},
     "output_type": "execute_result"
    }
   ],
   "source": [
    "# just run this cell\n",
    "power = bpd.read_csv(\"powerdata.csv\")\n",
    "power"
   ]
  },
  {
   "cell_type": "markdown",
   "metadata": {},
   "source": [
    "**Question 2.1.** Find the proportion of all power outages that occured in the year 2010. Save your answer to the variable `outage_2010`."
   ]
  },
  {
   "cell_type": "code",
   "execution_count": 17,
   "metadata": {},
   "outputs": [
    {
     "data": {
      "text/plain": [
       "0.07445520581113801"
      ]
     },
     "execution_count": 17,
     "metadata": {},
     "output_type": "execute_result"
    }
   ],
   "source": [
    "#...outage_2010\n",
    "outage_2010 = power[power.get('Year') == 2010].shape[0] / power.shape[0]\n",
    "outage_2010"
   ]
  },
  {
   "cell_type": "code",
   "execution_count": 18,
   "metadata": {},
   "outputs": [
    {
     "ename": "NameError",
     "evalue": "name 'ok' is not defined",
     "output_type": "error",
     "traceback": [
      "\u001b[1;31m---------------------------------------------------------------------------\u001b[0m",
      "\u001b[1;31mNameError\u001b[0m                                 Traceback (most recent call last)",
      "\u001b[1;32m<ipython-input-18-a56116622c38>\u001b[0m in \u001b[0;36m<module>\u001b[1;34m\u001b[0m\n\u001b[1;32m----> 1\u001b[1;33m \u001b[0m_\u001b[0m \u001b[1;33m=\u001b[0m \u001b[0mok\u001b[0m\u001b[1;33m.\u001b[0m\u001b[0mgrade\u001b[0m\u001b[1;33m(\u001b[0m\u001b[1;34m'q2_1'\u001b[0m\u001b[1;33m)\u001b[0m\u001b[1;33m\u001b[0m\u001b[0m\n\u001b[0m",
      "\u001b[1;31mNameError\u001b[0m: name 'ok' is not defined"
     ]
    }
   ],
   "source": [
    "_ = ok.grade('q2_1')"
   ]
  },
  {
   "cell_type": "markdown",
   "metadata": {},
   "source": [
    "**Question 2.2.** Make a bar chart showing the number of outages per NERC Region. Make sure that the bars are sorted from longest to shortest. You can learn more about what a NERC region is [here](https://www.nerc.com/Pages/default.aspx)."
   ]
  },
  {
   "cell_type": "code",
   "execution_count": 19,
   "metadata": {},
   "outputs": [
    {
     "data": {
      "text/plain": [
       "<matplotlib.axes._subplots.AxesSubplot at 0x25951542048>"
      ]
     },
     "execution_count": 19,
     "metadata": {},
     "output_type": "execute_result"
    },
    {
     "data": {
      "image/png": "[encoded data removed]",
      "text/plain": [
       "<Figure size 432x288 with 1 Axes>"
      ]
     },
     "metadata": {},
     "output_type": "display_data"
    }
   ],
   "source": [
    "#- put your code here\n",
    "#can choose to get any column that has no null vals\n",
    "power.groupby('NERC Region').count().sort_values('Year').plot(kind='barh', y='Year')"
   ]
  },
  {
   "cell_type": "markdown",
   "metadata": {},
   "source": [
    "**Question 2.3.** Draw a line plot of the count of power outages by year."
   ]
  },
  {
   "cell_type": "code",
   "execution_count": 20,
   "metadata": {},
   "outputs": [
    {
     "data": {
      "text/plain": [
       "<matplotlib.axes._subplots.AxesSubplot at 0x259514a1b00>"
      ]
     },
     "execution_count": 20,
     "metadata": {},
     "output_type": "execute_result"
    },
    {
     "data": {
      "image/png": "[encoded data removed]",
      "text/plain": [
       "<Figure size 432x288 with 1 Axes>"
      ]
     },
     "metadata": {},
     "output_type": "display_data"
    }
   ],
   "source": [
    "#- put your code here:\n",
    "# can choose any column that has no null vals as y column here\n",
    "power.groupby('Year').count().plot(y='Event Description')"
   ]
  },
  {
   "cell_type": "markdown",
   "metadata": {},
   "source": [
    "**Question 2.4.** We notice that there is a spike in power outages in the year 2011. Let's explore some of the data of the outages in the year 2011. Create a table named `power_2011` which has one column, `Count`, which is a count of the number of times that `Event Description` occured in 2011. The index should contain the event descriptions."
   ]
  },
  {
   "cell_type": "code",
   "execution_count": 21,
   "metadata": {},
   "outputs": [
    {
     "data": {
      "text/html": [
       "<div>\n",
       "<style scoped>\n",
       "    .dataframe tbody tr th:only-of-type {\n",
       "        vertical-align: middle;\n",
       "    }\n",
       "\n",
       "    .dataframe tbody tr th {\n",
       "        vertical-align: top;\n",
       "    }\n",
       "\n",
       "    .dataframe thead th {\n",
       "        text-align: right;\n",
       "    }\n",
       "</style>\n",
       "<table border=\"1\" class=\"dataframe\">\n",
       "  <thead>\n",
       "    <tr style=\"text-align: right;\">\n",
       "      <th></th>\n",
       "      <th>Count</th>\n",
       "    </tr>\n",
       "    <tr>\n",
       "      <th>Event Description</th>\n",
       "      <th></th>\n",
       "    </tr>\n",
       "  </thead>\n",
       "  <tbody>\n",
       "    <tr>\n",
       "      <th>Actual Physical Attack</th>\n",
       "      <td>1</td>\n",
       "    </tr>\n",
       "    <tr>\n",
       "      <th>Cold Weather Event</th>\n",
       "      <td>1</td>\n",
       "    </tr>\n",
       "    <tr>\n",
       "      <th>Distribution System Interruption</th>\n",
       "      <td>1</td>\n",
       "    </tr>\n",
       "    <tr>\n",
       "      <th>Earthquake</th>\n",
       "      <td>1</td>\n",
       "    </tr>\n",
       "    <tr>\n",
       "      <th>Electrical Fault at Generator</th>\n",
       "      <td>1</td>\n",
       "    </tr>\n",
       "    <tr>\n",
       "      <th>...</th>\n",
       "      <td>...</td>\n",
       "    </tr>\n",
       "    <tr>\n",
       "      <th>Transmission Level Interruption</th>\n",
       "      <td>1</td>\n",
       "    </tr>\n",
       "    <tr>\n",
       "      <th>Transmission Level Outage</th>\n",
       "      <td>1</td>\n",
       "    </tr>\n",
       "    <tr>\n",
       "      <th>Transmission/Distribution Interruption; Load Shed; Generation Inadequacy</th>\n",
       "      <td>1</td>\n",
       "    </tr>\n",
       "    <tr>\n",
       "      <th>Vandalism</th>\n",
       "      <td>79</td>\n",
       "    </tr>\n",
       "    <tr>\n",
       "      <th>Winter Storm</th>\n",
       "      <td>10</td>\n",
       "    </tr>\n",
       "  </tbody>\n",
       "</table>\n",
       "<p>33 rows × 1 columns</p>\n",
       "</div>"
      ],
      "text/plain": [
       "                                                    Count\n",
       "Event Description                                        \n",
       "Actual Physical Attack                                  1\n",
       "Cold Weather Event                                      1\n",
       "Distribution System Interruption                        1\n",
       "Earthquake                                              1\n",
       "Electrical Fault at Generator                           1\n",
       "...                                                   ...\n",
       "Transmission Level Interruption                         1\n",
       "Transmission Level Outage                               1\n",
       "Transmission/Distribution Interruption; Load Sh...      1\n",
       "Vandalism                                              79\n",
       "Winter Storm                                           10\n",
       "\n",
       "[33 rows x 1 columns]"
      ]
     },
     "execution_count": 21,
     "metadata": {},
     "output_type": "execute_result"
    }
   ],
   "source": [
    "#...power_2011\n",
    "power_count = power[power.get('Year') == 2011].groupby('Event Description').count()\n",
    "power_2011 = bpd.DataFrame().assign(Count=power_count.get('Year'))\n",
    "power_2011"
   ]
  },
  {
   "cell_type": "code",
   "execution_count": 22,
   "metadata": {},
   "outputs": [
    {
     "ename": "NameError",
     "evalue": "name 'ok' is not defined",
     "output_type": "error",
     "traceback": [
      "\u001b[1;31m---------------------------------------------------------------------------\u001b[0m",
      "\u001b[1;31mNameError\u001b[0m                                 Traceback (most recent call last)",
      "\u001b[1;32m<ipython-input-22-e2c53b622ef1>\u001b[0m in \u001b[0;36m<module>\u001b[1;34m\u001b[0m\n\u001b[1;32m----> 1\u001b[1;33m \u001b[0m_\u001b[0m \u001b[1;33m=\u001b[0m \u001b[0mok\u001b[0m\u001b[1;33m.\u001b[0m\u001b[0mgrade\u001b[0m\u001b[1;33m(\u001b[0m\u001b[1;34m'q2_4'\u001b[0m\u001b[1;33m)\u001b[0m\u001b[1;33m\u001b[0m\u001b[0m\n\u001b[0m",
      "\u001b[1;31mNameError\u001b[0m: name 'ok' is not defined"
     ]
    }
   ],
   "source": [
    "_ = ok.grade('q2_4')"
   ]
  },
  {
   "cell_type": "markdown",
   "metadata": {},
   "source": [
    "**Question 2.5.** How many outages were there in New York in 2011?\n",
    "\n",
    "*Hint*: There are many geographic areas in New York For instance, \"Manhattan, New York\" is one, \"Central New York\" is another."
   ]
  },
  {
   "cell_type": "code",
   "execution_count": 23,
   "metadata": {},
   "outputs": [
    {
     "data": {
      "text/plain": [
       "21"
      ]
     },
     "execution_count": 23,
     "metadata": {},
     "output_type": "execute_result"
    }
   ],
   "source": [
    "#...ny_outages\n",
    "ny_outages = power[(power.get('Geographic Areas').str.contains('New York')) & (power.get('Year') == 2011)].shape[0]\n",
    "ny_outages"
   ]
  },
  {
   "cell_type": "code",
   "execution_count": null,
   "metadata": {},
   "outputs": [],
   "source": [
    "_ = ok.grade('q2_5')"
   ]
  },
  {
   "cell_type": "markdown",
   "metadata": {},
   "source": [
    "## 3. Defining Functions"
   ]
  },
  {
   "cell_type": "markdown",
   "metadata": {},
   "source": [
    "**Question 3.1.** Define a function named `square_and_cube` that takes in x and returns an array containing two items: x squared and x cubed. For all the function questions in this assignment, feel free to add additional lines if needed."
   ]
  },
  {
   "cell_type": "code",
   "execution_count": 7,
   "metadata": {},
   "outputs": [],
   "source": [
    "def square_and_cube(x):\n",
    "    ..."
   ]
  },
  {
   "cell_type": "code",
   "execution_count": 8,
   "metadata": {},
   "outputs": [],
   "source": [
    "#DELETE\n",
    "def square_and_cube(x):\n",
    "    return np.array([x**2, x**3])"
   ]
  },
  {
   "cell_type": "code",
   "execution_count": null,
   "metadata": {},
   "outputs": [],
   "source": [
    "_ = ok.grade('q3_1')"
   ]
  },
  {
   "cell_type": "markdown",
   "metadata": {},
   "source": [
    "**Question 3.2.** Define a function named `distance` that takes in four parameters x1, y1, x2, y2 and returns the Euclidean distance (the \"ordinary\" straight-line distance) between point (x1, y1) and point (x2, y2)."
   ]
  },
  {
   "cell_type": "code",
   "execution_count": null,
   "metadata": {},
   "outputs": [],
   "source": [
    "def distance(x1, y1, x2, y2):\n",
    "    ..."
   ]
  },
  {
   "cell_type": "code",
   "execution_count": null,
   "metadata": {},
   "outputs": [],
   "source": [
    "#DELETE\n",
    "def distance(x1, y1, x2, y2):\n",
    "    return ((y2 - y1) ** 2 + (x2 - x1) ** 2) ** 0.5"
   ]
  },
  {
   "cell_type": "code",
   "execution_count": null,
   "metadata": {},
   "outputs": [],
   "source": [
    "_ = ok.grade('q3_2')"
   ]
  },
  {
   "cell_type": "markdown",
   "metadata": {},
   "source": [
    "**Question 3.3.** Define a function named `array_distance` that takes in two arrays array([x1, y1]) and array([x2, y2]) and returns the Euclidean distance between point (x1, y1) and point (x2, y2). Feel free to use the `distance` function you defined."
   ]
  },
  {
   "cell_type": "code",
   "execution_count": null,
   "metadata": {},
   "outputs": [],
   "source": [
    "def array_distance(array1, array2):\n",
    "    ..."
   ]
  },
  {
   "cell_type": "code",
   "execution_count": null,
   "metadata": {},
   "outputs": [],
   "source": [
    "#DELETE\n",
    "def array_distance(array1, array2):\n",
    "    x1 = array1[0]\n",
    "    y1 = array1[1]\n",
    "    x2 = array2[0]\n",
    "    y2 = array2[1]\n",
    "    return distance(x1, y1, x2, y2)"
   ]
  },
  {
   "cell_type": "code",
   "execution_count": null,
   "metadata": {},
   "outputs": [],
   "source": [
    "_ = ok.grade('q3_3')"
   ]
  },
  {
   "cell_type": "markdown",
   "metadata": {},
   "source": [
    "**Question 3.4.** Define a function named `closer_to_origin` that takes in two arrays array([x1, y1]) and array([x2, y2]), compares which point in (x1, y1) and (x2, y2) is closer to the origin, and returns that point's distance from the origin. Feel free to use the previous functions you defined."
   ]
  },
  {
   "cell_type": "code",
   "execution_count": null,
   "metadata": {},
   "outputs": [],
   "source": [
    "def closer_to_origin(array1, array2):\n",
    "    ..."
   ]
  },
  {
   "cell_type": "code",
   "execution_count": null,
   "metadata": {},
   "outputs": [],
   "source": [
    "#DELETE\n",
    "def closer_to_origin(array1, array2):\n",
    "    dist1 = array_distance(array1, np.array([0,0]))\n",
    "    dist2 = array_distance(array2, np.array([0,0]))\n",
    "    return min(dist1, dist2)"
   ]
  },
  {
   "cell_type": "code",
   "execution_count": null,
   "metadata": {},
   "outputs": [],
   "source": [
    "_ = ok.grade('q3_4')"
   ]
  },
  {
   "cell_type": "markdown",
   "metadata": {},
   "source": [
    "## 4. Olympic Medals"
   ]
  },
  {
   "cell_type": "markdown",
   "metadata": {},
   "source": [
    "In this question, we will analyze data on Olympic athletes who won medals in the Winter Olympic Games from 1896-2014. You can find the data [here](https://www.kaggle.com/the-guardian/olympic-games#dictionary.csv)"
   ]
  },
  {
   "cell_type": "markdown",
   "metadata": {},
   "source": [
    "The data is in a CSV file called `winter.csv`. Read this file into a table named `winter`. There is no good index, we will leave it unset."
   ]
  },
  {
   "cell_type": "code",
   "execution_count": 10,
   "metadata": {},
   "outputs": [
    {
     "data": {
      "text/html": [
       "<div>\n",
       "<style scoped>\n",
       "    .dataframe tbody tr th:only-of-type {\n",
       "        vertical-align: middle;\n",
       "    }\n",
       "\n",
       "    .dataframe tbody tr th {\n",
       "        vertical-align: top;\n",
       "    }\n",
       "\n",
       "    .dataframe thead th {\n",
       "        text-align: right;\n",
       "    }\n",
       "</style>\n",
       "<table border=\"1\" class=\"dataframe\">\n",
       "  <thead>\n",
       "    <tr style=\"text-align: right;\">\n",
       "      <th></th>\n",
       "      <th>Year</th>\n",
       "      <th>City</th>\n",
       "      <th>Sport</th>\n",
       "      <th>Discipline</th>\n",
       "      <th>Athlete</th>\n",
       "      <th>Country</th>\n",
       "      <th>Gender</th>\n",
       "      <th>Event</th>\n",
       "      <th>Medal</th>\n",
       "    </tr>\n",
       "  </thead>\n",
       "  <tbody>\n",
       "    <tr>\n",
       "      <th>0</th>\n",
       "      <td>1924</td>\n",
       "      <td>Chamonix</td>\n",
       "      <td>Biathlon</td>\n",
       "      <td>Biathlon</td>\n",
       "      <td>BERTHET, G.</td>\n",
       "      <td>FRA</td>\n",
       "      <td>Men</td>\n",
       "      <td>Military Patrol</td>\n",
       "      <td>Bronze</td>\n",
       "    </tr>\n",
       "    <tr>\n",
       "      <th>1</th>\n",
       "      <td>1924</td>\n",
       "      <td>Chamonix</td>\n",
       "      <td>Biathlon</td>\n",
       "      <td>Biathlon</td>\n",
       "      <td>MANDRILLON, C.</td>\n",
       "      <td>FRA</td>\n",
       "      <td>Men</td>\n",
       "      <td>Military Patrol</td>\n",
       "      <td>Bronze</td>\n",
       "    </tr>\n",
       "    <tr>\n",
       "      <th>2</th>\n",
       "      <td>1924</td>\n",
       "      <td>Chamonix</td>\n",
       "      <td>Biathlon</td>\n",
       "      <td>Biathlon</td>\n",
       "      <td>MANDRILLON, Maurice</td>\n",
       "      <td>FRA</td>\n",
       "      <td>Men</td>\n",
       "      <td>Military Patrol</td>\n",
       "      <td>Bronze</td>\n",
       "    </tr>\n",
       "    <tr>\n",
       "      <th>3</th>\n",
       "      <td>1924</td>\n",
       "      <td>Chamonix</td>\n",
       "      <td>Biathlon</td>\n",
       "      <td>Biathlon</td>\n",
       "      <td>VANDELLE, André</td>\n",
       "      <td>FRA</td>\n",
       "      <td>Men</td>\n",
       "      <td>Military Patrol</td>\n",
       "      <td>Bronze</td>\n",
       "    </tr>\n",
       "    <tr>\n",
       "      <th>4</th>\n",
       "      <td>1924</td>\n",
       "      <td>Chamonix</td>\n",
       "      <td>Biathlon</td>\n",
       "      <td>Biathlon</td>\n",
       "      <td>AUFDENBLATTEN, Adolf</td>\n",
       "      <td>SUI</td>\n",
       "      <td>Men</td>\n",
       "      <td>Military Patrol</td>\n",
       "      <td>Gold</td>\n",
       "    </tr>\n",
       "    <tr>\n",
       "      <th>...</th>\n",
       "      <td>...</td>\n",
       "      <td>...</td>\n",
       "      <td>...</td>\n",
       "      <td>...</td>\n",
       "      <td>...</td>\n",
       "      <td>...</td>\n",
       "      <td>...</td>\n",
       "      <td>...</td>\n",
       "      <td>...</td>\n",
       "    </tr>\n",
       "    <tr>\n",
       "      <th>5765</th>\n",
       "      <td>2014</td>\n",
       "      <td>Sochi</td>\n",
       "      <td>Skiing</td>\n",
       "      <td>Snowboard</td>\n",
       "      <td>JONES, Jenny</td>\n",
       "      <td>GBR</td>\n",
       "      <td>Women</td>\n",
       "      <td>Slopestyle</td>\n",
       "      <td>Bronze</td>\n",
       "    </tr>\n",
       "    <tr>\n",
       "      <th>5766</th>\n",
       "      <td>2014</td>\n",
       "      <td>Sochi</td>\n",
       "      <td>Skiing</td>\n",
       "      <td>Snowboard</td>\n",
       "      <td>ANDERSON, Jamie</td>\n",
       "      <td>USA</td>\n",
       "      <td>Women</td>\n",
       "      <td>Slopestyle</td>\n",
       "      <td>Gold</td>\n",
       "    </tr>\n",
       "    <tr>\n",
       "      <th>5767</th>\n",
       "      <td>2014</td>\n",
       "      <td>Sochi</td>\n",
       "      <td>Skiing</td>\n",
       "      <td>Snowboard</td>\n",
       "      <td>MALTAIS, Dominique</td>\n",
       "      <td>CAN</td>\n",
       "      <td>Women</td>\n",
       "      <td>Snowboard Cross</td>\n",
       "      <td>Silver</td>\n",
       "    </tr>\n",
       "    <tr>\n",
       "      <th>5768</th>\n",
       "      <td>2014</td>\n",
       "      <td>Sochi</td>\n",
       "      <td>Skiing</td>\n",
       "      <td>Snowboard</td>\n",
       "      <td>SAMKOVA, Eva</td>\n",
       "      <td>CZE</td>\n",
       "      <td>Women</td>\n",
       "      <td>Snowboard Cross</td>\n",
       "      <td>Gold</td>\n",
       "    </tr>\n",
       "    <tr>\n",
       "      <th>5769</th>\n",
       "      <td>2014</td>\n",
       "      <td>Sochi</td>\n",
       "      <td>Skiing</td>\n",
       "      <td>Snowboard</td>\n",
       "      <td>TRESPEUCH, Chloe</td>\n",
       "      <td>FRA</td>\n",
       "      <td>Women</td>\n",
       "      <td>Snowboard Cross</td>\n",
       "      <td>Bronze</td>\n",
       "    </tr>\n",
       "  </tbody>\n",
       "</table>\n",
       "<p>5770 rows × 9 columns</p>\n",
       "</div>"
      ],
      "text/plain": [
       "      Year      City     Sport Discipline               Athlete Country  \\\n",
       "0     1924  Chamonix  Biathlon   Biathlon           BERTHET, G.     FRA   \n",
       "1     1924  Chamonix  Biathlon   Biathlon        MANDRILLON, C.     FRA   \n",
       "2     1924  Chamonix  Biathlon   Biathlon   MANDRILLON, Maurice     FRA   \n",
       "3     1924  Chamonix  Biathlon   Biathlon       VANDELLE, André     FRA   \n",
       "4     1924  Chamonix  Biathlon   Biathlon  AUFDENBLATTEN, Adolf     SUI   \n",
       "...    ...       ...       ...        ...                   ...     ...   \n",
       "5765  2014     Sochi    Skiing  Snowboard          JONES, Jenny     GBR   \n",
       "5766  2014     Sochi    Skiing  Snowboard       ANDERSON, Jamie     USA   \n",
       "5767  2014     Sochi    Skiing  Snowboard    MALTAIS, Dominique     CAN   \n",
       "5768  2014     Sochi    Skiing  Snowboard          SAMKOVA, Eva     CZE   \n",
       "5769  2014     Sochi    Skiing  Snowboard      TRESPEUCH, Chloe     FRA   \n",
       "\n",
       "     Gender            Event   Medal  \n",
       "0       Men  Military Patrol  Bronze  \n",
       "1       Men  Military Patrol  Bronze  \n",
       "2       Men  Military Patrol  Bronze  \n",
       "3       Men  Military Patrol  Bronze  \n",
       "4       Men  Military Patrol    Gold  \n",
       "...     ...              ...     ...  \n",
       "5765  Women       Slopestyle  Bronze  \n",
       "5766  Women       Slopestyle    Gold  \n",
       "5767  Women  Snowboard Cross  Silver  \n",
       "5768  Women  Snowboard Cross    Gold  \n",
       "5769  Women  Snowboard Cross  Bronze  \n",
       "\n",
       "[5770 rows x 9 columns]"
      ]
     },
     "execution_count": 10,
     "metadata": {},
     "output_type": "execute_result"
    }
   ],
   "source": [
    "winter_data = bpd.read_csv('winter.csv')\n",
    "winter_data"
   ]
  },
  {
   "cell_type": "markdown",
   "metadata": {},
   "source": [
    "The `Country` column contains International Olympic Committee (IOC) [country codes](https://olympics.fandom.com/wiki/List_of_IOC_country_codes). We want to convert these country codes into actual country names that everyone can understand.\n",
    "\n",
    "We'll use a Python [dictionary](https://www.tutorialspoint.com/python/python_dictionary.htm) to help us with this conversion. A dictionary is a simple way to map a unique key to a value. For example, the below dictionary maps course codes to course names."
   ]
  },
  {
   "cell_type": "code",
   "execution_count": null,
   "metadata": {},
   "outputs": [],
   "source": [
    "dsc_courses = {\n",
    "    'DSC 10': 'Principles of Data Science',\n",
    "    'DSC 20': 'Programming and Basic Data Structures for Data Science',\n",
    "    'DSC 30': 'Data Structures and Algorithms for Data Science',\n",
    "    'DSC 40A': 'Theoretical Foundations of Data Science I',\n",
    "    'DSC 40B': 'Theoretical Foundations of Data Science II',\n",
    "    'DSC 80': 'The Practice and Application of Data Science'\n",
    "}"
   ]
  },
  {
   "cell_type": "markdown",
   "metadata": {},
   "source": [
    "We can access the value corresponding to each key using bracket notation."
   ]
  },
  {
   "cell_type": "code",
   "execution_count": null,
   "metadata": {},
   "outputs": [],
   "source": [
    "dsc10_name = dsc_courses['DSC 10']\n",
    "dsc10_name"
   ]
  },
  {
   "cell_type": "markdown",
   "metadata": {},
   "source": [
    "Here, `DSC 10` is the key and `Principles of Data Science` is the value.\n",
    "\n",
    "Let's use a dictionary to help us with our country code to country name conversion. Below is a dictionary containing country codes as keys and country names as values for each of the countries in our dataset of Winter Olympic medal winners."
   ]
  },
  {
   "cell_type": "code",
   "execution_count": 11,
   "metadata": {},
   "outputs": [],
   "source": [
    "country_codes = {\n",
    " 'USA': 'United States',\n",
    " 'CAN': 'Canada',\n",
    " 'NOR': 'Norway',\n",
    " 'URS': 'Soviet Union',\n",
    " 'FIN': 'Finland',\n",
    " 'SWE': 'Sweden',\n",
    " 'GER': 'Germany',\n",
    " 'SUI': 'Switzerland',\n",
    " 'AUT': 'Austria',\n",
    " 'RUS': 'Russia',\n",
    " 'ITA': 'Italy',\n",
    " 'GDR': 'East Germany',\n",
    " 'TCH': 'Czechoslovakia',\n",
    " 'FRA': 'France',\n",
    " 'NED': 'Netherlands',\n",
    " 'FRG': 'West Germany',\n",
    " 'KOR': 'Korea, South',\n",
    " 'CHN': 'China',\n",
    " 'GBR': 'United Kingdom',\n",
    " 'CZE': 'Czech Republic',\n",
    " 'JPN': 'Japan',\n",
    " 'EUN': 'Unified Team',\n",
    " 'POL': 'Poland',\n",
    " 'EUA': 'United Team of Germany',\n",
    " 'SLO': 'Slovenia',\n",
    " 'AUS': 'Australia',\n",
    " 'BLR': 'Belarus',\n",
    " 'LAT': 'Latvia',\n",
    " 'BEL': 'Belgium',\n",
    " 'HUN': 'Hungary',\n",
    " 'UKR': 'Ukraine',\n",
    " 'CRO': 'Croatia',\n",
    " 'LIE': 'Liechtenstein',\n",
    " 'YUG': 'Yugoslavia',\n",
    " 'EST': 'Estonia',\n",
    " 'KAZ': 'Kazakhstan',\n",
    " 'BUL': 'Bulgaria',\n",
    " 'DEN': 'Denmark',\n",
    " 'SVK': 'Slovakia',\n",
    " 'ROU': 'Romania',\n",
    " 'ESP': 'Spain',\n",
    " 'PRK': 'Korea, North',\n",
    " 'LUX': 'Luxembourg',\n",
    " 'NZL': 'New Zealand',\n",
    " 'UZB': 'Uzbekistan'}"
   ]
  },
  {
   "cell_type": "markdown",
   "metadata": {},
   "source": [
    "**Question 4.1.** Using `country_codes`, define a function named `code_to_country` that takes as input a country code and returns the corresponding country name. (Should be only one line)"
   ]
  },
  {
   "cell_type": "code",
   "execution_count": null,
   "metadata": {},
   "outputs": [],
   "source": [
    "def code_to_country(code):\n",
    "    ..."
   ]
  },
  {
   "cell_type": "code",
   "execution_count": 12,
   "metadata": {},
   "outputs": [],
   "source": [
    "#DELETE\n",
    "def code_to_country(code):\n",
    "    return country_codes[code]"
   ]
  },
  {
   "cell_type": "code",
   "execution_count": null,
   "metadata": {},
   "outputs": [],
   "source": [
    "_ = ok.grade('q4_1')"
   ]
  },
  {
   "cell_type": "markdown",
   "metadata": {},
   "source": [
    "**Question 4.2.** Using your `code_to_country` function, use `.get(col).apply()` to convert all of the country codes into country names in the `Country` column. Do this without creating an additional column. Store your result in `winter`.\n",
    "\n",
    "*Hint*: Is there a way to use the `.assign` method to *replace* values in these two columns without creating additional columns?"
   ]
  },
  {
   "cell_type": "code",
   "execution_count": 13,
   "metadata": {},
   "outputs": [
    {
     "data": {
      "text/html": [
       "<div>\n",
       "<style scoped>\n",
       "    .dataframe tbody tr th:only-of-type {\n",
       "        vertical-align: middle;\n",
       "    }\n",
       "\n",
       "    .dataframe tbody tr th {\n",
       "        vertical-align: top;\n",
       "    }\n",
       "\n",
       "    .dataframe thead th {\n",
       "        text-align: right;\n",
       "    }\n",
       "</style>\n",
       "<table border=\"1\" class=\"dataframe\">\n",
       "  <thead>\n",
       "    <tr style=\"text-align: right;\">\n",
       "      <th></th>\n",
       "      <th>Year</th>\n",
       "      <th>City</th>\n",
       "      <th>Sport</th>\n",
       "      <th>Discipline</th>\n",
       "      <th>Athlete</th>\n",
       "      <th>Country</th>\n",
       "      <th>Gender</th>\n",
       "      <th>Event</th>\n",
       "      <th>Medal</th>\n",
       "    </tr>\n",
       "  </thead>\n",
       "  <tbody>\n",
       "    <tr>\n",
       "      <th>0</th>\n",
       "      <td>1924</td>\n",
       "      <td>Chamonix</td>\n",
       "      <td>Biathlon</td>\n",
       "      <td>Biathlon</td>\n",
       "      <td>BERTHET, G.</td>\n",
       "      <td>France</td>\n",
       "      <td>Men</td>\n",
       "      <td>Military Patrol</td>\n",
       "      <td>Bronze</td>\n",
       "    </tr>\n",
       "    <tr>\n",
       "      <th>1</th>\n",
       "      <td>1924</td>\n",
       "      <td>Chamonix</td>\n",
       "      <td>Biathlon</td>\n",
       "      <td>Biathlon</td>\n",
       "      <td>MANDRILLON, C.</td>\n",
       "      <td>France</td>\n",
       "      <td>Men</td>\n",
       "      <td>Military Patrol</td>\n",
       "      <td>Bronze</td>\n",
       "    </tr>\n",
       "    <tr>\n",
       "      <th>2</th>\n",
       "      <td>1924</td>\n",
       "      <td>Chamonix</td>\n",
       "      <td>Biathlon</td>\n",
       "      <td>Biathlon</td>\n",
       "      <td>MANDRILLON, Maurice</td>\n",
       "      <td>France</td>\n",
       "      <td>Men</td>\n",
       "      <td>Military Patrol</td>\n",
       "      <td>Bronze</td>\n",
       "    </tr>\n",
       "    <tr>\n",
       "      <th>3</th>\n",
       "      <td>1924</td>\n",
       "      <td>Chamonix</td>\n",
       "      <td>Biathlon</td>\n",
       "      <td>Biathlon</td>\n",
       "      <td>VANDELLE, André</td>\n",
       "      <td>France</td>\n",
       "      <td>Men</td>\n",
       "      <td>Military Patrol</td>\n",
       "      <td>Bronze</td>\n",
       "    </tr>\n",
       "    <tr>\n",
       "      <th>4</th>\n",
       "      <td>1924</td>\n",
       "      <td>Chamonix</td>\n",
       "      <td>Biathlon</td>\n",
       "      <td>Biathlon</td>\n",
       "      <td>AUFDENBLATTEN, Adolf</td>\n",
       "      <td>Switzerland</td>\n",
       "      <td>Men</td>\n",
       "      <td>Military Patrol</td>\n",
       "      <td>Gold</td>\n",
       "    </tr>\n",
       "    <tr>\n",
       "      <th>...</th>\n",
       "      <td>...</td>\n",
       "      <td>...</td>\n",
       "      <td>...</td>\n",
       "      <td>...</td>\n",
       "      <td>...</td>\n",
       "      <td>...</td>\n",
       "      <td>...</td>\n",
       "      <td>...</td>\n",
       "      <td>...</td>\n",
       "    </tr>\n",
       "    <tr>\n",
       "      <th>5765</th>\n",
       "      <td>2014</td>\n",
       "      <td>Sochi</td>\n",
       "      <td>Skiing</td>\n",
       "      <td>Snowboard</td>\n",
       "      <td>JONES, Jenny</td>\n",
       "      <td>United Kingdom</td>\n",
       "      <td>Women</td>\n",
       "      <td>Slopestyle</td>\n",
       "      <td>Bronze</td>\n",
       "    </tr>\n",
       "    <tr>\n",
       "      <th>5766</th>\n",
       "      <td>2014</td>\n",
       "      <td>Sochi</td>\n",
       "      <td>Skiing</td>\n",
       "      <td>Snowboard</td>\n",
       "      <td>ANDERSON, Jamie</td>\n",
       "      <td>United States</td>\n",
       "      <td>Women</td>\n",
       "      <td>Slopestyle</td>\n",
       "      <td>Gold</td>\n",
       "    </tr>\n",
       "    <tr>\n",
       "      <th>5767</th>\n",
       "      <td>2014</td>\n",
       "      <td>Sochi</td>\n",
       "      <td>Skiing</td>\n",
       "      <td>Snowboard</td>\n",
       "      <td>MALTAIS, Dominique</td>\n",
       "      <td>Canada</td>\n",
       "      <td>Women</td>\n",
       "      <td>Snowboard Cross</td>\n",
       "      <td>Silver</td>\n",
       "    </tr>\n",
       "    <tr>\n",
       "      <th>5768</th>\n",
       "      <td>2014</td>\n",
       "      <td>Sochi</td>\n",
       "      <td>Skiing</td>\n",
       "      <td>Snowboard</td>\n",
       "      <td>SAMKOVA, Eva</td>\n",
       "      <td>Czech Republic</td>\n",
       "      <td>Women</td>\n",
       "      <td>Snowboard Cross</td>\n",
       "      <td>Gold</td>\n",
       "    </tr>\n",
       "    <tr>\n",
       "      <th>5769</th>\n",
       "      <td>2014</td>\n",
       "      <td>Sochi</td>\n",
       "      <td>Skiing</td>\n",
       "      <td>Snowboard</td>\n",
       "      <td>TRESPEUCH, Chloe</td>\n",
       "      <td>France</td>\n",
       "      <td>Women</td>\n",
       "      <td>Snowboard Cross</td>\n",
       "      <td>Bronze</td>\n",
       "    </tr>\n",
       "  </tbody>\n",
       "</table>\n",
       "<p>5770 rows × 9 columns</p>\n",
       "</div>"
      ],
      "text/plain": [
       "      Year      City     Sport Discipline               Athlete  \\\n",
       "0     1924  Chamonix  Biathlon   Biathlon           BERTHET, G.   \n",
       "1     1924  Chamonix  Biathlon   Biathlon        MANDRILLON, C.   \n",
       "2     1924  Chamonix  Biathlon   Biathlon   MANDRILLON, Maurice   \n",
       "3     1924  Chamonix  Biathlon   Biathlon       VANDELLE, André   \n",
       "4     1924  Chamonix  Biathlon   Biathlon  AUFDENBLATTEN, Adolf   \n",
       "...    ...       ...       ...        ...                   ...   \n",
       "5765  2014     Sochi    Skiing  Snowboard          JONES, Jenny   \n",
       "5766  2014     Sochi    Skiing  Snowboard       ANDERSON, Jamie   \n",
       "5767  2014     Sochi    Skiing  Snowboard    MALTAIS, Dominique   \n",
       "5768  2014     Sochi    Skiing  Snowboard          SAMKOVA, Eva   \n",
       "5769  2014     Sochi    Skiing  Snowboard      TRESPEUCH, Chloe   \n",
       "\n",
       "             Country Gender            Event   Medal  \n",
       "0             France    Men  Military Patrol  Bronze  \n",
       "1             France    Men  Military Patrol  Bronze  \n",
       "2             France    Men  Military Patrol  Bronze  \n",
       "3             France    Men  Military Patrol  Bronze  \n",
       "4        Switzerland    Men  Military Patrol    Gold  \n",
       "...              ...    ...              ...     ...  \n",
       "5765  United Kingdom  Women       Slopestyle  Bronze  \n",
       "5766   United States  Women       Slopestyle    Gold  \n",
       "5767          Canada  Women  Snowboard Cross  Silver  \n",
       "5768  Czech Republic  Women  Snowboard Cross    Gold  \n",
       "5769          France  Women  Snowboard Cross  Bronze  \n",
       "\n",
       "[5770 rows x 9 columns]"
      ]
     },
     "execution_count": 13,
     "metadata": {},
     "output_type": "execute_result"
    }
   ],
   "source": [
    "#...winter\n",
    "winter = winter_data.assign(Country=winter_data.get('Country').apply(code_to_country))\n",
    "winter"
   ]
  },
  {
   "cell_type": "code",
   "execution_count": null,
   "metadata": {},
   "outputs": [],
   "source": [
    "_ = ok.grade('q4_2')"
   ]
  },
  {
   "cell_type": "markdown",
   "metadata": {},
   "source": [
    "**Question 4.3.** \n",
    "Define a function named `lastname_length` that returns the length of a lastname. It should take as an input the name of the athlete. Notice that the name consists of the 'lastname, firstname' of the athlete.\n",
    "\n",
    "*Hint:* Use the string function [`.split()`](https://docs.python.org/3/library/stdtypes.html#str.split). This is useful in splitting the name into a lastname and a firstname."
   ]
  },
  {
   "cell_type": "code",
   "execution_count": null,
   "metadata": {},
   "outputs": [],
   "source": [
    "def lastname_length(name):\n",
    "    ..."
   ]
  },
  {
   "cell_type": "code",
   "execution_count": 14,
   "metadata": {},
   "outputs": [],
   "source": [
    "#DELETE\n",
    "def lastname_length(name):\n",
    "    last_name = name.split(', ')[0]\n",
    "    return len(last_name)"
   ]
  },
  {
   "cell_type": "code",
   "execution_count": null,
   "metadata": {},
   "outputs": [],
   "source": [
    "# Test cases for your own reference.\n",
    "print(lastname_length('Skywalker, Leia'))  # Should print 9\n",
    "print(lastname_length('Antetokounmpo, Thanasis')) # Should print 13\n",
    "print(lastname_length('Ozymandias, Steve'))  #Should print 10"
   ]
  },
  {
   "cell_type": "code",
   "execution_count": null,
   "metadata": {},
   "outputs": [],
   "source": [
    "_ = ok.grade('q4_3')"
   ]
  },
  {
   "cell_type": "markdown",
   "metadata": {},
   "source": [
    "**Question 4.4.** Create a function named `mean_values` that takes as an input the name of a country and returns the mean last name length of the athletes from that country. \n",
    "\n",
    "*Hint:* use the previously defined function!"
   ]
  },
  {
   "cell_type": "code",
   "execution_count": null,
   "metadata": {},
   "outputs": [],
   "source": [
    "def mean_values(country):\n",
    "    ..."
   ]
  },
  {
   "cell_type": "code",
   "execution_count": 17,
   "metadata": {},
   "outputs": [
    {
     "data": {
      "text/plain": [
       "3"
      ]
     },
     "execution_count": 17,
     "metadata": {},
     "output_type": "execute_result"
    }
   ],
   "source": [
    "#DELETE\n",
    "def mean_values(country):\n",
    "    country_of_interest = winter[winter.get('Country') == country]\n",
    "    name_lengths = country_of_interest.get('Athlete').apply(lastname_length)\n",
    "    return name_lengths.mean()\n",
    "int(mean_values('China'))"
   ]
  },
  {
   "cell_type": "code",
   "execution_count": null,
   "metadata": {},
   "outputs": [],
   "source": [
    "_ = ok.grade('q4_4')"
   ]
  },
  {
   "cell_type": "markdown",
   "metadata": {},
   "source": [
    "**Question 4.5.** \n",
    "Create a table called `last_names` with original columns `Year`, `Sport`, `Athlete` and `Country` and new column `Last_Name_Length` that has the length of the last name, with the longest name at the top and shortest at bottom.\n",
    "\n",
    "*Hint*: Remember that you can create intermediate variables. This is a good time to do so!"
   ]
  },
  {
   "cell_type": "code",
   "execution_count": null,
   "metadata": {},
   "outputs": [],
   "source": [
    "#...last_names\n",
    "winter_cut = winter_data.get([\"Year\", \"Sport\", \"Athlete\", \"Country\"])\n",
    "last_names = winter_cut.assign(Last_Name_Length = winter_data.get('Athlete').apply(lastname_length))\n",
    "last_names = last_names.sort_values('Last_Name_Length', ascending = False)\n",
    "last_names"
   ]
  },
  {
   "cell_type": "code",
   "execution_count": null,
   "metadata": {},
   "outputs": [],
   "source": [
    "_ = ok.grade('q4_5')"
   ]
  },
  {
   "cell_type": "markdown",
   "metadata": {},
   "source": [
    "**Question 4.6.** What is the length of the longest name? Assign this number to `longest_name_length`. What is the length of the shortest name? Assign this number to `shortest_name_length`."
   ]
  },
  {
   "cell_type": "code",
   "execution_count": null,
   "metadata": {},
   "outputs": [],
   "source": [
    "#...longest_name_length\n",
    "longest_name_length = last_names.get('Last_Name_Length').iloc[0]\n",
    "longest_name_length"
   ]
  },
  {
   "cell_type": "code",
   "execution_count": null,
   "metadata": {},
   "outputs": [],
   "source": [
    "#...shortest_name_length\n",
    "shortest_name_length = last_names.get('Last_Name_Length').iloc[-1]\n",
    "shortest_name_length"
   ]
  },
  {
   "cell_type": "code",
   "execution_count": null,
   "metadata": {},
   "outputs": [],
   "source": [
    "_ = ok.grade('q4_6')"
   ]
  },
  {
   "cell_type": "markdown",
   "metadata": {},
   "source": [
    "**Question 4.7.** Make a function called `point_total` that takes in a country name (string) and awards points based on olympic medals. The country gets 1 point for every bronze medal, 2 points for every silver and 3 for every gold."
   ]
  },
  {
   "cell_type": "code",
   "execution_count": null,
   "metadata": {},
   "outputs": [],
   "source": [
    "def point_total(country):\n",
    "    ..."
   ]
  },
  {
   "cell_type": "code",
   "execution_count": null,
   "metadata": {},
   "outputs": [],
   "source": [
    "#DELETE\n",
    "def point_total(country):\n",
    "    gold = winter[(winter.get(\"Country\")==country) & (winter.get('Medal') == 'Gold')].shape[0] * 3\n",
    "    silver = winter[(winter.get(\"Country\")==country) & (winter.get('Medal') == \"Silver\")].shape[0] * 2\n",
    "    bronze = winter[(winter.get(\"Country\")==country) & (winter.get('Medal') ==  \"Bronze\")].shape[0]\n",
    "    return gold + silver + bronze"
   ]
  },
  {
   "cell_type": "code",
   "execution_count": null,
   "metadata": {},
   "outputs": [],
   "source": [
    "_ = ok.grade('q4_7')"
   ]
  },
  {
   "cell_type": "markdown",
   "metadata": {},
   "source": [
    "**Question 4.8.** Among the five countries listed below, which has the highest point count overall?:\n",
    "\n",
    "1. United Kingdom \n",
    "2. Sweden \n",
    "3. Japan\n",
    "4. Czech Republic\n",
    "5. Australia\n",
    "\n",
    "Save the name of the country as `country` and the number of points as `points`. You can set the value of `country` and `points` by hand."
   ]
  },
  {
   "cell_type": "code",
   "execution_count": null,
   "metadata": {},
   "outputs": [],
   "source": [
    "#helps you compare\n",
    "point_total(\"United Kingdom\"), point_total(\"Sweden\"), point_total(\"Japan\"), point_total(\"Czech Republic\"), point_total(\"Australia\")"
   ]
  },
  {
   "cell_type": "code",
   "execution_count": null,
   "metadata": {},
   "outputs": [],
   "source": [
    "#...country\n",
    "country = 'Sweden'"
   ]
  },
  {
   "cell_type": "code",
   "execution_count": null,
   "metadata": {},
   "outputs": [],
   "source": [
    "#...points\n",
    "points = 816"
   ]
  },
  {
   "cell_type": "code",
   "execution_count": null,
   "metadata": {},
   "outputs": [],
   "source": [
    "_ = ok.grade('q4_8')"
   ]
  },
  {
   "cell_type": "markdown",
   "metadata": {},
   "source": [
    "**Question 4.9.** Create a bar chart of the median last name length by country. Use your chart to answer the question: which country has the longest median last name? You can write your answer by hand by assigning it to `country_longest_name`."
   ]
  },
  {
   "cell_type": "code",
   "execution_count": null,
   "metadata": {},
   "outputs": [],
   "source": [
    "last_names.groupby('Country').median().sort_values('Last_Name_Length').plot(kind='barh', y='Last_Name_Length', figsize=(5,20))"
   ]
  },
  {
   "cell_type": "code",
   "execution_count": null,
   "metadata": {},
   "outputs": [],
   "source": [
    "#...country_longest_name\n",
    "country_longest_name = 'Spain'"
   ]
  },
  {
   "cell_type": "code",
   "execution_count": null,
   "metadata": {},
   "outputs": [],
   "source": [
    "_ = ok.grade('q4_9')"
   ]
  },
  {
   "cell_type": "markdown",
   "metadata": {},
   "source": [
    "## 5. Histograms"
   ]
  },
  {
   "cell_type": "markdown",
   "metadata": {},
   "source": [
    "Suppose we have a table called `data` with two numerical columns, \"x\" and \"y\". Consider the following scatter plot, which was generated by calling `data.plot(kind='scatter', x='x', y='y')`:\n",
    "\n",
    "![](scatter.png)\n",
    "\n",
    "Now consider these two histograms:\n",
    "\n",
    "**Histogram A**:\n",
    "\n",
    "![](hist_one.png)\n",
    "\n",
    "**Histogram B**:\n",
    "\n",
    "![](hist_two.png)"
   ]
  },
  {
   "cell_type": "markdown",
   "metadata": {},
   "source": [
    "**Question 5.1.** Which of these two lines of code generated Histogram B?\n",
    " 1. `data.plot(kind='hist', y='x')`\n",
    " 2. `data.plot(kind='hist', y='y')`  \n",
    " \n",
    " Which line generated Histogram B? Assign either `1` or `2` to `which_histogram`."
   ]
  },
  {
   "cell_type": "code",
   "execution_count": null,
   "metadata": {},
   "outputs": [],
   "source": [
    "#...which_histogram\n",
    "which_histogram = 2"
   ]
  },
  {
   "cell_type": "markdown",
   "metadata": {},
   "source": [
    "**Question 5.2.** Suppose we run this line of code:\n",
    "\n",
    "    new_data = bpd.DataFrame().assign(\n",
    "        x = data.get('x') + 5,\n",
    "        y = data.get('y')\n",
    "    )\n",
    "    \n",
    " We then run `new_data.plot(kind = 'hist', y='x')`. What does the new histogram look like?"
   ]
  },
  {
   "cell_type": "markdown",
   "metadata": {},
   "source": [
    "<hr style=\"color:Maroon;background-color:Maroon;border:0 none; height: 3px;\">\n",
    "\n",
    "*Write your answer here.*\n",
    "\n",
    "<hr style=\"color:Maroon;background-color:Maroon;border:0 none; height: 3px;\">"
   ]
  },
  {
   "cell_type": "code",
   "execution_count": null,
   "metadata": {},
   "outputs": [],
   "source": [
    "#DELETE\n",
    "# The generated histogram looks the same as Histogram A above, except that values on x-axis \n",
    "# are all five units greater."
   ]
  },
  {
   "cell_type": "markdown",
   "metadata": {},
   "source": [
    "**Question 5.3.** According to the histograms above, approximately what percent of points in the scatterplot have an `x` value between -1 and 0 (inclusive)? Return the number (from 1 to 4) of the correct percentage listed below in the variable `x_between`.\n",
    "\n",
    "1. 25\n",
    "2. 30\n",
    "3. 45\n",
    "4. 60"
   ]
  },
  {
   "cell_type": "code",
   "execution_count": 2,
   "metadata": {},
   "outputs": [
    {
     "data": {
      "text/plain": [
       "2"
      ]
     },
     "execution_count": 2,
     "metadata": {},
     "output_type": "execute_result"
    }
   ],
   "source": [
    "#...x_between\n",
    "x_between = 2\n",
    "x_between"
   ]
  },
  {
   "cell_type": "code",
   "execution_count": null,
   "metadata": {},
   "outputs": [],
   "source": [
    "_ = ok.grade('q5_3')"
   ]
  },
  {
   "cell_type": "markdown",
   "metadata": {},
   "source": [
    "# Finish Line\n",
    "\n",
    "Congratulations, you're done with the homework!  Be sure to\n",
    "\n",
    "- **Verify that all tests pass** (the next cell has a shortcut for that), \n",
    "- **Save and Checkpoint** from the `File` menu,\n",
    "- **Run the last cell to submit your work**"
   ]
  },
  {
   "cell_type": "code",
   "execution_count": null,
   "metadata": {
    "scrolled": false
   },
   "outputs": [],
   "source": [
    "# For your convenience, you can run this cell to run all the tests at once!\n",
    "import os\n",
    "_ = [ok.grade(q[:-3]) for q in os.listdir('tests') if q.startswith('q')]"
   ]
  },
  {
   "cell_type": "code",
   "execution_count": null,
   "metadata": {},
   "outputs": [],
   "source": [
    "_ = ok.submit()"
   ]
  },
  {
   "cell_type": "markdown",
   "metadata": {},
   "source": [
    "## Don't forget to submit your PDF to Gradescope!\n",
    "\n",
    "Select File > Download As > PDF via LaTeX in the File menu. Turn in this PDF file into the respective assignement at https://gradescope.com/.\n",
    "<br>\n",
    "If you submit more than once before the deadline, we will only grade your final submission"
   ]
  }
 ],
 "metadata": {
  "kernelspec": {
   "display_name": "Python 3",
   "language": "python",
   "name": "python3"
  },
  "language_info": {
   "codemirror_mode": {
    "name": "ipython",
    "version": 3
   },
   "file_extension": ".py",
   "mimetype": "text/x-python",
   "name": "python",
   "nbconvert_exporter": "python",
   "pygments_lexer": "ipython3",
   "version": "3.6.8"
  }
 },
 "nbformat": 4,
 "nbformat_minor": 2
}
