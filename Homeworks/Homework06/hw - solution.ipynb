{
 "cells": [
  {
   "cell_type": "markdown",
   "metadata": {},
   "source": [
    "# Homework 6: Percentiles, Bootstrap, A/B Testing\n",
    "## Due Thursday Feb 27th, 11:59pm\n",
    "\n",
    "Directly sharing answers is not okay, but discussing problems with the course staff or with other students is encouraged. \n",
    "\n",
    "You should start early so that you have time to get help if you're stuck."
   ]
  },
  {
   "cell_type": "code",
   "execution_count": 1,
   "metadata": {},
   "outputs": [],
   "source": [
    "#:\n",
    "import math\n",
    "import numpy as np\n",
    "import babypandas as bpd\n",
    "import matplotlib.pyplot as plt\n",
    "plt.style.use('fivethirtyeight')\n",
    "%matplotlib inline"
   ]
  },
  {
   "cell_type": "code",
   "execution_count": null,
   "metadata": {},
   "outputs": [],
   "source": [
    "#:\n",
    "import math\n",
    "import numpy as np\n",
    "import babypandas as bpd\n",
    "import matplotlib.pyplot as plt\n",
    "plt.style.use('fivethirtyeight')\n",
    "%matplotlib inline\n",
    "\n",
    "from client.api.notebook import Notebook\n",
    "ok = Notebook('hw.ok')\n",
    "_ = ok.auth(inline=True)"
   ]
  },
  {
   "cell_type": "markdown",
   "metadata": {},
   "source": [
    "**You do not need to submit anything to Gradescope!** The short answer problems in this homework are optional but recommended.\n",
    "\n",
    "**Important**: The `ok` tests don't usually tell you that your answer is correct. More often, they help catch careless mistakes. It's up to you to ensure that your answer is correct. If you're not sure, ask someone (not for the answer, but for some guidance about your approach)."
   ]
  },
  {
   "cell_type": "markdown",
   "metadata": {},
   "source": [
    "## 1. Ramen Ratings"
   ]
  },
  {
   "cell_type": "markdown",
   "metadata": {},
   "source": [
    "![](menya.jpg)"
   ]
  },
  {
   "cell_type": "markdown",
   "metadata": {},
   "source": [
    "In this section, we will be using a ramen rating dataset to better our understanding of A/B testing. The dataset can be found on [kaggle](https://www.kaggle.com/residentmario/ramen-ratings), but the data has been cleaned and condensed for the purposes of this question. We (the writers) also recommend eating at [Menya Ultra](http://menya-ultra.com/) before completing this section, as we did before we wrote these questions."
   ]
  },
  {
   "cell_type": "markdown",
   "metadata": {},
   "source": [
    "The ramen data is recorded in a CSV file called `ramen.csv`. It contains five columns: `Brand`, `Variety`, `Style`, `Country`, `Stars`. Read this file into a table called `ramen`."
   ]
  },
  {
   "cell_type": "code",
   "execution_count": 5,
   "metadata": {},
   "outputs": [
    {
     "data": {
      "text/html": [
       "<div>\n",
       "<style scoped>\n",
       "    .dataframe tbody tr th:only-of-type {\n",
       "        vertical-align: middle;\n",
       "    }\n",
       "\n",
       "    .dataframe tbody tr th {\n",
       "        vertical-align: top;\n",
       "    }\n",
       "\n",
       "    .dataframe thead th {\n",
       "        text-align: right;\n",
       "    }\n",
       "</style>\n",
       "<table border=\"1\" class=\"dataframe\">\n",
       "  <thead>\n",
       "    <tr style=\"text-align: right;\">\n",
       "      <th></th>\n",
       "      <th>Brand</th>\n",
       "      <th>Variety</th>\n",
       "      <th>Style</th>\n",
       "      <th>Country</th>\n",
       "      <th>Stars</th>\n",
       "    </tr>\n",
       "  </thead>\n",
       "  <tbody>\n",
       "    <tr>\n",
       "      <td>0</td>\n",
       "      <td>New Touch</td>\n",
       "      <td>T's Restaurant Tantanmen</td>\n",
       "      <td>Cup</td>\n",
       "      <td>Japan</td>\n",
       "      <td>3.75</td>\n",
       "    </tr>\n",
       "    <tr>\n",
       "      <td>1</td>\n",
       "      <td>Just Way</td>\n",
       "      <td>Noodles Spicy Hot Sesame Spicy Hot Sesame Guan...</td>\n",
       "      <td>Pack</td>\n",
       "      <td>Taiwan</td>\n",
       "      <td>1.00</td>\n",
       "    </tr>\n",
       "    <tr>\n",
       "      <td>2</td>\n",
       "      <td>Nissin</td>\n",
       "      <td>Cup Noodles Chicken Vegetable</td>\n",
       "      <td>Cup</td>\n",
       "      <td>USA</td>\n",
       "      <td>2.25</td>\n",
       "    </tr>\n",
       "    <tr>\n",
       "      <td>3</td>\n",
       "      <td>Wei Lih</td>\n",
       "      <td>GGE Ramen Snack Tomato Flavor</td>\n",
       "      <td>Pack</td>\n",
       "      <td>Taiwan</td>\n",
       "      <td>2.75</td>\n",
       "    </tr>\n",
       "    <tr>\n",
       "      <td>4</td>\n",
       "      <td>Ching's Secret</td>\n",
       "      <td>Singapore Curry</td>\n",
       "      <td>Pack</td>\n",
       "      <td>India</td>\n",
       "      <td>3.75</td>\n",
       "    </tr>\n",
       "    <tr>\n",
       "      <td>...</td>\n",
       "      <td>...</td>\n",
       "      <td>...</td>\n",
       "      <td>...</td>\n",
       "      <td>...</td>\n",
       "      <td>...</td>\n",
       "    </tr>\n",
       "    <tr>\n",
       "      <td>1973</td>\n",
       "      <td>Vifon</td>\n",
       "      <td>Nam Vang</td>\n",
       "      <td>Pack</td>\n",
       "      <td>Vietnam</td>\n",
       "      <td>2.50</td>\n",
       "    </tr>\n",
       "    <tr>\n",
       "      <td>1974</td>\n",
       "      <td>Wai Wai</td>\n",
       "      <td>Oriental Style Instant Noodles</td>\n",
       "      <td>Pack</td>\n",
       "      <td>Thailand</td>\n",
       "      <td>1.00</td>\n",
       "    </tr>\n",
       "    <tr>\n",
       "      <td>1975</td>\n",
       "      <td>Wai Wai</td>\n",
       "      <td>Tom Yum Shrimp</td>\n",
       "      <td>Pack</td>\n",
       "      <td>Thailand</td>\n",
       "      <td>2.00</td>\n",
       "    </tr>\n",
       "    <tr>\n",
       "      <td>1976</td>\n",
       "      <td>Wai Wai</td>\n",
       "      <td>Tom Yum Chili Flavor</td>\n",
       "      <td>Pack</td>\n",
       "      <td>Thailand</td>\n",
       "      <td>2.00</td>\n",
       "    </tr>\n",
       "    <tr>\n",
       "      <td>1977</td>\n",
       "      <td>Westbrae</td>\n",
       "      <td>Miso Ramen</td>\n",
       "      <td>Pack</td>\n",
       "      <td>USA</td>\n",
       "      <td>0.50</td>\n",
       "    </tr>\n",
       "  </tbody>\n",
       "</table>\n",
       "<p>1978 rows × 5 columns</p>\n",
       "</div>"
      ],
      "text/plain": [
       "               Brand                                            Variety Style  \\\n",
       "0          New Touch                          T's Restaurant Tantanmen    Cup   \n",
       "1           Just Way  Noodles Spicy Hot Sesame Spicy Hot Sesame Guan...  Pack   \n",
       "2             Nissin                      Cup Noodles Chicken Vegetable   Cup   \n",
       "3            Wei Lih                      GGE Ramen Snack Tomato Flavor  Pack   \n",
       "4     Ching's Secret                                    Singapore Curry  Pack   \n",
       "...              ...                                                ...   ...   \n",
       "1973           Vifon                                           Nam Vang  Pack   \n",
       "1974         Wai Wai                     Oriental Style Instant Noodles  Pack   \n",
       "1975         Wai Wai                                     Tom Yum Shrimp  Pack   \n",
       "1976         Wai Wai                               Tom Yum Chili Flavor  Pack   \n",
       "1977        Westbrae                                         Miso Ramen  Pack   \n",
       "\n",
       "       Country  Stars  \n",
       "0        Japan   3.75  \n",
       "1       Taiwan   1.00  \n",
       "2          USA   2.25  \n",
       "3       Taiwan   2.75  \n",
       "4        India   3.75  \n",
       "...        ...    ...  \n",
       "1973   Vietnam   2.50  \n",
       "1974  Thailand   1.00  \n",
       "1975  Thailand   2.00  \n",
       "1976  Thailand   2.00  \n",
       "1977       USA   0.50  \n",
       "\n",
       "[1978 rows x 5 columns]"
      ]
     },
     "execution_count": 5,
     "metadata": {},
     "output_type": "execute_result"
    }
   ],
   "source": [
    "ramen = bpd.read_csv('ramen.csv')\n",
    "ramen"
   ]
  },
  {
   "cell_type": "markdown",
   "metadata": {},
   "source": [
    "**Question 1.1**. You may have noticed that the `Stars` column contains strings instead of floats. Because we cannot do computations on strings, we need to convert these values into floats. In your `ramen` table, replace the `Stars` column so that all the data values are floats instead of strings. Find the mean star rating of all the ramen, and save it into a variable called `mean_star`."
   ]
  },
  {
   "cell_type": "code",
   "execution_count": 6,
   "metadata": {},
   "outputs": [
    {
     "data": {
      "text/plain": [
       "3.6545121334681503"
      ]
     },
     "execution_count": 6,
     "metadata": {},
     "output_type": "execute_result"
    }
   ],
   "source": [
    "#...mean_star\n",
    "stars = ramen.get('Stars').apply(lambda x: float(x))\n",
    "ramen = ramen.assign(Stars = stars)\n",
    "mean_star = stars.mean()\n",
    "mean_star"
   ]
  },
  {
   "cell_type": "code",
   "execution_count": null,
   "metadata": {},
   "outputs": [],
   "source": [
    "#: grade 1.1\n",
    "_ = ok.grade('q1_1')"
   ]
  },
  {
   "cell_type": "markdown",
   "metadata": {},
   "source": [
    "**Question 1.2.** Notice that there are two styles of ramen: \"Cup\" and \"Pack\". Using `ramen`, calculate the difference between the mean star ratings of Cup and Pack ramen. Assign your answer to `observed_difference`.\n",
    "\n",
    "$$\\text{observed difference} := \\text{mean Cup stars} - \\text{mean Pack stars}$$"
   ]
  },
  {
   "cell_type": "code",
   "execution_count": 8,
   "metadata": {},
   "outputs": [
    {
     "data": {
      "text/plain": [
       "Style\n",
       "Cup     3.498500\n",
       "Pack    3.700458\n",
       "Name: Stars, dtype: float64"
      ]
     },
     "execution_count": 8,
     "metadata": {},
     "output_type": "execute_result"
    }
   ],
   "source": [
    "#ramen.groupby('Style').mean().get('Stars')"
   ]
  },
  {
   "cell_type": "code",
   "execution_count": 7,
   "metadata": {},
   "outputs": [
    {
     "data": {
      "text/plain": [
       "-0.20195811518324724"
      ]
     },
     "execution_count": 7,
     "metadata": {},
     "output_type": "execute_result"
    }
   ],
   "source": [
    "#...observed_difference\n",
    "group_means = ramen.groupby('Style').mean().get('Stars')\n",
    "group_means\n",
    "observed_difference = group_means.iloc[0] - group_means.iloc[1]\n",
    "observed_difference"
   ]
  },
  {
   "cell_type": "code",
   "execution_count": null,
   "metadata": {},
   "outputs": [],
   "source": [
    "#: grade 1.2\n",
    "_ = ok.grade('q1_2')"
   ]
  },
  {
   "cell_type": "markdown",
   "metadata": {},
   "source": [
    "**Question 1.3.** Interpret in words the number you obtained for `observed_difference` and assign either 1, 2, 3, or 4 to `q1_3`."
   ]
  },
  {
   "cell_type": "markdown",
   "metadata": {},
   "source": [
    "1. In our sample, the mean cup stars is lower than the mean pack stars by about 20 percents.\n",
    "2. In our sample, the mean cup stars is higher than the mean pack stars by about 20 percents.\n",
    "3. In our sample, the mean cup stars is lower than the mean pack stars by about 0.20 stars.\n",
    "4. In our sample, the mean cup stars is higher than the mean pack stars by about 0.20 stars."
   ]
  },
  {
   "cell_type": "code",
   "execution_count": 9,
   "metadata": {},
   "outputs": [],
   "source": [
    "#...q1_3\n",
    "q1_3 = 3"
   ]
  },
  {
   "cell_type": "code",
   "execution_count": null,
   "metadata": {},
   "outputs": [],
   "source": [
    "#: grade 1.3\n",
    "_ = ok.grade('q1_3')"
   ]
  },
  {
   "cell_type": "markdown",
   "metadata": {},
   "source": [
    "Now we want to conduct an A/B test (i.e. Permutation Test) to see if it is by chance that the average star rating for the cup ramen is less than pack ramen, or if the cup ramen really does have lower ratings than pack. \n",
    "\n",
    "To remind you on the process of an A/B test, here is the textbook reference for the [process](http://sierra.ucsd.edu/dsc10-book/chapters/12/1/AB_Testing.html). In your upcoming A/B test, we want to shuffle the `Stars` column and keep the `Style` column in the same order.\n",
    "\n",
    "\n",
    "**Null hypothesis:** Star ratings of pack ramen and cup ramen come from the same distribution.  \n",
    "**Alternative hypothesis:** Star ratings of cup ramen is typically lower than that of pack ramen.\n",
    "\n",
    "Hint: To make your simulation go faster, drop the irrelevant columns before our A/B test. Make another table called `small_ramen` that only has the `Stars` and `Style` column, and shuffle using `small_ramen`."
   ]
  },
  {
   "cell_type": "markdown",
   "metadata": {},
   "source": [
    "**Question 1.4.** Use a permutation test to calculate 500 differences using random permutations of the data. Store your 500 differences in the `differences` array."
   ]
  },
  {
   "cell_type": "code",
   "execution_count": 10,
   "metadata": {},
   "outputs": [],
   "source": [
    "#DELETE\n",
    "small_ramen = ramen.get(['Stars', 'Style'])"
   ]
  },
  {
   "cell_type": "code",
   "execution_count": 14,
   "metadata": {
    "scrolled": true
   },
   "outputs": [
    {
     "data": {
      "text/plain": [
       "array([ 0.04927872,  0.02079967, -0.03256261,  0.11083951,  0.02648109,\n",
       "       -0.03371328,  0.19131443,  0.05172389, -0.0688806 , -0.00206988,\n",
       "       -0.03299411, -0.03989812, -0.01141907,  0.0055533 , -0.00178221,\n",
       "        0.00821422, -0.0102684 ,  0.02518659,  0.022238  ,  0.04338154,\n",
       "       -0.0466583 ,  0.00612864, -0.01932992, -0.00149455, -0.01084373,\n",
       "        0.11601752, -0.06765801, -0.01602174,  0.00526563, -0.0124259 ,\n",
       "       -0.03155577,  0.05905941, -0.08736322,  0.03690903, -0.07513736,\n",
       "        0.02453934,  0.07804545, -0.0265216 , -0.05687049,  0.09544932,\n",
       "        0.04280621,  0.08207279,  0.06207992,  0.04611438, -0.05787733,\n",
       "        0.0773982 , -0.03385711, -0.09311656, -0.05399382,  0.04093637,\n",
       "       -0.04119263, -0.01932992, -0.020121  , -0.00322055, -0.0286791 ,\n",
       "        0.01662849, -0.00350822,  0.01619699,  0.02144692,  0.05596699,\n",
       "        0.05531974, -0.11274985, -0.05471299, -0.02306959,  0.07488111,\n",
       "       -0.01041223, -0.01256974, -0.01832308, -0.00580955,  0.07725436,\n",
       "       -0.0115629 , -0.05298698, -0.05730199,  0.07150102,  0.02842285,\n",
       "       -0.08196946,  0.07919612,  0.11184635, -0.01120332, -0.01580599,\n",
       "       -0.04989456, -0.01127523, -0.01271357,  0.10745942, -0.09426723,\n",
       "        0.0064163 , -0.03234686,  0.07437769, -0.00250138,  0.02382017,\n",
       "        0.03820353, -0.00465889, -0.10455134,  0.03331319, -0.00451505,\n",
       "       -0.01587791,  0.0795557 , -0.03831595, -0.00422739, -0.06089783,\n",
       "        0.01792299,  0.04510755,  0.13931857, -0.03925087,  0.00713547,\n",
       "       -0.02716885, -0.08506188, -0.07398669,  0.00526563, -0.02637776,\n",
       "        0.06021008, -0.03615845, -0.08952072,  0.07818928,  0.01044364,\n",
       "        0.05711766, -0.020121  ,  0.09918899,  0.00576905, -0.07801403,\n",
       "       -0.02479559, -0.0124259 , -0.02522709, -0.00235755,  0.023101  ,\n",
       "        0.05776491, -0.00077538,  0.03583028,  0.11616136, -0.01343274,\n",
       "       -0.0111314 ,  0.00627247,  0.03712478, -0.01005265, -0.03472011,\n",
       "        0.09746299, -0.05169248,  0.0633025 ,  0.09962049, -0.04730556,\n",
       "       -0.03385711, -0.04752131, -0.0376687 , -0.07046277,  0.07466536,\n",
       "       -0.05917183, -0.10915401,  0.14133224, -0.09210973, -0.06456559,\n",
       "       -0.02450793,  0.10767517, -0.02616201,  0.0556074 , -0.07139769,\n",
       "        0.02432359,  0.02957352,  0.04151171,  0.00627247,  0.0397857 ,\n",
       "       -0.04248713, -0.08750705,  0.02022433, -0.03817212, -0.0765757 ,\n",
       "       -0.11684911,  0.09530548,  0.00080679, -0.03529545,  0.0192175 ,\n",
       "        0.00771081, -0.02134359,  0.00670397,  0.06891201,  0.04438838,\n",
       "       -0.09023989, -0.01551832,  0.06128883, -0.05471299, -0.01264165,\n",
       "        0.02813518,  0.04136787,  0.02525851,  0.04050487,  0.05136431,\n",
       "        0.15010609,  0.00699164,  0.01231348, -0.02795993,  0.03755628,\n",
       "        0.08437413, -0.03630228,  0.04194321, -0.10534242, -0.09714391,\n",
       "       -0.02522709,  0.07164485, -0.0278161 ,  0.00814231,  0.0354707 ,\n",
       "       -0.03917896,  0.01073131, -0.05615132, -0.02407643, -0.03975429,\n",
       "       -0.0282476 ,  0.03403236,  0.08466179,  0.13457206,  0.00929298,\n",
       "       -0.12245862,  0.09185348,  0.02755985,  0.05632657,  0.03611795,\n",
       "        0.0525869 ,  0.02453934, -0.04694597, -0.03989812, -0.07182919,\n",
       "       -0.03277836, -0.03630228, -0.05370615, -0.00048771,  0.07444961,\n",
       "        0.04546713, -0.00839856,  0.00397113,  0.01468674, -0.00717597,\n",
       "       -0.06190467, -0.02263809, -0.10275342, -0.06722651,  0.01001214,\n",
       "        0.06955926, -0.03155577,  0.02036816,  0.0534499 , -0.06463751,\n",
       "        0.01533399,  0.00850189, -0.0038678 ,  0.01245732, -0.02278192,\n",
       "       -0.07254836,  0.05848408,  0.05229923, -0.00667256, -0.00163838,\n",
       "       -0.11095193, -0.0436378 ,  0.11529836,  0.0697031 ,  0.05078898,\n",
       "        0.08005912,  0.04410071, -0.08247288,  0.02892627, -0.05500065,\n",
       "       -0.01954567,  0.02079967,  0.09027131, -0.06492517, -0.04327821,\n",
       "       -0.05679857,  0.04352538, -0.06240809,  0.04906297, -0.05888416,\n",
       "       -0.01170673,  0.01619699, -0.00350822, -0.01688474,  0.05380948,\n",
       "        0.01648466,  0.08739463,  0.07933995,  0.02763176, -0.03658995,\n",
       "        0.01216965,  0.01022789,  0.03813162,  0.02669684, -0.08592488,\n",
       "        0.1219147 , -0.04335013,  0.01439907,  0.09170964,  0.07718245,\n",
       "       -0.05183631,  0.01720382,  0.0889768 , -0.02644968,  0.04769655,\n",
       "       -0.02680926, -0.06104167, -0.10965743, -0.02479559,  0.07653519,\n",
       "        0.00238896,  0.00886147, -0.07844554,  0.04683355, -0.060754  ,\n",
       "        0.01231348,  0.04870339,  0.00490605, -0.05802116,  0.03137144,\n",
       "       -0.04032962,  0.05567932,  0.01741958, -0.01616558, -0.08398313,\n",
       "       -0.04953498,  0.09271648,  0.00303621,  0.02799135,  0.02079967,\n",
       "        0.01015598,  0.06466892,  0.021375  , -0.03673378,  0.10508617,\n",
       "       -0.01932992, -0.01573408, -0.08017154,  0.00123829, -0.07118194,\n",
       "       -0.02429218, -0.02537093,  0.02856668, -0.0119944 ,  0.02712834,\n",
       "        0.00756697, -0.01630941, -0.06873677,  0.01008406,  0.05639849,\n",
       "        0.00059104, -0.10196233, -0.01084373, -0.01544641, -0.02637776,\n",
       "        0.06380592, -0.02479559,  0.03374469, -0.00350822,  0.04582672,\n",
       "       -0.03198727,  0.06049775, -0.06406217, -0.00580955, -0.01731624,\n",
       "        0.04057679, -0.04090496,  0.00138213,  0.02446742,  0.07257977,\n",
       "       -0.0291106 , -0.02249426, -0.03299411,  0.01360798,  0.02324484,\n",
       "       -0.02767227,  0.08408646,  0.01519015, -0.07053469,  0.01641274,\n",
       "       -0.03328178, -0.08520572, -0.03558312, -0.10124316, -0.01623749,\n",
       "       -0.04486038, -0.059028  , -0.00566572, -0.02968594,  0.05114856,\n",
       "        0.00195746, -0.02623393, -0.00580955,  0.00584097,  0.09142197,\n",
       "       -0.01098757,  0.10328825, -0.03371328,  0.04028912,  0.06538809,\n",
       "       -0.11382861,  0.05934708,  0.00929298,  0.061145  , -0.00897389,\n",
       "        0.021375  , -0.01832308,  0.00914914,  0.03230636, -0.04018579,\n",
       "        0.01346415, -0.05442532,  0.09811024,  0.11831886,  0.0072793 ,\n",
       "       -0.06578818,  0.02518659,  0.05704574, -0.05291507,  0.03906654,\n",
       "        0.04374113,  0.03949804, -0.06190467, -0.05737391, -0.03126811,\n",
       "       -0.06521284, -0.03730912,  0.06848051, -0.03198727, -0.09052756,\n",
       "        0.07761395,  0.02036816,  0.01590932, -0.0945549 , -0.03169961,\n",
       "        0.02504276, -0.01429574,  0.01145048,  0.08631588, -0.02709693,\n",
       "        0.04438838,  0.03173102, -0.020121  , -0.06363067, -0.00048771,\n",
       "        0.01576549, -0.01415191, -0.06981552, -0.00624106, -0.0594595 ,\n",
       "        0.05251498, -0.04960689,  0.00303621,  0.02698451,  0.01648466,\n",
       "        0.01022789,  0.04165554, -0.04895964, -0.09649666,  0.00224513,\n",
       "        0.01001214,  0.01202581,  0.16635929, -0.04637064, -0.05313082,\n",
       "        0.00864572,  0.11544219,  0.07718245,  0.0474808 , -0.09153439,\n",
       "        0.01432715,  0.04287813,  0.03964187,  0.07430577,  0.03230636,\n",
       "        0.04553905, -0.0098369 ,  0.04740889, -0.00250138,  0.12781188,\n",
       "       -0.06427792,  0.08379879, -0.0355112 ,  0.0209435 , -0.04198371,\n",
       "        0.00742314, -0.00055963,  0.01504632,  0.0286386 , -0.04119263,\n",
       "       -0.00847048,  0.07502494, -0.05500065, -0.00854239,  0.01346415,\n",
       "       -0.03141194,  0.04043296,  0.05733341, -0.01206632,  0.0033958 ,\n",
       "        0.01202581,  0.04762464, -0.03277836,  0.0359022 , -0.05399382,\n",
       "        0.05150814, -0.12634213,  0.09688765,  0.09041514,  0.06006624])"
      ]
     },
     "execution_count": 14,
     "metadata": {},
     "output_type": "execute_result"
    }
   ],
   "source": [
    "#...differences\n",
    "differences = np.array([])\n",
    "for i in np.arange(500):\n",
    "    shuffled_stars = np.random.permutation(small_ramen.get('Stars'))\n",
    "    shuffled = small_ramen.assign(Shuffled_Stars = shuffled_stars)\n",
    "    group_means = shuffled.groupby('Style').mean().get('Shuffled_Stars')\n",
    "    difference = group_means.iloc[1] - group_means.iloc[0]\n",
    "    differences = np.append(differences, difference)\n",
    "differences"
   ]
  },
  {
   "cell_type": "code",
   "execution_count": 15,
   "metadata": {},
   "outputs": [
    {
     "data": {
      "text/plain": [
       "(-0.12634213205351852, 0.19131442699243761)"
      ]
     },
     "execution_count": 15,
     "metadata": {},
     "output_type": "execute_result"
    }
   ],
   "source": [
    "min(differences), max(differences)"
   ]
  },
  {
   "cell_type": "code",
   "execution_count": null,
   "metadata": {},
   "outputs": [],
   "source": [
    "#: grade 1.4\n",
    "_ = ok.grade('q1_4')"
   ]
  },
  {
   "cell_type": "markdown",
   "metadata": {},
   "source": [
    "**Question 1.5.** Which of the follow choices best describes the purpose of the permutation test with regards to A/B testing? Assign either 1, 2, or 3 to `q1_5`.\n",
    "1. The permutation test is a special case of the bootstrap and allows us to produce interval estimates.\n",
    "2. The permutation test generates a null distribution which we can use in testing our hypothesis.\n",
    "3. The permutation test mitigates noise in our data by generating new permutations of the data.\n"
   ]
  },
  {
   "cell_type": "code",
   "execution_count": 16,
   "metadata": {},
   "outputs": [],
   "source": [
    "#...q1_5\n",
    "q1_5 = 2"
   ]
  },
  {
   "cell_type": "code",
   "execution_count": null,
   "metadata": {},
   "outputs": [],
   "source": [
    "#: grade 1.5\n",
    "_ = ok.grade('q1_5')"
   ]
  },
  {
   "cell_type": "markdown",
   "metadata": {},
   "source": [
    "**Question 1.6.** Compute a p-value for the hypothesis. That is, under the null hypothesis, compute the probability that we would have obtained a difference smaller than or equal to `observed_difference` by chance alone. Assign your answer to `p_val`."
   ]
  },
  {
   "cell_type": "code",
   "execution_count": 17,
   "metadata": {},
   "outputs": [
    {
     "data": {
      "text/plain": [
       "0.0"
      ]
     },
     "execution_count": 17,
     "metadata": {},
     "output_type": "execute_result"
    }
   ],
   "source": [
    "#...p_val\n",
    "p_val = np.count_nonzero(differences <= observed_difference) / len(differences)\n",
    "p_val"
   ]
  },
  {
   "cell_type": "code",
   "execution_count": null,
   "metadata": {},
   "outputs": [],
   "source": [
    "#: grade 1.6\n",
    "_ = ok.grade('q1_6')"
   ]
  },
  {
   "cell_type": "markdown",
   "metadata": {},
   "source": [
    "**Question 1.7.** Do you reject or fail to reject the null hypothesis at the 0.05 significance level? What conclusion can you make with regards to the star ratings of pack ramen and cup ramen?"
   ]
  },
  {
   "cell_type": "markdown",
   "metadata": {},
   "source": [
    "<hr style=\"color:Maroon;background-color:Maroon;border:0 none; height: 3px;\">\n",
    "\n",
    "...\n",
    "\n",
    "<hr style=\"color:Maroon;background-color:Maroon;border:0 none; height: 3px;\">"
   ]
  },
  {
   "cell_type": "markdown",
   "metadata": {},
   "source": [
    "**Question 1.8.** Suppose in this question you had shuffled the `Style` column and kept the `Stars` column in the same order. \n",
    "Which of the following is a true statement?\n",
    "\n",
    "1. Your new p-value would be 1 - (old p-value), where new p-value is with `Style` shuffled and old p-value is with `Stars` shuffled.\n",
    "2. There would be no difference in the A/B Test if we had shuffled the `Style` column instead.\n",
    "3. We would conclude that pack ramen would have lower star ratings than cup ramen.\n",
    "4. The `Style` column cannot be shuffled because there are only two unique values.\n"
   ]
  },
  {
   "cell_type": "code",
   "execution_count": 18,
   "metadata": {},
   "outputs": [],
   "source": [
    "#...q1_8\n",
    "q1_8 = 2"
   ]
  },
  {
   "cell_type": "code",
   "execution_count": null,
   "metadata": {},
   "outputs": [],
   "source": [
    "#: grade 1.8\n",
    "_ = ok.grade('q1_8')"
   ]
  },
  {
   "cell_type": "markdown",
   "metadata": {},
   "source": [
    "## 2. Percentiles"
   ]
  },
  {
   "cell_type": "markdown",
   "metadata": {},
   "source": [
    "**The General Definition**\n",
    "\n",
    "> Let $p$ be a number between 0 and 100. The $p$th percentile of a collection is the smallest value in the collection that is *at least as large* as $p$% of all the values. "
   ]
  },
  {
   "cell_type": "markdown",
   "metadata": {},
   "source": [
    "![](percentile_example.jpg)"
   ]
  },
  {
   "cell_type": "markdown",
   "metadata": {},
   "source": [
    "By this definition, any percentile between 0 and 100 can be computed for any collection of values and is always an element of the collection. Suppose there are $n$ elements in the collection. To find the $p$th percentile:\n",
    "\n",
    "1. Sort the collection in increasing order.\n",
    "2. Find $p$% of $n$: $\\frac p{100}*n$. Call that $h$. If $h$ is an integer, define $k = h$. Otherwise, let $k$ be the smallest integer greater than $h$.\n",
    "3. Take the $k$th element of the sorted collection."
   ]
  },
  {
   "cell_type": "markdown",
   "metadata": {},
   "source": [
    "**Question 2.1.** Assign the number of elements in `values` to the variable `n`. Define `k` as above -- your answer should be an integer. Assign the 36th percentile of the array `values` to `thirty_sixth_percentile`. You must use the variables provided for you when solving this problem. For this problem only, you may *not* use `np.percentile()`.\n",
    "\n",
    "*Hint:* Using `math.ceil()` will round up a number to the next nearest whole number. `math` has already been imported for you."
   ]
  },
  {
   "cell_type": "code",
   "execution_count": 19,
   "metadata": {},
   "outputs": [
    {
     "data": {
      "text/plain": [
       "array([  9,  10,  20,  26,  30,  40,  42,  72,  80, 100, 102, 106, 131,\n",
       "       180])"
      ]
     },
     "execution_count": 19,
     "metadata": {},
     "output_type": "execute_result"
    }
   ],
   "source": [
    "#: don't change the values in this array!\n",
    "values = np.array([10, 40, 42, 20, 100, 106, 102, 80, 30, 9, 180, 26, 131, 72])\n",
    "values.sort()  # This line sorts the array\n",
    "values"
   ]
  },
  {
   "cell_type": "code",
   "execution_count": 20,
   "metadata": {},
   "outputs": [],
   "source": [
    "#...n\n",
    "n = len(values)"
   ]
  },
  {
   "cell_type": "code",
   "execution_count": 21,
   "metadata": {},
   "outputs": [],
   "source": [
    "#...k\n",
    "k = math.ceil(36/100 * n)"
   ]
  },
  {
   "cell_type": "code",
   "execution_count": 22,
   "metadata": {},
   "outputs": [
    {
     "data": {
      "text/plain": [
       "40"
      ]
     },
     "execution_count": 22,
     "metadata": {},
     "output_type": "execute_result"
    }
   ],
   "source": [
    "#...thiry_sixth_percentile\n",
    "thirty_sixth_percentile = values.item(k-1)\n",
    "thirty_sixth_percentile"
   ]
  },
  {
   "cell_type": "code",
   "execution_count": null,
   "metadata": {},
   "outputs": [],
   "source": [
    "_ = ok.grade('q2_1')"
   ]
  },
  {
   "cell_type": "markdown",
   "metadata": {},
   "source": [
    "**Question 2.2.** The csv file `mcdonalds.csv` contains some selected information on menu items taken from [kaggle](https://www.kaggle.com/mcdonalds/nutrition-facts). The columns include `Category`, `Item`, `Calories`, `Sodium`, `Total Fat`, `Carbohydrates`, `Sugars`, `Protein`. Plot a histogram showing the distribution of `Carbohydrates`. Use the bins provided."
   ]
  },
  {
   "cell_type": "code",
   "execution_count": 23,
   "metadata": {},
   "outputs": [
    {
     "data": {
      "text/html": [
       "<div>\n",
       "<style scoped>\n",
       "    .dataframe tbody tr th:only-of-type {\n",
       "        vertical-align: middle;\n",
       "    }\n",
       "\n",
       "    .dataframe tbody tr th {\n",
       "        vertical-align: top;\n",
       "    }\n",
       "\n",
       "    .dataframe thead th {\n",
       "        text-align: right;\n",
       "    }\n",
       "</style>\n",
       "<table border=\"1\" class=\"dataframe\">\n",
       "  <thead>\n",
       "    <tr style=\"text-align: right;\">\n",
       "      <th></th>\n",
       "      <th>Category</th>\n",
       "      <th>Item</th>\n",
       "      <th>Calories</th>\n",
       "      <th>Sodium</th>\n",
       "      <th>Total Fat</th>\n",
       "      <th>Carbohydrates</th>\n",
       "      <th>Sugars</th>\n",
       "      <th>Protein</th>\n",
       "    </tr>\n",
       "  </thead>\n",
       "  <tbody>\n",
       "    <tr>\n",
       "      <td>0</td>\n",
       "      <td>Breakfast</td>\n",
       "      <td>Egg McMuffin</td>\n",
       "      <td>300</td>\n",
       "      <td>750</td>\n",
       "      <td>13.0</td>\n",
       "      <td>31</td>\n",
       "      <td>3</td>\n",
       "      <td>17</td>\n",
       "    </tr>\n",
       "    <tr>\n",
       "      <td>1</td>\n",
       "      <td>Breakfast</td>\n",
       "      <td>Egg White Delight</td>\n",
       "      <td>250</td>\n",
       "      <td>770</td>\n",
       "      <td>8.0</td>\n",
       "      <td>30</td>\n",
       "      <td>3</td>\n",
       "      <td>18</td>\n",
       "    </tr>\n",
       "    <tr>\n",
       "      <td>2</td>\n",
       "      <td>Breakfast</td>\n",
       "      <td>Sausage McMuffin</td>\n",
       "      <td>370</td>\n",
       "      <td>780</td>\n",
       "      <td>23.0</td>\n",
       "      <td>29</td>\n",
       "      <td>2</td>\n",
       "      <td>14</td>\n",
       "    </tr>\n",
       "    <tr>\n",
       "      <td>3</td>\n",
       "      <td>Breakfast</td>\n",
       "      <td>Sausage McMuffin with Egg</td>\n",
       "      <td>450</td>\n",
       "      <td>860</td>\n",
       "      <td>28.0</td>\n",
       "      <td>30</td>\n",
       "      <td>2</td>\n",
       "      <td>21</td>\n",
       "    </tr>\n",
       "    <tr>\n",
       "      <td>4</td>\n",
       "      <td>Breakfast</td>\n",
       "      <td>Sausage McMuffin with Egg Whites</td>\n",
       "      <td>400</td>\n",
       "      <td>880</td>\n",
       "      <td>23.0</td>\n",
       "      <td>30</td>\n",
       "      <td>2</td>\n",
       "      <td>21</td>\n",
       "    </tr>\n",
       "    <tr>\n",
       "      <td>...</td>\n",
       "      <td>...</td>\n",
       "      <td>...</td>\n",
       "      <td>...</td>\n",
       "      <td>...</td>\n",
       "      <td>...</td>\n",
       "      <td>...</td>\n",
       "      <td>...</td>\n",
       "      <td>...</td>\n",
       "    </tr>\n",
       "    <tr>\n",
       "      <td>255</td>\n",
       "      <td>Smoothies &amp; Shakes</td>\n",
       "      <td>McFlurry with Oreo Cookies (Small)</td>\n",
       "      <td>510</td>\n",
       "      <td>280</td>\n",
       "      <td>17.0</td>\n",
       "      <td>80</td>\n",
       "      <td>64</td>\n",
       "      <td>12</td>\n",
       "    </tr>\n",
       "    <tr>\n",
       "      <td>256</td>\n",
       "      <td>Smoothies &amp; Shakes</td>\n",
       "      <td>McFlurry with Oreo Cookies (Medium)</td>\n",
       "      <td>690</td>\n",
       "      <td>380</td>\n",
       "      <td>23.0</td>\n",
       "      <td>106</td>\n",
       "      <td>85</td>\n",
       "      <td>15</td>\n",
       "    </tr>\n",
       "    <tr>\n",
       "      <td>257</td>\n",
       "      <td>Smoothies &amp; Shakes</td>\n",
       "      <td>McFlurry with Oreo Cookies (Snack)</td>\n",
       "      <td>340</td>\n",
       "      <td>190</td>\n",
       "      <td>11.0</td>\n",
       "      <td>53</td>\n",
       "      <td>43</td>\n",
       "      <td>8</td>\n",
       "    </tr>\n",
       "    <tr>\n",
       "      <td>258</td>\n",
       "      <td>Smoothies &amp; Shakes</td>\n",
       "      <td>McFlurry with Reese's Peanut Butter Cups (Medium)</td>\n",
       "      <td>810</td>\n",
       "      <td>400</td>\n",
       "      <td>32.0</td>\n",
       "      <td>114</td>\n",
       "      <td>103</td>\n",
       "      <td>21</td>\n",
       "    </tr>\n",
       "    <tr>\n",
       "      <td>259</td>\n",
       "      <td>Smoothies &amp; Shakes</td>\n",
       "      <td>McFlurry with Reese's Peanut Butter Cups (Snack)</td>\n",
       "      <td>410</td>\n",
       "      <td>200</td>\n",
       "      <td>16.0</td>\n",
       "      <td>57</td>\n",
       "      <td>51</td>\n",
       "      <td>10</td>\n",
       "    </tr>\n",
       "  </tbody>\n",
       "</table>\n",
       "<p>260 rows × 8 columns</p>\n",
       "</div>"
      ],
      "text/plain": [
       "               Category                                               Item  \\\n",
       "0             Breakfast                                       Egg McMuffin   \n",
       "1             Breakfast                                  Egg White Delight   \n",
       "2             Breakfast                                   Sausage McMuffin   \n",
       "3             Breakfast                          Sausage McMuffin with Egg   \n",
       "4             Breakfast                   Sausage McMuffin with Egg Whites   \n",
       "..                  ...                                                ...   \n",
       "255  Smoothies & Shakes                 McFlurry with Oreo Cookies (Small)   \n",
       "256  Smoothies & Shakes                McFlurry with Oreo Cookies (Medium)   \n",
       "257  Smoothies & Shakes                 McFlurry with Oreo Cookies (Snack)   \n",
       "258  Smoothies & Shakes  McFlurry with Reese's Peanut Butter Cups (Medium)   \n",
       "259  Smoothies & Shakes   McFlurry with Reese's Peanut Butter Cups (Snack)   \n",
       "\n",
       "     Calories  Sodium  Total Fat  Carbohydrates  Sugars  Protein  \n",
       "0         300     750       13.0             31       3       17  \n",
       "1         250     770        8.0             30       3       18  \n",
       "2         370     780       23.0             29       2       14  \n",
       "3         450     860       28.0             30       2       21  \n",
       "4         400     880       23.0             30       2       21  \n",
       "..        ...     ...        ...            ...     ...      ...  \n",
       "255       510     280       17.0             80      64       12  \n",
       "256       690     380       23.0            106      85       15  \n",
       "257       340     190       11.0             53      43        8  \n",
       "258       810     400       32.0            114     103       21  \n",
       "259       410     200       16.0             57      51       10  \n",
       "\n",
       "[260 rows x 8 columns]"
      ]
     },
     "execution_count": 23,
     "metadata": {},
     "output_type": "execute_result"
    }
   ],
   "source": [
    "#Do not change this cell\n",
    "mcd = bpd.read_csv('mcdonalds.csv',index_col = 0)\n",
    "mcd_bins = np.arange(0, 200, 10)\n",
    "mcd"
   ]
  },
  {
   "cell_type": "code",
   "execution_count": 24,
   "metadata": {},
   "outputs": [
    {
     "data": {
      "text/plain": [
       "<matplotlib.axes._subplots.AxesSubplot at 0x10d84fcbe48>"
      ]
     },
     "execution_count": 24,
     "metadata": {},
     "output_type": "execute_result"
    },
    {
     "data": {
      "image/png": "[encoded data removed]",
      "text/plain": [
       "<Figure size 432x288 with 1 Axes>"
      ]
     },
     "metadata": {
      "needs_background": "light"
     },
     "output_type": "display_data"
    }
   ],
   "source": [
    "#DELETE\n",
    "mcd.get('Carbohydrates').plot(kind='hist', bins = mcd_bins)"
   ]
  },
  {
   "cell_type": "markdown",
   "metadata": {},
   "source": [
    "**Question 2.3.** Compare the calorie distribution between categories `Beef & Pork` **AND** `Chicken & Fish` **AND** `Snacks & Sides` (group 1) **versus** category `Smoothies & Shakes` (group 2). Find the absolute difference between the 95th percentile of the two group's `Calories` column and assign it to `absolute_difference`. You may use `np.percentile()`."
   ]
  },
  {
   "cell_type": "code",
   "execution_count": 28,
   "metadata": {},
   "outputs": [],
   "source": [
    "#DELETE\n",
    "def beef_chicken_snacks(category):\n",
    "    if category in [\"Beef & Pork\", \"Chicken & Fish\", \"Snacks & Sides\"]:\n",
    "        return True\n",
    "    return False"
   ]
  },
  {
   "cell_type": "code",
   "execution_count": 31,
   "metadata": {
    "scrolled": true
   },
   "outputs": [
    {
     "data": {
      "text/html": [
       "<div>\n",
       "<style scoped>\n",
       "    .dataframe tbody tr th:only-of-type {\n",
       "        vertical-align: middle;\n",
       "    }\n",
       "\n",
       "    .dataframe tbody tr th {\n",
       "        vertical-align: top;\n",
       "    }\n",
       "\n",
       "    .dataframe thead th {\n",
       "        text-align: right;\n",
       "    }\n",
       "</style>\n",
       "<table border=\"1\" class=\"dataframe\">\n",
       "  <thead>\n",
       "    <tr style=\"text-align: right;\">\n",
       "      <th></th>\n",
       "      <th>Category</th>\n",
       "      <th>Item</th>\n",
       "      <th>Calories</th>\n",
       "      <th>Sodium</th>\n",
       "      <th>Total Fat</th>\n",
       "      <th>Carbohydrates</th>\n",
       "      <th>Sugars</th>\n",
       "      <th>Protein</th>\n",
       "    </tr>\n",
       "  </thead>\n",
       "  <tbody>\n",
       "    <tr>\n",
       "      <td>42</td>\n",
       "      <td>Beef &amp; Pork</td>\n",
       "      <td>Big Mac</td>\n",
       "      <td>530</td>\n",
       "      <td>960</td>\n",
       "      <td>27.0</td>\n",
       "      <td>47</td>\n",
       "      <td>9</td>\n",
       "      <td>24</td>\n",
       "    </tr>\n",
       "    <tr>\n",
       "      <td>43</td>\n",
       "      <td>Beef &amp; Pork</td>\n",
       "      <td>Quarter Pounder with Cheese</td>\n",
       "      <td>520</td>\n",
       "      <td>1100</td>\n",
       "      <td>26.0</td>\n",
       "      <td>41</td>\n",
       "      <td>10</td>\n",
       "      <td>30</td>\n",
       "    </tr>\n",
       "    <tr>\n",
       "      <td>44</td>\n",
       "      <td>Beef &amp; Pork</td>\n",
       "      <td>Quarter Pounder with Bacon &amp; Cheese</td>\n",
       "      <td>600</td>\n",
       "      <td>1440</td>\n",
       "      <td>29.0</td>\n",
       "      <td>48</td>\n",
       "      <td>12</td>\n",
       "      <td>37</td>\n",
       "    </tr>\n",
       "    <tr>\n",
       "      <td>45</td>\n",
       "      <td>Beef &amp; Pork</td>\n",
       "      <td>Quarter Pounder with Bacon Habanero Ranch</td>\n",
       "      <td>610</td>\n",
       "      <td>1180</td>\n",
       "      <td>31.0</td>\n",
       "      <td>46</td>\n",
       "      <td>10</td>\n",
       "      <td>37</td>\n",
       "    </tr>\n",
       "    <tr>\n",
       "      <td>46</td>\n",
       "      <td>Beef &amp; Pork</td>\n",
       "      <td>Quarter Pounder Deluxe</td>\n",
       "      <td>540</td>\n",
       "      <td>960</td>\n",
       "      <td>27.0</td>\n",
       "      <td>45</td>\n",
       "      <td>9</td>\n",
       "      <td>29</td>\n",
       "    </tr>\n",
       "    <tr>\n",
       "      <td>...</td>\n",
       "      <td>...</td>\n",
       "      <td>...</td>\n",
       "      <td>...</td>\n",
       "      <td>...</td>\n",
       "      <td>...</td>\n",
       "      <td>...</td>\n",
       "      <td>...</td>\n",
       "      <td>...</td>\n",
       "    </tr>\n",
       "    <tr>\n",
       "      <td>98</td>\n",
       "      <td>Snacks &amp; Sides</td>\n",
       "      <td>Large French Fries</td>\n",
       "      <td>510</td>\n",
       "      <td>290</td>\n",
       "      <td>24.0</td>\n",
       "      <td>67</td>\n",
       "      <td>0</td>\n",
       "      <td>6</td>\n",
       "    </tr>\n",
       "    <tr>\n",
       "      <td>99</td>\n",
       "      <td>Snacks &amp; Sides</td>\n",
       "      <td>Kids French Fries</td>\n",
       "      <td>110</td>\n",
       "      <td>65</td>\n",
       "      <td>5.0</td>\n",
       "      <td>15</td>\n",
       "      <td>0</td>\n",
       "      <td>1</td>\n",
       "    </tr>\n",
       "    <tr>\n",
       "      <td>100</td>\n",
       "      <td>Snacks &amp; Sides</td>\n",
       "      <td>Side Salad</td>\n",
       "      <td>20</td>\n",
       "      <td>10</td>\n",
       "      <td>0.0</td>\n",
       "      <td>4</td>\n",
       "      <td>2</td>\n",
       "      <td>1</td>\n",
       "    </tr>\n",
       "    <tr>\n",
       "      <td>101</td>\n",
       "      <td>Snacks &amp; Sides</td>\n",
       "      <td>Apple Slices</td>\n",
       "      <td>15</td>\n",
       "      <td>0</td>\n",
       "      <td>0.0</td>\n",
       "      <td>4</td>\n",
       "      <td>3</td>\n",
       "      <td>0</td>\n",
       "    </tr>\n",
       "    <tr>\n",
       "      <td>102</td>\n",
       "      <td>Snacks &amp; Sides</td>\n",
       "      <td>Fruit 'n Yogurt Parfait</td>\n",
       "      <td>150</td>\n",
       "      <td>70</td>\n",
       "      <td>2.0</td>\n",
       "      <td>30</td>\n",
       "      <td>23</td>\n",
       "      <td>4</td>\n",
       "    </tr>\n",
       "  </tbody>\n",
       "</table>\n",
       "<p>55 rows × 8 columns</p>\n",
       "</div>"
      ],
      "text/plain": [
       "           Category                                       Item  Calories  \\\n",
       "42      Beef & Pork                                    Big Mac       530   \n",
       "43      Beef & Pork                Quarter Pounder with Cheese       520   \n",
       "44      Beef & Pork        Quarter Pounder with Bacon & Cheese       600   \n",
       "45      Beef & Pork  Quarter Pounder with Bacon Habanero Ranch       610   \n",
       "46      Beef & Pork                     Quarter Pounder Deluxe       540   \n",
       "..              ...                                        ...       ...   \n",
       "98   Snacks & Sides                         Large French Fries       510   \n",
       "99   Snacks & Sides                          Kids French Fries       110   \n",
       "100  Snacks & Sides                                 Side Salad        20   \n",
       "101  Snacks & Sides                               Apple Slices        15   \n",
       "102  Snacks & Sides                    Fruit 'n Yogurt Parfait       150   \n",
       "\n",
       "     Sodium  Total Fat  Carbohydrates  Sugars  Protein  \n",
       "42      960       27.0             47       9       24  \n",
       "43     1100       26.0             41      10       30  \n",
       "44     1440       29.0             48      12       37  \n",
       "45     1180       31.0             46      10       37  \n",
       "46      960       27.0             45       9       29  \n",
       "..      ...        ...            ...     ...      ...  \n",
       "98      290       24.0             67       0        6  \n",
       "99       65        5.0             15       0        1  \n",
       "100      10        0.0              4       2        1  \n",
       "101       0        0.0              4       3        0  \n",
       "102      70        2.0             30      23        4  \n",
       "\n",
       "[55 rows x 8 columns]"
      ]
     },
     "execution_count": 31,
     "metadata": {},
     "output_type": "execute_result"
    }
   ],
   "source": [
    "#DELETE\n",
    "bc = mcd[mcd.get('Category').apply(beef_chicken_snacks)]\n",
    "bc"
   ]
  },
  {
   "cell_type": "code",
   "execution_count": 32,
   "metadata": {},
   "outputs": [
    {
     "data": {
      "text/plain": [
       "100"
      ]
     },
     "execution_count": 32,
     "metadata": {},
     "output_type": "execute_result"
    }
   ],
   "source": [
    "#...absolute_difference\n",
    "absolute_difference = int(abs(np.percentile(bc.get('Calories'),95) - np.percentile(mcd[mcd.get('Category')=='Smoothies & Shakes'].get('Calories'),95)))\n",
    "absolute_difference"
   ]
  },
  {
   "cell_type": "code",
   "execution_count": null,
   "metadata": {
    "scrolled": true
   },
   "outputs": [],
   "source": [
    "_ = ok.grade('q2_3')"
   ]
  },
  {
   "cell_type": "markdown",
   "metadata": {},
   "source": [
    "**Question 2.4**. In an array `sugar_quartiles`, put the values for the first, second, and third quartiles (in that order) of the `Sugars` data provided, but only for items in the `Coffee & Tea` category. Make sure your values are in the correct order. You may use `np.percentile()`."
   ]
  },
  {
   "cell_type": "code",
   "execution_count": 33,
   "metadata": {},
   "outputs": [
    {
     "data": {
      "text/plain": [
       "array([21. , 41. , 56.5])"
      ]
     },
     "execution_count": 33,
     "metadata": {},
     "output_type": "execute_result"
    }
   ],
   "source": [
    "#...carb_quartiles\n",
    "df = mcd[mcd.get(\"Category\") =='Coffee & Tea'].get('Sugars')\n",
    "first_quartile = np.percentile(df, 25)\n",
    "second_quartile = np.percentile(df, 50)\n",
    "third_quartile = np.percentile(df, 75)\n",
    "sugar_quartiles = np.array([first_quartile, second_quartile, third_quartile])\n",
    "sugar_quartiles"
   ]
  },
  {
   "cell_type": "code",
   "execution_count": null,
   "metadata": {},
   "outputs": [],
   "source": [
    "_ = ok.grade('q2_4')"
   ]
  },
  {
   "cell_type": "markdown",
   "metadata": {},
   "source": [
    "**Quetion 2.5.** Say that McDonald's wants to add in a new Smoothie called `Mocha Almond Fudge (Large)` which has 90 grams of sugar. What would the `Sugars` percentile range of this new smoothie be out of the **Large** only `Smoothies & Shakes` `Category`? Give the result back as two numbers (1-100). The smallest percentile that will return the new drink should be returned as `lower_bound` and the largest percentile that will return the new drink should be labeled `upper_bound`. For example, if the new smoothie would be returned back when finding the 70th percentile and 80th percentile of the Large Smoothies, but not at the 69th and 81st percentile, then lower_bound = 70, upper_bound = 80.\n",
    "\n",
    "**Hint:** If you're unsure about percentiles, refer back to the general definition above Question 1."
   ]
  },
  {
   "cell_type": "code",
   "execution_count": 34,
   "metadata": {},
   "outputs": [
    {
     "data": {
      "text/html": [
       "<div>\n",
       "<style scoped>\n",
       "    .dataframe tbody tr th:only-of-type {\n",
       "        vertical-align: middle;\n",
       "    }\n",
       "\n",
       "    .dataframe tbody tr th {\n",
       "        vertical-align: top;\n",
       "    }\n",
       "\n",
       "    .dataframe thead th {\n",
       "        text-align: right;\n",
       "    }\n",
       "</style>\n",
       "<table border=\"1\" class=\"dataframe\">\n",
       "  <thead>\n",
       "    <tr style=\"text-align: right;\">\n",
       "      <th></th>\n",
       "      <th>Category</th>\n",
       "      <th>Item</th>\n",
       "      <th>Calories</th>\n",
       "      <th>Sodium</th>\n",
       "      <th>Total Fat</th>\n",
       "      <th>Carbohydrates</th>\n",
       "      <th>Sugars</th>\n",
       "      <th>Protein</th>\n",
       "    </tr>\n",
       "  </thead>\n",
       "  <tbody>\n",
       "    <tr>\n",
       "      <td>234</td>\n",
       "      <td>Smoothies &amp; Shakes</td>\n",
       "      <td>Blueberry Pomegranate Smoothie (Large)</td>\n",
       "      <td>340</td>\n",
       "      <td>65</td>\n",
       "      <td>1.0</td>\n",
       "      <td>79</td>\n",
       "      <td>70</td>\n",
       "      <td>4</td>\n",
       "    </tr>\n",
       "    <tr>\n",
       "      <td>237</td>\n",
       "      <td>Smoothies &amp; Shakes</td>\n",
       "      <td>Strawberry Banana Smoothie (Large)</td>\n",
       "      <td>330</td>\n",
       "      <td>80</td>\n",
       "      <td>1.0</td>\n",
       "      <td>74</td>\n",
       "      <td>70</td>\n",
       "      <td>5</td>\n",
       "    </tr>\n",
       "    <tr>\n",
       "      <td>240</td>\n",
       "      <td>Smoothies &amp; Shakes</td>\n",
       "      <td>Mango Pineapple Smoothie (Large)</td>\n",
       "      <td>340</td>\n",
       "      <td>60</td>\n",
       "      <td>1.0</td>\n",
       "      <td>78</td>\n",
       "      <td>72</td>\n",
       "      <td>4</td>\n",
       "    </tr>\n",
       "    <tr>\n",
       "      <td>243</td>\n",
       "      <td>Smoothies &amp; Shakes</td>\n",
       "      <td>Vanilla Shake (Large)</td>\n",
       "      <td>820</td>\n",
       "      <td>260</td>\n",
       "      <td>23.0</td>\n",
       "      <td>135</td>\n",
       "      <td>101</td>\n",
       "      <td>18</td>\n",
       "    </tr>\n",
       "    <tr>\n",
       "      <td>246</td>\n",
       "      <td>Smoothies &amp; Shakes</td>\n",
       "      <td>Strawberry Shake (Large)</td>\n",
       "      <td>850</td>\n",
       "      <td>260</td>\n",
       "      <td>24.0</td>\n",
       "      <td>140</td>\n",
       "      <td>123</td>\n",
       "      <td>18</td>\n",
       "    </tr>\n",
       "    <tr>\n",
       "      <td>249</td>\n",
       "      <td>Smoothies &amp; Shakes</td>\n",
       "      <td>Chocolate Shake (Large)</td>\n",
       "      <td>850</td>\n",
       "      <td>380</td>\n",
       "      <td>23.0</td>\n",
       "      <td>141</td>\n",
       "      <td>120</td>\n",
       "      <td>19</td>\n",
       "    </tr>\n",
       "    <tr>\n",
       "      <td>251</td>\n",
       "      <td>Smoothies &amp; Shakes</td>\n",
       "      <td>Shamrock Shake (Large)</td>\n",
       "      <td>820</td>\n",
       "      <td>260</td>\n",
       "      <td>23.0</td>\n",
       "      <td>135</td>\n",
       "      <td>115</td>\n",
       "      <td>18</td>\n",
       "    </tr>\n",
       "  </tbody>\n",
       "</table>\n",
       "</div>"
      ],
      "text/plain": [
       "               Category                                    Item  Calories  \\\n",
       "234  Smoothies & Shakes  Blueberry Pomegranate Smoothie (Large)       340   \n",
       "237  Smoothies & Shakes      Strawberry Banana Smoothie (Large)       330   \n",
       "240  Smoothies & Shakes        Mango Pineapple Smoothie (Large)       340   \n",
       "243  Smoothies & Shakes                   Vanilla Shake (Large)       820   \n",
       "246  Smoothies & Shakes                Strawberry Shake (Large)       850   \n",
       "249  Smoothies & Shakes                 Chocolate Shake (Large)       850   \n",
       "251  Smoothies & Shakes                  Shamrock Shake (Large)       820   \n",
       "\n",
       "     Sodium  Total Fat  Carbohydrates  Sugars  Protein  \n",
       "234      65        1.0             79      70        4  \n",
       "237      80        1.0             74      70        5  \n",
       "240      60        1.0             78      72        4  \n",
       "243     260       23.0            135     101       18  \n",
       "246     260       24.0            140     123       18  \n",
       "249     380       23.0            141     120       19  \n",
       "251     260       23.0            135     115       18  "
      ]
     },
     "execution_count": 34,
     "metadata": {},
     "output_type": "execute_result"
    }
   ],
   "source": [
    "mcd[(mcd.get('Category') == 'Smoothies & Shakes') &(mcd.get('Item').str.contains('Large'))]"
   ]
  },
  {
   "cell_type": "code",
   "execution_count": 77,
   "metadata": {},
   "outputs": [
    {
     "data": {
      "text/plain": [
       "array([ 70,  70,  72, 101, 123, 120, 115,  90], dtype=int64)"
      ]
     },
     "execution_count": 77,
     "metadata": {},
     "output_type": "execute_result"
    }
   ],
   "source": [
    "sa = mcd[(mcd.get('Category') == 'Smoothies & Shakes') &(mcd.get('Item').str.contains('Large'))].get('Sugars')\n",
    "sa = np.append(np.array(sa), 90)\n",
    "sa"
   ]
  },
  {
   "cell_type": "code",
   "execution_count": 85,
   "metadata": {},
   "outputs": [
    {
     "data": {
      "text/plain": [
       "37.5"
      ]
     },
     "execution_count": 85,
     "metadata": {},
     "output_type": "execute_result"
    }
   ],
   "source": [
    "#three sugars rows below 90\n",
    "3/8 * 100"
   ]
  },
  {
   "cell_type": "code",
   "execution_count": 86,
   "metadata": {},
   "outputs": [
    {
     "data": {
      "text/plain": [
       "50.0"
      ]
     },
     "execution_count": 86,
     "metadata": {},
     "output_type": "execute_result"
    }
   ],
   "source": [
    "#three sugars rows above 90\n",
    "4/8 * 100"
   ]
  },
  {
   "cell_type": "code",
   "execution_count": 35,
   "metadata": {},
   "outputs": [
    {
     "data": {
      "text/plain": [
       "(3.04, 4.0)"
      ]
     },
     "execution_count": 35,
     "metadata": {},
     "output_type": "execute_result"
    }
   ],
   "source": [
    "#...lower_bound\n",
    "#...upper_bound\n",
    "lower_bound = 38\n",
    "upper_bound = 50\n",
    "\n",
    "38/ 100 * 8, 50/ 100 * 8"
   ]
  },
  {
   "cell_type": "code",
   "execution_count": null,
   "metadata": {},
   "outputs": [],
   "source": [
    "_ = ok.grade('q2_5')"
   ]
  },
  {
   "cell_type": "markdown",
   "metadata": {},
   "source": [
    "**Question 2.6.** Shaun surveyed his class to find the total number of pets each of his classmates has. You can see his findings below in the table `pets`. For instance, 4 people have 0 pets, 5 have 1 pet, and so on. If one of his classmates, Jake, has some number of pets that falls in the 70th percentile of Shaun's data, how many pets does Jake have? Assign your answer to the value `jake_pets`. You may use `np.percentile()`.\n",
    "\n",
    "*Hint*: A possilbe solution uses [np.repeat](https://docs.scipy.org/doc/numpy/reference/generated/numpy.repeat.html). (Also described in part 4.3)"
   ]
  },
  {
   "cell_type": "code",
   "execution_count": 87,
   "metadata": {},
   "outputs": [
    {
     "data": {
      "text/html": [
       "<div>\n",
       "<style scoped>\n",
       "    .dataframe tbody tr th:only-of-type {\n",
       "        vertical-align: middle;\n",
       "    }\n",
       "\n",
       "    .dataframe tbody tr th {\n",
       "        vertical-align: top;\n",
       "    }\n",
       "\n",
       "    .dataframe thead th {\n",
       "        text-align: right;\n",
       "    }\n",
       "</style>\n",
       "<table border=\"1\" class=\"dataframe\">\n",
       "  <thead>\n",
       "    <tr style=\"text-align: right;\">\n",
       "      <th></th>\n",
       "      <th>Pets</th>\n",
       "      <th>Frequency</th>\n",
       "    </tr>\n",
       "  </thead>\n",
       "  <tbody>\n",
       "    <tr>\n",
       "      <td>0</td>\n",
       "      <td>0</td>\n",
       "      <td>4</td>\n",
       "    </tr>\n",
       "    <tr>\n",
       "      <td>1</td>\n",
       "      <td>1</td>\n",
       "      <td>5</td>\n",
       "    </tr>\n",
       "    <tr>\n",
       "      <td>2</td>\n",
       "      <td>2</td>\n",
       "      <td>6</td>\n",
       "    </tr>\n",
       "    <tr>\n",
       "      <td>3</td>\n",
       "      <td>3</td>\n",
       "      <td>3</td>\n",
       "    </tr>\n",
       "    <tr>\n",
       "      <td>4</td>\n",
       "      <td>4</td>\n",
       "      <td>2</td>\n",
       "    </tr>\n",
       "    <tr>\n",
       "      <td>5</td>\n",
       "      <td>5</td>\n",
       "      <td>1</td>\n",
       "    </tr>\n",
       "    <tr>\n",
       "      <td>6</td>\n",
       "      <td>10</td>\n",
       "      <td>1</td>\n",
       "    </tr>\n",
       "  </tbody>\n",
       "</table>\n",
       "</div>"
      ],
      "text/plain": [
       "   Pets  Frequency\n",
       "0     0          4\n",
       "1     1          5\n",
       "2     2          6\n",
       "3     3          3\n",
       "4     4          2\n",
       "5     5          1\n",
       "6    10          1"
      ]
     },
     "execution_count": 87,
     "metadata": {},
     "output_type": "execute_result"
    }
   ],
   "source": [
    "#: load the data“\n",
    "pets = bpd.read_csv('pets.csv')\n",
    "pets"
   ]
  },
  {
   "cell_type": "code",
   "execution_count": 88,
   "metadata": {},
   "outputs": [
    {
     "data": {
      "text/plain": [
       "2.6999999999999993"
      ]
     },
     "execution_count": 88,
     "metadata": {},
     "output_type": "execute_result"
    }
   ],
   "source": [
    "#DELETE\n",
    "# better solution\n",
    "all_pets = np.repeat(pets.get('Pets'), pets.get('Frequency'))\n",
    "jake_pets = np.percentile(all_pets,70)\n",
    "jake_pets"
   ]
  },
  {
   "cell_type": "code",
   "execution_count": 89,
   "metadata": {},
   "outputs": [
    {
     "data": {
      "text/plain": [
       "2.6999999999999993"
      ]
     },
     "execution_count": 89,
     "metadata": {},
     "output_type": "execute_result"
    }
   ],
   "source": [
    "#...jake_pets\n",
    "\n",
    "num_pets = np.array([])\n",
    "for num in np.arange(pets.shape[0]):\n",
    "    for frequency in np.arange(pets.get('Frequency').loc[num]):\n",
    "        num_pets = np.append(num_pets, pets.get('Pets').loc[num])\n",
    "jake_pets = np.percentile(num_pets,70)\n",
    "jake_pets"
   ]
  },
  {
   "cell_type": "code",
   "execution_count": 90,
   "metadata": {},
   "outputs": [
    {
     "data": {
      "text/plain": [
       "array([ 0.,  0.,  0.,  0.,  1.,  1.,  1.,  1.,  1.,  2.,  2.,  2.,  2.,\n",
       "        2.,  2.,  3.,  3.,  3.,  4.,  4.,  5., 10.])"
      ]
     },
     "execution_count": 90,
     "metadata": {},
     "output_type": "execute_result"
    }
   ],
   "source": [
    "#num_pets"
   ]
  },
  {
   "cell_type": "code",
   "execution_count": null,
   "metadata": {},
   "outputs": [],
   "source": [
    "_ = ok.grade('q2_6')"
   ]
  },
  {
   "cell_type": "markdown",
   "metadata": {},
   "source": [
    "## 3. In-N-Out and Five Guys"
   ]
  },
  {
   "cell_type": "markdown",
   "metadata": {},
   "source": [
    "Suppose you are a burger lover and a regular at In-N-Out. When you get your third In-N-Out burger of the week, you notice that your patty is extremely small. Your friend tells you In-N-Out patties have always been this small, but you are doubtful and decide to investigate.\n",
    "\n",
    "Ideally, you would want to figure out the exact mean weight of all In-N-Out burger patties. However, it's not feasible to obtain the mean weight of *all* In-N-Out patties (i.e. the mean weight of the population)."
   ]
  },
  {
   "cell_type": "markdown",
   "metadata": {},
   "source": [
    "**Question 3.1.** Complete the statement below by filling in the blanks."
   ]
  },
  {
   "cell_type": "markdown",
   "metadata": {},
   "source": [
    "<hr style=\"color:Maroon;background-color:Maroon;border:0 none; height: 3px;\">\n",
    "\n",
    "Therefore, you want to collect a sample of In-N-Out patties to obtain a __________ statistic to estimate the ___________ parameter.\n",
    "\n",
    "<hr style=\"color:Maroon;background-color:Maroon;border:0 none; height: 3px;\">"
   ]
  },
  {
   "cell_type": "markdown",
   "metadata": {},
   "source": [
    "Your other friend, who works at In-N-Out, agreed to weigh all the patties during his shift. He also does the same with Five Guys, since he works there as well. You decide to use this data as your sample."
   ]
  },
  {
   "cell_type": "markdown",
   "metadata": {},
   "source": [
    "**Question 3.2.** Your data is recorded in a CSV file called `burgers.csv`. Read this file into a table named `burgers`."
   ]
  },
  {
   "cell_type": "code",
   "execution_count": 91,
   "metadata": {},
   "outputs": [
    {
     "data": {
      "text/html": [
       "<div>\n",
       "<style scoped>\n",
       "    .dataframe tbody tr th:only-of-type {\n",
       "        vertical-align: middle;\n",
       "    }\n",
       "\n",
       "    .dataframe tbody tr th {\n",
       "        vertical-align: top;\n",
       "    }\n",
       "\n",
       "    .dataframe thead th {\n",
       "        text-align: right;\n",
       "    }\n",
       "</style>\n",
       "<table border=\"1\" class=\"dataframe\">\n",
       "  <thead>\n",
       "    <tr style=\"text-align: right;\">\n",
       "      <th></th>\n",
       "      <th>Place</th>\n",
       "      <th>Patty Weight (Ounces)</th>\n",
       "    </tr>\n",
       "  </thead>\n",
       "  <tbody>\n",
       "    <tr>\n",
       "      <td>0</td>\n",
       "      <td>In-N-Out</td>\n",
       "      <td>2.039654</td>\n",
       "    </tr>\n",
       "    <tr>\n",
       "      <td>1</td>\n",
       "      <td>Five Guys</td>\n",
       "      <td>3.248876</td>\n",
       "    </tr>\n",
       "    <tr>\n",
       "      <td>2</td>\n",
       "      <td>In-N-Out</td>\n",
       "      <td>1.977957</td>\n",
       "    </tr>\n",
       "    <tr>\n",
       "      <td>3</td>\n",
       "      <td>Five Guys</td>\n",
       "      <td>3.403185</td>\n",
       "    </tr>\n",
       "    <tr>\n",
       "      <td>4</td>\n",
       "      <td>Five Guys</td>\n",
       "      <td>3.120933</td>\n",
       "    </tr>\n",
       "    <tr>\n",
       "      <td>...</td>\n",
       "      <td>...</td>\n",
       "      <td>...</td>\n",
       "    </tr>\n",
       "    <tr>\n",
       "      <td>95</td>\n",
       "      <td>Five Guys</td>\n",
       "      <td>3.193695</td>\n",
       "    </tr>\n",
       "    <tr>\n",
       "      <td>96</td>\n",
       "      <td>In-N-Out</td>\n",
       "      <td>2.061263</td>\n",
       "    </tr>\n",
       "    <tr>\n",
       "      <td>97</td>\n",
       "      <td>In-N-Out</td>\n",
       "      <td>2.150006</td>\n",
       "    </tr>\n",
       "    <tr>\n",
       "      <td>98</td>\n",
       "      <td>In-N-Out</td>\n",
       "      <td>1.739588</td>\n",
       "    </tr>\n",
       "    <tr>\n",
       "      <td>99</td>\n",
       "      <td>Five Guys</td>\n",
       "      <td>3.381488</td>\n",
       "    </tr>\n",
       "  </tbody>\n",
       "</table>\n",
       "<p>100 rows × 2 columns</p>\n",
       "</div>"
      ],
      "text/plain": [
       "        Place  Patty Weight (Ounces)\n",
       "0    In-N-Out               2.039654\n",
       "1   Five Guys               3.248876\n",
       "2    In-N-Out               1.977957\n",
       "3   Five Guys               3.403185\n",
       "4   Five Guys               3.120933\n",
       "..        ...                    ...\n",
       "95  Five Guys               3.193695\n",
       "96   In-N-Out               2.061263\n",
       "97   In-N-Out               2.150006\n",
       "98   In-N-Out               1.739588\n",
       "99  Five Guys               3.381488\n",
       "\n",
       "[100 rows x 2 columns]"
      ]
     },
     "execution_count": 91,
     "metadata": {},
     "output_type": "execute_result"
    }
   ],
   "source": [
    "#...burgers\n",
    "burgers = bpd.read_csv('burgers.csv')\n",
    "burgers"
   ]
  },
  {
   "cell_type": "code",
   "execution_count": null,
   "metadata": {
    "scrolled": true
   },
   "outputs": [],
   "source": [
    "_ = ok.grade('q3_2')"
   ]
  },
  {
   "cell_type": "markdown",
   "metadata": {},
   "source": [
    "**Question 3.3.** For now, you only care about the weights of the In-N-Out patties. Create a new table with the rows of `burgers` where the value of `Place` is \"In-N-Out\". Assign this new table to `in_n_out`."
   ]
  },
  {
   "cell_type": "code",
   "execution_count": 92,
   "metadata": {},
   "outputs": [
    {
     "data": {
      "text/html": [
       "<div>\n",
       "<style scoped>\n",
       "    .dataframe tbody tr th:only-of-type {\n",
       "        vertical-align: middle;\n",
       "    }\n",
       "\n",
       "    .dataframe tbody tr th {\n",
       "        vertical-align: top;\n",
       "    }\n",
       "\n",
       "    .dataframe thead th {\n",
       "        text-align: right;\n",
       "    }\n",
       "</style>\n",
       "<table border=\"1\" class=\"dataframe\">\n",
       "  <thead>\n",
       "    <tr style=\"text-align: right;\">\n",
       "      <th></th>\n",
       "      <th>Place</th>\n",
       "      <th>Patty Weight (Ounces)</th>\n",
       "    </tr>\n",
       "  </thead>\n",
       "  <tbody>\n",
       "    <tr>\n",
       "      <td>0</td>\n",
       "      <td>In-N-Out</td>\n",
       "      <td>2.039654</td>\n",
       "    </tr>\n",
       "    <tr>\n",
       "      <td>2</td>\n",
       "      <td>In-N-Out</td>\n",
       "      <td>1.977957</td>\n",
       "    </tr>\n",
       "    <tr>\n",
       "      <td>5</td>\n",
       "      <td>In-N-Out</td>\n",
       "      <td>1.966266</td>\n",
       "    </tr>\n",
       "    <tr>\n",
       "      <td>6</td>\n",
       "      <td>In-N-Out</td>\n",
       "      <td>2.058461</td>\n",
       "    </tr>\n",
       "    <tr>\n",
       "      <td>8</td>\n",
       "      <td>In-N-Out</td>\n",
       "      <td>1.985435</td>\n",
       "    </tr>\n",
       "    <tr>\n",
       "      <td>...</td>\n",
       "      <td>...</td>\n",
       "      <td>...</td>\n",
       "    </tr>\n",
       "    <tr>\n",
       "      <td>93</td>\n",
       "      <td>In-N-Out</td>\n",
       "      <td>2.107875</td>\n",
       "    </tr>\n",
       "    <tr>\n",
       "      <td>94</td>\n",
       "      <td>In-N-Out</td>\n",
       "      <td>1.969110</td>\n",
       "    </tr>\n",
       "    <tr>\n",
       "      <td>96</td>\n",
       "      <td>In-N-Out</td>\n",
       "      <td>2.061263</td>\n",
       "    </tr>\n",
       "    <tr>\n",
       "      <td>97</td>\n",
       "      <td>In-N-Out</td>\n",
       "      <td>2.150006</td>\n",
       "    </tr>\n",
       "    <tr>\n",
       "      <td>98</td>\n",
       "      <td>In-N-Out</td>\n",
       "      <td>1.739588</td>\n",
       "    </tr>\n",
       "  </tbody>\n",
       "</table>\n",
       "<p>50 rows × 2 columns</p>\n",
       "</div>"
      ],
      "text/plain": [
       "       Place  Patty Weight (Ounces)\n",
       "0   In-N-Out               2.039654\n",
       "2   In-N-Out               1.977957\n",
       "5   In-N-Out               1.966266\n",
       "6   In-N-Out               2.058461\n",
       "8   In-N-Out               1.985435\n",
       "..       ...                    ...\n",
       "93  In-N-Out               2.107875\n",
       "94  In-N-Out               1.969110\n",
       "96  In-N-Out               2.061263\n",
       "97  In-N-Out               2.150006\n",
       "98  In-N-Out               1.739588\n",
       "\n",
       "[50 rows x 2 columns]"
      ]
     },
     "execution_count": 92,
     "metadata": {},
     "output_type": "execute_result"
    }
   ],
   "source": [
    "#...in_n_out\n",
    "in_n_out = burgers[burgers.get('Place') == 'In-N-Out']\n",
    "in_n_out"
   ]
  },
  {
   "cell_type": "code",
   "execution_count": null,
   "metadata": {},
   "outputs": [],
   "source": [
    "_ = ok.grade('q3_3')"
   ]
  },
  {
   "cell_type": "markdown",
   "metadata": {},
   "source": [
    "**Question 3.4.** Calculate the mean weight of `in_n_out` patties and assign it to `in_n_out_mean`. "
   ]
  },
  {
   "cell_type": "code",
   "execution_count": 93,
   "metadata": {},
   "outputs": [
    {
     "data": {
      "text/plain": [
       "2.0076955103010907"
      ]
     },
     "execution_count": 93,
     "metadata": {},
     "output_type": "execute_result"
    }
   ],
   "source": [
    "#...in_n_out_mean\n",
    "in_n_out_mean = in_n_out.get('Patty Weight (Ounces)').mean()\n",
    "in_n_out_mean"
   ]
  },
  {
   "cell_type": "code",
   "execution_count": null,
   "metadata": {},
   "outputs": [],
   "source": [
    "_ = ok.grade('q3_4')"
   ]
  },
  {
   "cell_type": "markdown",
   "metadata": {},
   "source": [
    "You're done! Or are you? You have a single point estimate for the true mean In-N-Out patty weight. However, you don't know how uncertain your estimate is and you don't know how much these estimates could vary. In other words, you don't have a sense of how good your estimate is. You may have gotten a particular statistic for one sample, but you could also get a completely different one for another sample.\n",
    "\n",
    "This is where the idea of resampling via the [bootstrap](http://sierra.ucsd.edu/dsc10-book/chapters/13/2/Bootstrap.html) comes in. Let's assume that our original sample resembles the population fairly well. We can then resample from our original sample to produce even more estimates, which we can then use to produce an interval estimate for the true mean weight of In-N-Out patties."
   ]
  },
  {
   "cell_type": "markdown",
   "metadata": {},
   "source": [
    "**Question 3.5.** Fill out the following code to produce 1,000 bootstrapped estimates for the  *mean* weight of In-N-Out patties. Store your 1,000 estimates in the `in_n_out_means` array."
   ]
  },
  {
   "cell_type": "code",
   "execution_count": null,
   "metadata": {},
   "outputs": [],
   "source": [
    "in_n_out_means = ...\n",
    "for ... in ...:\n",
    "    resample = ...\n",
    "    resample_mean = ...\n",
    "    in_n_out_means = ...   "
   ]
  },
  {
   "cell_type": "code",
   "execution_count": 94,
   "metadata": {},
   "outputs": [],
   "source": [
    "#DELETE    \n",
    "in_n_out_means = np.array([])\n",
    "for i in np.arange(1000):\n",
    "    resample = in_n_out.sample(in_n_out.shape[0],replace = True)\n",
    "    resample_mean = resample.get('Patty Weight (Ounces)').mean()\n",
    "    in_n_out_means = np.append(in_n_out_means, resample_mean)"
   ]
  },
  {
   "cell_type": "code",
   "execution_count": 95,
   "metadata": {},
   "outputs": [
    {
     "data": {
      "text/plain": [
       "<matplotlib.axes._subplots.AxesSubplot at 0x10d8939ed48>"
      ]
     },
     "execution_count": 95,
     "metadata": {},
     "output_type": "execute_result"
    },
    {
     "data": {
      "image/png": "[encoded data removed]",
      "text/plain": [
       "<Figure size 432x288 with 1 Axes>"
      ]
     },
     "metadata": {
      "needs_background": "light"
     },
     "output_type": "display_data"
    }
   ],
   "source": [
    "#: This cell displays a histogram of in_n_out_means\n",
    "bpd.DataFrame().assign(Estimated_Mean = in_n_out_means).plot(kind = 'hist')"
   ]
  },
  {
   "cell_type": "code",
   "execution_count": null,
   "metadata": {},
   "outputs": [],
   "source": [
    "_ = ok.grade('q3_5')"
   ]
  },
  {
   "cell_type": "markdown",
   "metadata": {},
   "source": [
    "**Question 3.6.** Using the array `in_n_out_means`, compute an approximate 95% confidence interval for the true mean weight of In-N-Out patties. (Compute the lower and upper ends of the interval, named `lower_bound` and `upper_bound`, respectively.)\n",
    "\n",
    "*Hint:* Use `percentile()`."
   ]
  },
  {
   "cell_type": "code",
   "execution_count": 111,
   "metadata": {},
   "outputs": [
    {
     "data": {
      "text/plain": [
       "1.9664692923116518"
      ]
     },
     "execution_count": 111,
     "metadata": {},
     "output_type": "execute_result"
    }
   ],
   "source": [
    "#...lower_bound\n",
    "lower_bound = np.percentile(in_n_out_means,2.5)\n",
    "lower_bound"
   ]
  },
  {
   "cell_type": "code",
   "execution_count": 112,
   "metadata": {},
   "outputs": [
    {
     "data": {
      "text/plain": [
       "2.0509957520767923"
      ]
     },
     "execution_count": 112,
     "metadata": {},
     "output_type": "execute_result"
    }
   ],
   "source": [
    "#...upper_bound\n",
    "upper_bound = np.percentile(in_n_out_means,97.5)\n",
    "upper_bound"
   ]
  },
  {
   "cell_type": "code",
   "execution_count": 113,
   "metadata": {},
   "outputs": [
    {
     "name": "stdout",
     "output_type": "stream",
     "text": [
      "Bootstrapped 95% confidence interval for the true mean weight of In-N-Out patties: [1.966469, 2.050996]\n"
     ]
    }
   ],
   "source": [
    "#: the confidence interval\n",
    "print(\"Bootstrapped 95% confidence interval for the true mean weight of In-N-Out patties: [{:f}, {:f}]\".format(lower_bound, upper_bound))"
   ]
  },
  {
   "cell_type": "code",
   "execution_count": null,
   "metadata": {},
   "outputs": [],
   "source": [
    "_ = ok.grade('q3_6')"
   ]
  },
  {
   "cell_type": "markdown",
   "metadata": {},
   "source": [
    "**Question 3.7.** Which of the following would make the histogram narrower? Assign either 1 or 2 to `q3_7`.\n",
    "1. Increasing the number of resamples (repetitions of bootstrap).\n",
    "2. Starting with a larger original sample size.\n",
    "3. Lowering the confidence interval to 90%."
   ]
  },
  {
   "cell_type": "code",
   "execution_count": 114,
   "metadata": {},
   "outputs": [
    {
     "data": {
      "text/plain": [
       "2"
      ]
     },
     "execution_count": 114,
     "metadata": {},
     "output_type": "execute_result"
    }
   ],
   "source": [
    "#...q3_7\n",
    "q3_7 = 2\n",
    "q3_7"
   ]
  },
  {
   "cell_type": "code",
   "execution_count": null,
   "metadata": {},
   "outputs": [],
   "source": [
    "_ = ok.grade('q3_7')"
   ]
  },
  {
   "cell_type": "markdown",
   "metadata": {},
   "source": [
    "**Question 3.8.** Suppose you want to find the weight of the heaviest In-N-Out patty (maximum weight out of the entire population). Would your bootstrap procedure be effective in estimating the weight of the heaviest In-N-Out patty? Explain your answer below."
   ]
  },
  {
   "cell_type": "markdown",
   "metadata": {},
   "source": [
    "<hr style=\"color:Maroon;background-color:Maroon;border:0 none; height: 3px;\">\n",
    "\n",
    "*Your answer here*\n",
    "\n",
    "<hr style=\"color:Maroon;background-color:Maroon;border:0 none; height: 3px;\">"
   ]
  },
  {
   "cell_type": "markdown",
   "metadata": {},
   "source": [
    "**Question 3.9.** Suppose you're wondering how heavy the average In-N-Out patty is compared to the average Five Guys patty. Using the same bootstrap procedure, compute an approximate 95% confidence interval for the true mean difference in weight between In-N-Out and Five Guys patties. Store your 1,000 estimates in the `difference_means` array. Use the original `burgers` table for this.\n",
    "\n",
    "$$\\text{difference_mean} := \\text{mean weight of In-N-Out} - \\text{mean weight of Five Guys}$$"
   ]
  },
  {
   "cell_type": "code",
   "execution_count": null,
   "metadata": {},
   "outputs": [],
   "source": [
    "# You may need to add lines for additional code!\n",
    "difference_means = ...\n",
    "for ... in ...:\n",
    "    resample = ...\n",
    "    resample_mean = ...\n",
    "    difference_means = ..."
   ]
  },
  {
   "cell_type": "code",
   "execution_count": 115,
   "metadata": {},
   "outputs": [],
   "source": [
    "#DELETE\n",
    "difference_means = np.array([])\n",
    "for i in np.arange(1000):\n",
    "    resample = burgers.sample(burgers.shape[0],replace = True).groupby('Place').mean().reset_index()\n",
    "    resampled_in_n_out_mean = resample[resample.get('Place') ==  'In-N-Out'].get('Patty Weight (Ounces)').iloc[0]\n",
    "    resampled_five_guys_mean = resample[resample.get('Place') ==  'Five Guys'].get('Patty Weight (Ounces)').iloc[0]\n",
    "    resample_mean = resampled_in_n_out_mean - resampled_five_guys_mean\n",
    "    difference_means = np.append(difference_means, resample_mean)"
   ]
  },
  {
   "cell_type": "code",
   "execution_count": 116,
   "metadata": {},
   "outputs": [
    {
     "data": {
      "text/plain": [
       "<matplotlib.axes._subplots.AxesSubplot at 0x10d893941c8>"
      ]
     },
     "execution_count": 116,
     "metadata": {},
     "output_type": "execute_result"
    },
    {
     "data": {
      "image/png": "[encoded data removed]",
      "text/plain": [
       "<Figure size 432x288 with 1 Axes>"
      ]
     },
     "metadata": {
      "needs_background": "light"
     },
     "output_type": "display_data"
    }
   ],
   "source": [
    "#: This cell displays a histogram of difference_means\n",
    "bpd.DataFrame().assign(Estimated_Mean_Difference = difference_means).plot(kind = 'hist')"
   ]
  },
  {
   "cell_type": "code",
   "execution_count": null,
   "metadata": {},
   "outputs": [],
   "source": [
    "_ = ok.grade('q3_9')"
   ]
  },
  {
   "cell_type": "markdown",
   "metadata": {},
   "source": [
    "**Question 3.10.** Compute the 95% confidence interval for the mean difference in weights of In-N-Out and Five Guys patties. Assign the left and right endpoints to `left_endpoint` and `right_endpoint` respectively. "
   ]
  },
  {
   "cell_type": "code",
   "execution_count": 117,
   "metadata": {},
   "outputs": [
    {
     "data": {
      "text/plain": [
       "-1.3596768186021402"
      ]
     },
     "execution_count": 117,
     "metadata": {},
     "output_type": "execute_result"
    }
   ],
   "source": [
    "#...left_endpoint\n",
    "left_endpoint = np.percentile(difference_means,2.5)\n",
    "left_endpoint"
   ]
  },
  {
   "cell_type": "code",
   "execution_count": 118,
   "metadata": {},
   "outputs": [
    {
     "data": {
      "text/plain": [
       "-1.2229268597792533"
      ]
     },
     "execution_count": 118,
     "metadata": {},
     "output_type": "execute_result"
    }
   ],
   "source": [
    "#...right_endpoint\n",
    "right_endpoint = np.percentile(difference_means,97.5)\n",
    "right_endpoint"
   ]
  },
  {
   "cell_type": "code",
   "execution_count": null,
   "metadata": {},
   "outputs": [],
   "source": [
    "#: the confidence interval\n",
    "print(\"Bootstrapped 95% confidence interval for the mean difference in weights of In-N-Out and Five Guys patties: [{:f}, {:f}]\".format(left_endpoint, right_endpoint))"
   ]
  },
  {
   "cell_type": "code",
   "execution_count": null,
   "metadata": {},
   "outputs": [],
   "source": [
    "_ = ok.grade('q3_10')"
   ]
  },
  {
   "cell_type": "markdown",
   "metadata": {},
   "source": [
    "**Question 3.11:** Based on your histogram and confidence interval, would you say with high probability that the mean In-N-Out patty is lighter than the mean Five Guys patty? Explain your answer."
   ]
  },
  {
   "cell_type": "markdown",
   "metadata": {},
   "source": [
    "<hr style=\"color:Maroon;background-color:Maroon;border:0 none; height: 3px;\">\n",
    "\n",
    "*Your answer here*\n",
    "\n",
    "<hr style=\"color:Maroon;background-color:Maroon;border:0 none; height: 3px;\">"
   ]
  },
  {
   "cell_type": "markdown",
   "metadata": {},
   "source": [
    "**Question 3.12.** Would changing the units of weight from ounces to grams change your conclusion? Assign a boolean (`True` if it would and `False` otherwise) to the name `q3_12`."
   ]
  },
  {
   "cell_type": "code",
   "execution_count": 119,
   "metadata": {},
   "outputs": [],
   "source": [
    "#...q3_12\n",
    "q3_12 = False"
   ]
  },
  {
   "cell_type": "code",
   "execution_count": null,
   "metadata": {},
   "outputs": [],
   "source": [
    "_ = ok.grade('q3_12')"
   ]
  },
  {
   "cell_type": "markdown",
   "metadata": {},
   "source": [
    "# Finish Line\n",
    "\n",
    "Congratulations, you're done with the lab!  Be sure to\n",
    "\n",
    "- **Verify that all tests pass** (the next cell has a shortcut for that), \n",
    "- **Save and Checkpoint** from the `File` menu,\n",
    "- **Run the last cell to submit your work**\n",
    "- **You do not need to submit anything toGradescope**"
   ]
  },
  {
   "cell_type": "code",
   "execution_count": null,
   "metadata": {},
   "outputs": [],
   "source": [
    "#: Run all tests at once\n",
    "import os\n",
    "_ = [ok.grade(q[:-3]) for q in os.listdir('tests') if q.startswith('q')]"
   ]
  },
  {
   "cell_type": "markdown",
   "metadata": {},
   "source": [
    "## Before submitting, select \"Kernel\" -> \"Restart & Run All\" from the menu!\n",
    "\n",
    "Then make sure that all of your cells ran without error."
   ]
  },
  {
   "cell_type": "code",
   "execution_count": null,
   "metadata": {},
   "outputs": [],
   "source": [
    "#: Submit your notebook\n",
    "_ = ok.submit()"
   ]
  }
 ],
 "metadata": {
  "kernelspec": {
   "display_name": "Python 3",
   "language": "python",
   "name": "python3"
  },
  "language_info": {
   "codemirror_mode": {
    "name": "ipython",
    "version": 3
   },
   "file_extension": ".py",
   "mimetype": "text/x-python",
   "name": "python",
   "nbconvert_exporter": "python",
   "pygments_lexer": "ipython3",
   "version": "3.7.4"
  }
 },
 "nbformat": 4,
 "nbformat_minor": 2
}
