{
 "cells": [
  {
   "cell_type": "code",
   "execution_count": 1,
   "metadata": {},
   "outputs": [],
   "source": [
    "#: imports!\n",
    "\n",
    "import numpy as np\n",
    "import babypandas as bpd\n",
    "\n",
    "import matplotlib.pyplot as plt\n",
    "plt.style.use('fivethirtyeight')\n",
    "%matplotlib inline"
   ]
  },
  {
   "cell_type": "markdown",
   "metadata": {
    "slideshow": {
     "slide_type": "slide"
    }
   },
   "source": [
    "# Lecture 11\n",
    "\n",
    "## Conditionals and Loops"
   ]
  },
  {
   "cell_type": "markdown",
   "metadata": {
    "slideshow": {
     "slide_type": "slide"
    }
   },
   "source": [
    "# Booleans and Conditionals"
   ]
  },
  {
   "cell_type": "markdown",
   "metadata": {
    "slideshow": {
     "slide_type": "slide"
    }
   },
   "source": [
    "## Booleans\n",
    "\n",
    "- A **Boolean** variable is either true or false.\n",
    "    - yes or no\n",
    "    - on or off\n",
    "    - 0 or 1\n",
    "- Named after George Boole.\n",
    "- In Python: \n",
    "    - we have the `bool` type, `True` and `False` literals.\n",
    "    - `and`, `or`, `not` operators."
   ]
  },
  {
   "cell_type": "markdown",
   "metadata": {
    "slideshow": {
     "slide_type": "slide"
    }
   },
   "source": [
    "## Conditionals\n",
    "\n",
    "- Do something if an expression is `True`.\n",
    "- Syntax (don't forget the colon):\n",
    "\n",
    "\n",
    "    if <condition>:\n",
    "        <body>\n",
    "            \n",
    "- Indentation matters!"
   ]
  },
  {
   "cell_type": "markdown",
   "metadata": {
    "slideshow": {
     "slide_type": "slide"
    }
   },
   "source": [
    "## Conditionals\n",
    "\n",
    "- `elif`: If condition is `False`, check another condition\n",
    "- \"Falls through\" until first `True` condition.\n",
    "- But doesn't continue after that.\n",
    "- \"Catch\" everything that falls through with `else`"
   ]
  },
  {
   "cell_type": "markdown",
   "metadata": {
    "slideshow": {
     "slide_type": "slide"
    }
   },
   "source": [
    "## Example: sign function\n",
    "\n",
    "Write a function that takes a single number and prints \"positive\" if it is a positive number and \"negative\" if it is a negative number."
   ]
  },
  {
   "cell_type": "code",
   "execution_count": null,
   "metadata": {},
   "outputs": [],
   "source": [
    "def sign(x):\n",
    "    if x > 0:\n",
    "        print('positive')\n",
    "    elif x < 0:\n",
    "        print('negative')\n",
    "    else:\n",
    "        print('neither!')"
   ]
  },
  {
   "cell_type": "code",
   "execution_count": null,
   "metadata": {},
   "outputs": [],
   "source": [
    "sign(7)"
   ]
  },
  {
   "cell_type": "code",
   "execution_count": null,
   "metadata": {},
   "outputs": [],
   "source": [
    "sign(-2)"
   ]
  },
  {
   "cell_type": "code",
   "execution_count": null,
   "metadata": {},
   "outputs": [],
   "source": [
    "sign(0)"
   ]
  },
  {
   "cell_type": "markdown",
   "metadata": {
    "slideshow": {
     "slide_type": "slide"
    }
   },
   "source": [
    "## Example: the other one\n",
    "\n",
    "- Develop a function which takes a 2-element array and a value.\n",
    "- If the value is:\n",
    "    - the first element, return the second.\n",
    "    - the second element, return the first.\n",
    "    \n",
    "    \n",
    "    >>> choices = np.array(['moon', 'sun'])\n",
    "    >>> other_one(choices, 'moon')\n",
    "    sun\n",
    "    >>> other_one(choices, 'sun')\n",
    "    moon"
   ]
  },
  {
   "cell_type": "code",
   "execution_count": null,
   "metadata": {},
   "outputs": [],
   "source": [
    "#- define `other_one(arr, value)`\n",
    "def other_one(arr, value):\n",
    "    if value == arr[0]:\n",
    "        return arr[1]\n",
    "    elif value == arr[1]:\n",
    "        return arr[0]\n",
    "    else:\n",
    "        print('Invalid input!')"
   ]
  },
  {
   "cell_type": "markdown",
   "metadata": {
    "slideshow": {
     "slide_type": "slide"
    }
   },
   "source": [
    "## Discussion question\n",
    "\n",
    "```\n",
    "def func(a, b):\n",
    "    if (a + b > 4 and b > 0):\n",
    "        return 'foo'\n",
    "    elif (a*b >= 4 or b < 0):\n",
    "        return 'bar'\n",
    "    else:\n",
    "        return 'baz'\n",
    "```\n",
    "\n",
    "What is returned when `func(2, 2)` is called?\n",
    "\n",
    "- A) foo\n",
    "- B) bar\n",
    "- C) baz\n",
    "- D) more than one of the above"
   ]
  },
  {
   "cell_type": "markdown",
   "metadata": {
    "slideshow": {
     "slide_type": "slide"
    }
   },
   "source": [
    "## Using parenthesis...\n",
    "\n",
    "Instead of:\n",
    "\n",
    "    if (a + b > 4 and b > 0):\n",
    "        ...\n",
    "\n",
    "You might prefer: \n",
    "\n",
    "    if (a + b > 4) and (b > 0):\n",
    "        ...\n",
    "        \n",
    "They do the same thing, because comparison operators are evaluated first.\n",
    "\n",
    "Fun fact: if `a = 2`, and `b = 2`, `a + b > (4 and b) > 0` evaluates to `True`."
   ]
  },
  {
   "cell_type": "markdown",
   "metadata": {
    "slideshow": {
     "slide_type": "slide"
    }
   },
   "source": [
    "# Iteration\n",
    "\n",
    "We can use Python to help automate our job at NASA:"
   ]
  },
  {
   "cell_type": "code",
   "execution_count": null,
   "metadata": {},
   "outputs": [],
   "source": [
    "#: counting down...\n",
    "import time\n",
    "\n",
    "print(\"Launching in...\")\n",
    "print(\"t-minus\", 10)\n",
    "time.sleep(1)\n",
    "print(\"t-minus\", 9)\n",
    "time.sleep(1)\n",
    "print(\"t-minus\", 8)\n",
    "time.sleep(1)\n",
    "print(\"t-minus\", 7)\n",
    "time.sleep(1)\n",
    "print(\"t-minus\", 6)\n",
    "time.sleep(1)\n",
    "print(\"t-minus\", 5)\n",
    "time.sleep(1)\n",
    "print(\"t-minus\", 4)\n",
    "time.sleep(1)\n",
    "print(\"t-minus\", 3)\n",
    "time.sleep(1)\n",
    "print(\"t-minus\", 2)\n",
    "time.sleep(1)\n",
    "print(\"t-minus\", 1)\n",
    "time.sleep(1)\n",
    "print(\"Blast off!\")"
   ]
  },
  {
   "cell_type": "markdown",
   "metadata": {
    "slideshow": {
     "slide_type": "slide"
    }
   },
   "source": [
    "## Better approach: use a `for`-loop."
   ]
  },
  {
   "cell_type": "code",
   "execution_count": null,
   "metadata": {},
   "outputs": [],
   "source": [
    "print(\"Launching in...\")\n",
    "\n",
    "for t in [10, 9, 8, 7, 6, 5, 4, 3, 2, 1]:\n",
    "    print(\"t-minus\", t)\n",
    "    time.sleep(1)\n",
    "    \n",
    "print(\"Blast off!\")"
   ]
  },
  {
   "cell_type": "markdown",
   "metadata": {
    "slideshow": {
     "slide_type": "slide"
    }
   },
   "source": [
    "## `for`-loops\n",
    "\n",
    "- Do something for every value in a sequence\n",
    "- Syntax (don't forget the colon):\n",
    "\n",
    "```\n",
    "for <loop variable> in <sequence>:\n",
    "    <body>\n",
    "```\n",
    "\n",
    "- Indentation matters!\n"
   ]
  },
  {
   "cell_type": "code",
   "execution_count": null,
   "metadata": {},
   "outputs": [],
   "source": [
    "#: loop variable can be anything\n",
    "for x in [1, 2, 3, 4]:\n",
    "    print(x ** 2)"
   ]
  },
  {
   "cell_type": "markdown",
   "metadata": {
    "slideshow": {
     "slide_type": "slide"
    }
   },
   "source": [
    "## Ranges\n",
    "\n",
    "- We can use `np.arange` to create sequences to iterate over:"
   ]
  },
  {
   "cell_type": "code",
   "execution_count": null,
   "metadata": {},
   "outputs": [],
   "source": [
    "#: count to 9, starting from 0\n",
    "for x in np.arange(10):\n",
    "    print(x)"
   ]
  },
  {
   "cell_type": "code",
   "execution_count": null,
   "metadata": {},
   "outputs": [],
   "source": [
    "#: countdown\n",
    "for x in np.arange(10, 0, -1):\n",
    "    print(x)"
   ]
  },
  {
   "cell_type": "markdown",
   "metadata": {
    "slideshow": {
     "slide_type": "slide"
    }
   },
   "source": [
    "## Iterating over array by indexing"
   ]
  },
  {
   "cell_type": "code",
   "execution_count": null,
   "metadata": {},
   "outputs": [],
   "source": [
    "#: use np.arange(size)\n",
    "flavors = np.array(['Chocolate', 'Vanilla', 'Strawberry'])\n",
    "\n",
    "for index in np.arange(flavors.size):\n",
    "    print('Flavor number', index, 'is', flavors[index])"
   ]
  },
  {
   "cell_type": "code",
   "execution_count": null,
   "metadata": {},
   "outputs": [],
   "source": [
    "# using enumerate()\n",
    "for index, flavor in enumerate(flavors):\n",
    "    print('Flavor number', index, 'is', flavor)"
   ]
  },
  {
   "cell_type": "markdown",
   "metadata": {
    "slideshow": {
     "slide_type": "slide"
    }
   },
   "source": [
    "## Building an array by iterating\n",
    "\n",
    "- How many letters are in each name?\n",
    "- We want to save our results!\n",
    "- Use `np.append`: appends an element to end of array."
   ]
  },
  {
   "cell_type": "code",
   "execution_count": null,
   "metadata": {},
   "outputs": [],
   "source": [
    "#: names\n",
    "names = ['Winona', 'Xanthippe', 'Yvonne', 'Zelda']\n",
    "\n",
    "# empty array\n",
    "lengths = np.array([])\n",
    "\n",
    "for name in names:\n",
    "    lengths = np.append(lengths, len(name))\n",
    "    \n",
    "lengths"
   ]
  }
 ],
 "metadata": {
  "celltoolbar": "Slideshow",
  "kernelspec": {
   "display_name": "Python 3",
   "language": "python",
   "name": "python3"
  },
  "language_info": {
   "codemirror_mode": {
    "name": "ipython",
    "version": 3
   },
   "file_extension": ".py",
   "mimetype": "text/x-python",
   "name": "python",
   "nbconvert_exporter": "python",
   "pygments_lexer": "ipython3",
   "version": "3.7.3"
  },
  "livereveal": {
   "scroll": true,
   "transition": "none"
  }
 },
 "nbformat": 4,
 "nbformat_minor": 2
}
