{
 "cells": [
  {
   "cell_type": "markdown",
   "metadata": {},
   "source": [
    "# Project 1: California\n",
    "\n",
    "\n",
    "## Due Sunday, April 26 at 11:59pm\n",
    "\n",
    "Please complete this notebook by filling in the cells provided. Before you begin, execute the following cell to load the provided tests."
   ]
  },
  {
   "cell_type": "code",
   "execution_count": null,
   "metadata": {},
   "outputs": [],
   "source": [
    "# Don't change this cell; just run it\n",
    "import numpy as np\n",
    "import babypandas as bpd\n",
    "\n",
    "import matplotlib.pyplot as plt\n",
    "%matplotlib inline\n",
    "plt.style.use('fivethirtyeight')\n",
    "\n",
    "from client.api.notebook import Notebook\n",
    "ok = Notebook('project.ok')\n",
    "_ = ok.auth(inline=True)"
   ]
  },
  {
   "cell_type": "markdown",
   "metadata": {},
   "source": [
    "In this project we'll explore some data about California. The project is a little longer than a homework, but the questions may require you to **\"put the pieces together\"** more than a typical homework question. You may have to perform several steps to answer a question. Remember that you can always save intermediate results!\n",
    "\n",
    "The datasets in this project consist of real-world data, cleaned slighty for ease of use. As such, there are occasional anomalies that you'll have to look out for and handle specially. You are encouraged to ask your own questions and try to answer them using these datasets!\n",
    "\n",
    "### Logistics\n",
    "\n",
    "**Deadline.** This project is due at **11:59pm on Sunday April 26th**. It's much better to be early than late, so start working now.\n",
    "\n",
    "**Plotting Questions**: The plots for the project are **optional** and ungraded, meaning you do **not** need to submit a PDF of this notebook to Gradescope. Hoewever, the plotting questions are good practice for the midterm.\n",
    "\n",
    "**Partners.** You may work with one other partner; only one of you is required to submit the project. On okpy.org, the person who submits should also designate their partner so that both of you receive credit.\n",
    "\n",
    "**Rules.** Don't share your code with anybody but your partner. You are welcome to discuss questions with other students, but don't share the answers or code. The experience of solving the problems in this project will prepare you for exams (and life). If someone asks you for the answer, resist! Instead, you can demonstrate how you would solve a similar problem.\n",
    "\n",
    "**Support.** You are not alone! Come to office hours, post on Campuswire, and talk to your classmates. If you want to ask about the details of your solution to a problem, make a private Campuswire post and the staff will respond. If you're ever feeling overwhelmed or don't know how to make progress, send a private Campuswire post to instructors for help.\n",
    "\n",
    "**Tests.** The tests that are given are not comprehensive and passing the tests for a question does not mean that you answered the question correctly. Tests usually only check that your table has the correct column labels. However, more tests will be applied to verify the correctness of your submission in order to assign your final score, so be careful and check your work!\n",
    "\n",
    "**Advice.** Develop your answers incrementally. To perform a complicated table manipulation, break it up into steps, perform each step on a different line, give a new name to each result, and check that each intermediate result is what you expect. You can add any additional names or functions you want to the provided cells. Make sure that you are using distinct and meaningful variable names throughout the notebook. Along that line, DO NOT reuse the variable names that we use when we grade your answers, otherwise there is the chance that our tests will grade against a variable that's not what you intened (especially if you run the notebook out of order!).\n",
    "\n",
    "You never have to use just one line in this project or any others. Use intermediate variables and multiple lines as much as you would like!"
   ]
  },
  {
   "cell_type": "markdown",
   "metadata": {},
   "source": [
    "## 1. California Climates\n",
    "\n",
    "<img src=\"./jtree.jpg\"/>\n",
    "\n",
    "California consists of many different climates -- from the southern deserts to the alpine conditions in the High Sierra. We'll start by getting a sense of what Californian land is like."
   ]
  },
  {
   "cell_type": "markdown",
   "metadata": {},
   "source": [
    "**Question 1.1.** The file `data/landtype.csv` contains information from the US Geological Survey on land type for the entire United States. Read it into a DataFrame named `us_land`."
   ]
  },
  {
   "cell_type": "code",
   "execution_count": null,
   "metadata": {},
   "outputs": [],
   "source": [
    "#... us_land\n",
    "us_land = ...\n",
    "us_land"
   ]
  },
  {
   "cell_type": "code",
   "execution_count": null,
   "metadata": {},
   "outputs": [],
   "source": [
    "_ = ok.grade('q1_1')"
   ]
  },
  {
   "cell_type": "markdown",
   "metadata": {},
   "source": [
    "The USGS breaks the United States into 3821 regions; each row in the table contains information about one region. Out of the table's 12 columns, the important ones are:\n",
    "\n",
    "<table>\n",
    "    <tr>\n",
    "        <th>Column Name</th>\n",
    "        <th>Description</th>\n",
    "    </tr>\n",
    "    <tr>\n",
    "        <td>strStName</td>\n",
    "        <td>state name</td>\n",
    "    </tr>\n",
    "    <tr>\n",
    "        <td>strClassName</td>\n",
    "        <td>land class</td>\n",
    "    </tr>\n",
    "    <tr>\n",
    "        <td>strEcoSysName</td>\n",
    "        <td>ecological system</td>\n",
    "    </tr>\n",
    "    <tr>\n",
    "        <td>intSqMiles</td>\n",
    "        <td>size in square miles</td>\n",
    "    </tr>\n",
    "</table>"
   ]
  },
  {
   "cell_type": "markdown",
   "metadata": {},
   "source": [
    "**Question 1.2.** To make the data easier to work with, let's keep only the columns listed above and give them better names. Create a new DataFrame named `us_land_renamed` which contains four columns: \"State\", \"Class\", \"EcologicalSystem\", and \"SquareMiles\", containing the state name, land type, ecological system, and size of each region, respectively."
   ]
  },
  {
   "cell_type": "code",
   "execution_count": null,
   "metadata": {},
   "outputs": [],
   "source": [
    "#... us_land_renamed\n",
    "us_land_renamed = ...\n",
    "us_land_renamed"
   ]
  },
  {
   "cell_type": "code",
   "execution_count": null,
   "metadata": {},
   "outputs": [],
   "source": [
    "_ = ok.grade('q1_2')"
   ]
  },
  {
   "cell_type": "markdown",
   "metadata": {},
   "source": [
    "**Question 1.3.** We only care about California! Create a table called `ca_land` which contains only the regions in California. Furthermore, remove the \"State\" column, since it is no longer informative."
   ]
  },
  {
   "cell_type": "code",
   "execution_count": null,
   "metadata": {},
   "outputs": [],
   "source": [
    "#... ca_land\n",
    "ca_land = ...\n",
    "ca_land"
   ]
  },
  {
   "cell_type": "code",
   "execution_count": null,
   "metadata": {},
   "outputs": [],
   "source": [
    "_ = ok.grade('q1_3')"
   ]
  },
  {
   "cell_type": "markdown",
   "metadata": {},
   "source": [
    "**Question 1.4.** We are interested in how much of California's land is Forest & Woodland, how much is Open Water, and so on. Create a table named `ca_classes` with two columns, \"SquareMiles\" and \"Percentage\", containing the total area in square miles and the total percentage (as a number between 0 and 100) of California that is made up of each land class. The label of each row should be a land class. That is, your table should look like this (but with the `?`s replaced by numbers):\n",
    "\n",
    "<img width=50% src=\"./q1_output.png\"/>"
   ]
  },
  {
   "cell_type": "code",
   "execution_count": null,
   "metadata": {},
   "outputs": [],
   "source": [
    "#... ca_classes\n",
    "ca_classes = ...\n",
    "ca_classes"
   ]
  },
  {
   "cell_type": "code",
   "execution_count": null,
   "metadata": {},
   "outputs": [],
   "source": [
    "_ = ok.grade('q1_4')"
   ]
  },
  {
   "cell_type": "markdown",
   "metadata": {},
   "source": [
    "**Question 1.5.** Create a horizontal bar chart showing the percentage of California that is made up of each land class. Only show the land classes with the top 6 percentage values, omit the rest. Make sure that the bars are sorted, from shortest at the top to longest at the bottom."
   ]
  },
  {
   "cell_type": "code",
   "execution_count": null,
   "metadata": {},
   "outputs": [],
   "source": [
    "#- write your code here"
   ]
  },
  {
   "cell_type": "markdown",
   "metadata": {},
   "source": [
    "**Question 1.6.** Notice that California has a high percentage of forest & woodland. Let's compare California's total Forest & Woodland (F & W) area in square miles, to the total F & W are in square miles across all states. \n",
    "\n",
    "Find the total F & W area in square miles accross all states. In the variable `ratio`, store the value: \n",
    "<br><br>\n",
    "(California's total F & W area in square miles) / (Total F & W area across all states in square miles)\n",
    "<br><br>\n",
    "Hint: Reuse the `us_land_renamed` from before, but don't drop the states column. You can also use `ca_classes`."
   ]
  },
  {
   "cell_type": "code",
   "execution_count": null,
   "metadata": {},
   "outputs": [],
   "source": [
    "# ... ratio \n",
    "ratio = ...\n",
    "ratio"
   ]
  },
  {
   "cell_type": "code",
   "execution_count": null,
   "metadata": {},
   "outputs": [],
   "source": [
    "_ = ok.grade('q1_6')"
   ]
  },
  {
   "cell_type": "markdown",
   "metadata": {},
   "source": [
    "**Question 1.7.** Finally, let's count how many of each class of land there is in the US. Using the `us_land_renamed`, count the total number of each `Class`, and store the result in a table. The index of the table should be the class types. Apart from the index, it should have a single column which stores the counts. This column may have any name. Store the resulting table in the variable `class_counts`."
   ]
  },
  {
   "cell_type": "code",
   "execution_count": null,
   "metadata": {},
   "outputs": [],
   "source": [
    "#... class_counts\n",
    "class_counts = ...\n",
    "class_counts"
   ]
  },
  {
   "cell_type": "code",
   "execution_count": null,
   "metadata": {},
   "outputs": [],
   "source": [
    "_ = ok.grade('q1_7')"
   ]
  },
  {
   "cell_type": "markdown",
   "metadata": {},
   "source": [
    "## 2. Beaches and Coast"
   ]
  },
  {
   "cell_type": "markdown",
   "metadata": {},
   "source": [
    "<img width=85% src=\"./beach.jpg\"/>"
   ]
  },
  {
   "cell_type": "markdown",
   "metadata": {},
   "source": [
    "California has over 3,400 miles of shoreline. The [California Coastal Commission](https://en.wikipedia.org/wiki/California_Coastal_Commission) is a public agency charged with managing the coast and ensuring that all Californians have access to the ocean.\n",
    "\n",
    "The California Coastal Commission maintains a list of all of the named beaches in the state. The file `beaches.csv` contains this information:"
   ]
  },
  {
   "cell_type": "code",
   "execution_count": null,
   "metadata": {},
   "outputs": [],
   "source": [
    "beaches = bpd.read_csv('data/beaches.csv')\n",
    "beaches"
   ]
  },
  {
   "cell_type": "markdown",
   "metadata": {},
   "source": [
    "The table below shows all of the columns in the DataFrame and their contents:\n",
    "\n",
    "<table>\n",
    "    <tr>\n",
    "        <th>\n",
    "            Column Name\n",
    "        </th>\n",
    "        <th>\n",
    "            Description\n",
    "        </th>\n",
    "    </tr>\n",
    "    <tr>\n",
    "        <td>\n",
    "            COUNTY\n",
    "        </td>\n",
    "        <td>\n",
    "            Name of the county in which the beach is located\n",
    "        </td>\n",
    "    </tr>\n",
    "    <tr>\n",
    "        <td>\n",
    "            PARKING\n",
    "        </td>\n",
    "        <td>\n",
    "            Whether or not there is parking at the beach\n",
    "        </td>\n",
    "    </tr>\n",
    "    <tr>\n",
    "        <td>\n",
    "            FEE\n",
    "        </td>\n",
    "        <td>\n",
    "            Whether or not there is a fee to access the beach\n",
    "        </td>\n",
    "    </tr>\n",
    "    <tr>\n",
    "        <td>\n",
    "            LATITUDE\n",
    "        </td>\n",
    "        <td>\n",
    "            The beach's latitude\n",
    "        </td>\n",
    "    </tr>\n",
    "    <tr>\n",
    "        <td>\n",
    "            LOGITUDE\n",
    "        </td>\n",
    "        <td>\n",
    "            The beach's longitude\n",
    "        </td>\n",
    "    </tr>\n",
    "    <tr>\n",
    "        <td>\n",
    "            NAME\n",
    "        </td>\n",
    "        <td>\n",
    "            Name of the beach\n",
    "        </td>\n",
    "    </tr>\n",
    "    <tr>\n",
    "        <td>\n",
    "            LOCATION\n",
    "        </td>\n",
    "        <td>\n",
    "            A description of the beach's location\n",
    "        </td>\n",
    "    </tr>\n",
    "    <tr>\n",
    "        <td>\n",
    "            DESCRIPTION\n",
    "        </td>\n",
    "        <td>\n",
    "            A short description of the beach\n",
    "        </td>\n",
    "    </tr>\n",
    "</table>"
   ]
  },
  {
   "cell_type": "markdown",
   "metadata": {},
   "source": [
    "**Question 2.1.** Which county has the second most ***paid*** beaches?"
   ]
  },
  {
   "cell_type": "code",
   "execution_count": null,
   "metadata": {},
   "outputs": [],
   "source": [
    "#... second_most_paid_beaches\n",
    "second_most_paid_beaches = ...\n",
    "second_most_paid_beaches"
   ]
  },
  {
   "cell_type": "code",
   "execution_count": null,
   "metadata": {},
   "outputs": [],
   "source": [
    "_ = ok.grade('q2_1')"
   ]
  },
  {
   "cell_type": "markdown",
   "metadata": {},
   "source": [
    "**Question 2.2.** Expensive beaches usually have more tourists and more facilities. Does that mean there is also access to parking? Let's find the percentage of paid and free beaches that have a parking service and compare. Respond **True** or **False** to `paid_parking`. True if paid beaches have a higher parking ratio, false otherwise. (Calculate the ratios individually for paid and free beaches."
   ]
  },
  {
   "cell_type": "code",
   "execution_count": null,
   "metadata": {},
   "outputs": [],
   "source": [
    "#... paid_parking\n",
    "paid_parking = ...\n",
    "paid_parking"
   ]
  },
  {
   "cell_type": "code",
   "execution_count": null,
   "metadata": {},
   "outputs": [],
   "source": [
    "_ = ok.grade('q2_2')"
   ]
  },
  {
   "cell_type": "markdown",
   "metadata": {},
   "source": [
    "**Question 2.3.** How many beaches in Los Angeles county do not have a fee and do have parking? Store your result in `los_angeles_free_beaches_with_parking`"
   ]
  },
  {
   "cell_type": "code",
   "execution_count": null,
   "metadata": {},
   "outputs": [],
   "source": [
    "#... los_angeles_free_beaches_with_parking\n",
    "los_angeles_free_beaches_with_parking = ...\n",
    "los_angeles_free_beaches_with_parking"
   ]
  },
  {
   "cell_type": "code",
   "execution_count": null,
   "metadata": {},
   "outputs": [],
   "source": [
    "_ = ok.grade('q2_3')"
   ]
  },
  {
   "cell_type": "markdown",
   "metadata": {},
   "source": [
    "The California State Guide is publishing a favorite beach ranking that is asking you to rate the top beaches across the state. The given criteria is straightforward: 3 stars for beaches with free parking, 2 stars for beaches with paid parking or free beaches with no parking, 1 star for paid beaches with no parking.\n",
    "\n",
    "**Question 2.4.** To begin, we must clean our data first. We will be working with the first three columns, *COUNTY*, *PARKING*, *FEE*, so drop the irrelevant columns. Replace the strings **Yes** and **No** in the `PARKING` and `FEE` columns with 1 and 0 respectively. Save your processed dataframe in `processed_beaches`.\n",
    "\n",
    "*Hint: You can check all the unqie values in a column by `np.unique(Series)`. There is a built in function for the replacement.*"
   ]
  },
  {
   "cell_type": "code",
   "execution_count": null,
   "metadata": {},
   "outputs": [],
   "source": [
    "def replace(x):\n",
    "    if x=='Yes':return 1\n",
    "    if x=='No' or x=='No ': return 0"
   ]
  },
  {
   "cell_type": "code",
   "execution_count": null,
   "metadata": {},
   "outputs": [],
   "source": [
    "#... processed_beaches\n",
    "processed_beaches = ...\n",
    "processed_beaches"
   ]
  },
  {
   "cell_type": "code",
   "execution_count": null,
   "metadata": {},
   "outputs": [],
   "source": [
    "_ = ok.grade('q2_4')"
   ]
  },
  {
   "cell_type": "markdown",
   "metadata": {},
   "source": [
    "**Question 2.5.** Now create a new dataframe with the average rating for each county and save it in `ratings`. The first few rows of your answer should look like this.\n",
    "\n",
    "<img width=30% src=\"./q25_output.png\"/>"
   ]
  },
  {
   "cell_type": "code",
   "execution_count": null,
   "metadata": {},
   "outputs": [],
   "source": [
    "#...ratings\n",
    "ratings = ...\n",
    "ratings"
   ]
  },
  {
   "cell_type": "code",
   "execution_count": null,
   "metadata": {},
   "outputs": [],
   "source": [
    "_ = ok.grade('q2_5')"
   ]
  },
  {
   "cell_type": "markdown",
   "metadata": {},
   "source": [
    "**Question 2.6.** Highway 101 stretches from Los Angeles to the Canadian border. How many beaches in the dataset are on Highway 101? *Hint*: Look for the string \"Hwy. 101\"."
   ]
  },
  {
   "cell_type": "code",
   "execution_count": null,
   "metadata": {},
   "outputs": [],
   "source": [
    "#... number_on_101\n",
    "number_on_101 = ...\n",
    "number_on_101"
   ]
  },
  {
   "cell_type": "code",
   "execution_count": null,
   "metadata": {},
   "outputs": [],
   "source": [
    "_ = ok.grade('q2_6')"
   ]
  },
  {
   "cell_type": "markdown",
   "metadata": {},
   "source": [
    "**Question 2.7.** Plot a density histogram of the beach locations by longitude. Use 15 bins."
   ]
  },
  {
   "cell_type": "code",
   "execution_count": null,
   "metadata": {},
   "outputs": [],
   "source": [
    "#place your code here"
   ]
  },
  {
   "cell_type": "markdown",
   "metadata": {},
   "source": [
    "**Question 2.8.** What is the name of the southernmost beach in California?"
   ]
  },
  {
   "cell_type": "code",
   "execution_count": null,
   "metadata": {},
   "outputs": [],
   "source": [
    "#... southernmost_beach\n",
    "southernmost_beach = ...\n",
    "southernmost_beach"
   ]
  },
  {
   "cell_type": "code",
   "execution_count": null,
   "metadata": {},
   "outputs": [],
   "source": [
    "_ = ok.grade('q2_8')"
   ]
  },
  {
   "cell_type": "markdown",
   "metadata": {},
   "source": [
    "## 3. Climate Change\n",
    "\n",
    "<img width=90% src=\"./scripps.jpg\"/>\n",
    "\n",
    "California has plenty of coastline, but it is eroding at an alarming rate due to rising sea levels. The USGS [estimates](https://www.usgs.gov/news/sea-level-rise-could-double-erosion-rates-southern-california-coastal-cliffs) that bluffs along the coast of Southern California could be suffer erosion of anywhere from 65 to 135 feet by the year 2100.\n",
    "\n",
    "The file `sea_temp.csv` contains historical measurements of the surface temperature (in Celsius) of the water at the La Jolla oceanographic station; `sea_level.csv` contains measurements of the sea level relative to a global baseline (in meters)."
   ]
  },
  {
   "cell_type": "code",
   "execution_count": null,
   "metadata": {},
   "outputs": [],
   "source": [
    "sea_temp= bpd.read_csv('data/sea_temp.csv')\n",
    "sea_temp"
   ]
  },
  {
   "cell_type": "code",
   "execution_count": null,
   "metadata": {},
   "outputs": [],
   "source": [
    "sea_level = bpd.read_csv('data/sea_level.csv')\n",
    "sea_level"
   ]
  },
  {
   "cell_type": "markdown",
   "metadata": {},
   "source": [
    "**Question 3.1.** Create a new table named `sea_level_rounded` which has the same three columns as `sea_level`, but where the \"level\" column is rounded to 2 decimal points.\n"
   ]
  },
  {
   "cell_type": "code",
   "execution_count": null,
   "metadata": {},
   "outputs": [],
   "source": [
    "#... sea_level_rounded\n",
    "sea_level_rounded = ...\n",
    "sea_level_rounded"
   ]
  },
  {
   "cell_type": "code",
   "execution_count": null,
   "metadata": {},
   "outputs": [],
   "source": [
    "_ = ok.grade('q3_1')"
   ]
  },
  {
   "cell_type": "markdown",
   "metadata": {},
   "source": [
    "**Question 3.2.** Create a new table named `sea_temp_kelvin` which has the same three columns as `sea_temp`, but where the \"SURFACE_TEMP\" column is measured in kelvin instead of Celsius and give this column a new name ‘SURFACE_TEMP_K”.\n"
   ]
  },
  {
   "cell_type": "code",
   "execution_count": null,
   "metadata": {},
   "outputs": [],
   "source": [
    "#... sea_temp_kelvin\n",
    "sea_temp_kelvin = ...\n",
    "sea_temp_kelvin"
   ]
  },
  {
   "cell_type": "code",
   "execution_count": null,
   "metadata": {},
   "outputs": [],
   "source": [
    "_ = ok.grade('q3_2')"
   ]
  },
  {
   "cell_type": "markdown",
   "metadata": {},
   "source": [
    "**Question 3.3.** Create a new table named `sea_averages` which contains one row for each year and two columns: \"TEMPERATURE\", containing the average sea temperature in Kelvin for each year, and \"LEVEL\", containing the average sea level in meter for each year. Note that historical temperatures go back to 1916, but historical sea level measurements only go back to 1924. Therefore your table will only have rows for 1924 to 2019. The index of your table should contain the years.\n",
    "\n",
    "*Hint*: As always, you can create intermediate variables.\n",
    "\n"
   ]
  },
  {
   "cell_type": "code",
   "execution_count": null,
   "metadata": {},
   "outputs": [],
   "source": [
    "#... sea_averages\n",
    "sea_averages = ...\n",
    "sea_averages"
   ]
  },
  {
   "cell_type": "code",
   "execution_count": null,
   "metadata": {},
   "outputs": [],
   "source": [
    "_ = ok.grade('q3_3')"
   ]
  },
  {
   "cell_type": "markdown",
   "metadata": {},
   "source": [
    "**Question 3.4.** Add a column called “INCREASE” to sea_averages dataframe that checks if the sea level in that year increased or not. Save it into a new dataframe called `sea_averages_added`.\n"
   ]
  },
  {
   "cell_type": "code",
   "execution_count": null,
   "metadata": {},
   "outputs": [],
   "source": [
    "#... sea_averages_added\n",
    "sea_averages_added = ...\n",
    "sea_averages_added"
   ]
  },
  {
   "cell_type": "code",
   "execution_count": null,
   "metadata": {},
   "outputs": [],
   "source": [
    "_ = ok.grade('q3_4')"
   ]
  },
  {
   "cell_type": "markdown",
   "metadata": {},
   "source": [
    "**Question 3.5** Consider the following two values: average temperature of years with increased sea level,  average temperature of years with decreased sea level. What was the difference between these two values? (Hint: your answer should be negative.)\n"
   ]
  },
  {
   "cell_type": "code",
   "execution_count": null,
   "metadata": {},
   "outputs": [],
   "source": [
    "#... avg_temp_difference\n",
    "avg_temp_difference = ...\n",
    "avg_temp_difference"
   ]
  },
  {
   "cell_type": "code",
   "execution_count": null,
   "metadata": {},
   "outputs": [],
   "source": [
    "_ = ok.grade('q3_5')"
   ]
  },
  {
   "cell_type": "markdown",
   "metadata": {},
   "source": [
    "Now let's plot the yearly average surface temperature in Fahrenheit as a line plot, with year on the horizontal axis:"
   ]
  },
  {
   "cell_type": "code",
   "execution_count": null,
   "metadata": {},
   "outputs": [],
   "source": [
    "#- your code here"
   ]
  },
  {
   "cell_type": "markdown",
   "metadata": {},
   "source": [
    "Let's plot the yearly average sea level in inches as a line plot, with year on the horizontal axis:"
   ]
  },
  {
   "cell_type": "code",
   "execution_count": null,
   "metadata": {},
   "outputs": [],
   "source": [
    "sea_averages.plot(y='LEVEL')"
   ]
  },
  {
   "cell_type": "markdown",
   "metadata": {},
   "source": [
    "If your `sea_averages` is right, you should notice a linear increase in the sea level."
   ]
  },
  {
   "cell_type": "markdown",
   "metadata": {},
   "source": [
    "**Question 3.6.** In the 21th century (including 2000), what percentage of the years have an increased sea level? "
   ]
  },
  {
   "cell_type": "code",
   "execution_count": null,
   "metadata": {},
   "outputs": [],
   "source": [
    "#... percentage_year_increased\n",
    "percentage_year_increased = ...\n",
    "percentage_year_increased"
   ]
  },
  {
   "cell_type": "code",
   "execution_count": null,
   "metadata": {},
   "outputs": [],
   "source": [
    "_ = ok.grade('q3_6')"
   ]
  },
  {
   "cell_type": "markdown",
   "metadata": {},
   "source": [
    "**Question 3.7.** What is the median temperature in Kelvin of all the measurements in the 20th century? (doesn't include 2000, round your answer to two decimal points)\n"
   ]
  },
  {
   "cell_type": "code",
   "execution_count": null,
   "metadata": {},
   "outputs": [],
   "source": [
    "#... last_century_med\n",
    "last_century_med= ...\n",
    "last_century_med"
   ]
  },
  {
   "cell_type": "code",
   "execution_count": null,
   "metadata": {},
   "outputs": [],
   "source": [
    "_ = ok.grade('q3_7')"
   ]
  },
  {
   "cell_type": "markdown",
   "metadata": {},
   "source": [
    "**Question 3.8.** What is the median temperature in Kelvin of all the measurements in the 21th century?\n",
    "(round your answer to two decimal points)\n"
   ]
  },
  {
   "cell_type": "code",
   "execution_count": null,
   "metadata": {},
   "outputs": [],
   "source": [
    "#this_century_med\n",
    "this_century_med = ...\n",
    "this_century_med\n"
   ]
  },
  {
   "cell_type": "code",
   "execution_count": null,
   "metadata": {},
   "outputs": [],
   "source": [
    "_ = ok.grade('q3_8')"
   ]
  },
  {
   "cell_type": "markdown",
   "metadata": {},
   "source": [
    "**Question 3.9.** Make a scatter plot of the yearly average temperature on the horizontal axis versus the yearly average sea level on the vertical axis."
   ]
  },
  {
   "cell_type": "code",
   "execution_count": null,
   "metadata": {},
   "outputs": [],
   "source": [
    "sea_averages.plot(kind='scatter', x='TEMPERATURE', y='LEVEL')"
   ]
  },
  {
   "cell_type": "markdown",
   "metadata": {},
   "source": [
    "## 4. California's Renewable Energy"
   ]
  },
  {
   "cell_type": "markdown",
   "metadata": {},
   "source": [
    "<img width=85% src=\"wind_energy.jpg\"/>"
   ]
  },
  {
   "cell_type": "markdown",
   "metadata": {},
   "source": [
    "To combat climate change, California has increasingly generated its energy from renewable resources, such as solar and wind power. The file `energy.csv` contains hourly measurements of the amount of energy produced in California by various renewable sources in megawatts between April 2010 and January 2018."
   ]
  },
  {
   "cell_type": "code",
   "execution_count": null,
   "metadata": {},
   "outputs": [],
   "source": [
    "energy_raw = bpd.read_csv('data/energy.csv').set_index('TIMESTAMP')\n",
    "energy_raw"
   ]
  },
  {
   "cell_type": "markdown",
   "metadata": {},
   "source": [
    "The index labels are *timestamps*. These are standardized strings specifying a particular time and date. For instance, \"2013-01-28 23:00:00\" represents January 28, 2013 at 11 pm."
   ]
  },
  {
   "cell_type": "markdown",
   "metadata": {},
   "source": [
    "**Question 4.1.** The dataset has two columns for similar solar technologies: SOLAR and SOLAR PV. It makes sense to combine these columns into one. Create a new table named `energy` in which the \"SOLAR\" column is the sum of the \"SOLAR\" and \"SOLAR PV\" columns in `energy_raw`. Remove \"SOLAR PV\" from this new table."
   ]
  },
  {
   "cell_type": "code",
   "execution_count": null,
   "metadata": {},
   "outputs": [],
   "source": [
    "#... energy\n",
    "energy = ...\n",
    "energy"
   ]
  },
  {
   "cell_type": "code",
   "execution_count": null,
   "metadata": {},
   "outputs": [],
   "source": [
    "_ = ok.grade('q4_1')"
   ]
  },
  {
   "cell_type": "markdown",
   "metadata": {},
   "source": [
    "**Question 4.2.** Very few of the timestamps have a biomass energy value of 0: most of them have positive productions. Return the date which had the lowest production of biomass energy, that does not equal to zero. Your answer should be in the form of a timestamp, eg. \"2011-07-21 00:00:00\""
   ]
  },
  {
   "cell_type": "code",
   "execution_count": null,
   "metadata": {},
   "outputs": [],
   "source": [
    "#... Lowest_biomass (that does not equal to zero)\n",
    "Lowest_biomass = ...\n",
    "Lowest_biomass"
   ]
  },
  {
   "cell_type": "code",
   "execution_count": null,
   "metadata": {},
   "outputs": [],
   "source": [
    "_ = ok.grade('q4_2')"
   ]
  },
  {
   "cell_type": "markdown",
   "metadata": {},
   "source": [
    "**Question 4.3.** Create functions called `extract_year`, `extract_month`, and `extract_day` which, given a timestamp string of the form \"2011-07-21 00:00:00\", returns the year, month, and day, respectively, all as a `int`s.\n",
    "\n",
    "*Hint*: remember that `.split()` can accept the character to split on."
   ]
  },
  {
   "cell_type": "code",
   "execution_count": null,
   "metadata": {},
   "outputs": [],
   "source": [
    "def extract_year(timestamp):\n",
    "    ...\n",
    "    \n",
    "def extract_month(timestamp):\n",
    "    ...\n",
    "    \n",
    "def extract_day(timestamp):\n",
    "    ..."
   ]
  },
  {
   "cell_type": "code",
   "execution_count": null,
   "metadata": {},
   "outputs": [],
   "source": [
    "print('Should return 2011:', extract_year('2011-07-21 00:00:00'))\n",
    "print('Should return 7:', extract_month('2011-07-21 00:00:00'))\n",
    "print('Should return 21:', extract_day('2011-07-21 00:00:00'))"
   ]
  },
  {
   "cell_type": "code",
   "execution_count": null,
   "metadata": {},
   "outputs": [],
   "source": [
    "_ = ok.grade('q4_3')"
   ]
  },
  {
   "cell_type": "markdown",
   "metadata": {},
   "source": [
    "**Question 4.4.** Create a function called `extract_hour` which, given a timestamp string of the form \"2011-07-21 00:00:00\", returns the hour as an `int`."
   ]
  },
  {
   "cell_type": "code",
   "execution_count": null,
   "metadata": {},
   "outputs": [],
   "source": [
    "def extract_hour(timestamp):\n",
    "    ..."
   ]
  },
  {
   "cell_type": "code",
   "execution_count": null,
   "metadata": {},
   "outputs": [],
   "source": [
    "print('Should return 13:', extract_hour('2011-07-21 13:00:00'))"
   ]
  },
  {
   "cell_type": "code",
   "execution_count": null,
   "metadata": {},
   "outputs": [],
   "source": [
    "_ = ok.grade('q4_4')"
   ]
  },
  {
   "cell_type": "markdown",
   "metadata": {},
   "source": [
    "**Question 4.5.** Create a new table called `energy_with_time` which contains all of the columns of `energy`, plus columns \"YEAR\", \"MONTH\", \"DAY\", and \"HOUR\" containing the year, month, day, and hour of each row as integers. Your table should not have an index (other than the default index consisting of numbers).\n",
    "\n",
    "Your table should look like the picture below, but with the `?`s replaced by numbers:\n",
    "<img width=85% src=\"./q4_output.png\"/>"
   ]
  },
  {
   "cell_type": "code",
   "execution_count": null,
   "metadata": {},
   "outputs": [],
   "source": [
    "#... energy_with_time\n",
    "energy_with_time = ...\n",
    "energy_with_time"
   ]
  },
  {
   "cell_type": "code",
   "execution_count": null,
   "metadata": {},
   "outputs": [],
   "source": [
    "_ = ok.grade('q4_5')"
   ]
  },
  {
   "cell_type": "markdown",
   "metadata": {},
   "source": [
    "**Question 4.6.** Create a table called `monthly_totals` which contains the total amount of energy produced by each method, for each month in the data set. That is, your table should have one row for July 2011, another row for August 2011, another for September 2011, and so on. Your resulting table should have the same columns as `energy_with_time`, except \"DAY\" and \"HOUR\" should be removed.\n",
    "\n",
    "*Hint*: Your table should have 94 rows."
   ]
  },
  {
   "cell_type": "code",
   "execution_count": null,
   "metadata": {},
   "outputs": [],
   "source": [
    "#... monthly_totals\n",
    "monthly_totals = ...\n",
    "monthly_totals"
   ]
  },
  {
   "cell_type": "code",
   "execution_count": null,
   "metadata": {},
   "outputs": [],
   "source": [
    "_ = ok.grade('q4_6')"
   ]
  },
  {
   "cell_type": "markdown",
   "metadata": {},
   "source": [
    "**Question 4.7.** What is the difference between the total solar energy and total wind energy produced, for each month? (diff = solar - wind). Make a plot across all months. (You should just plot it so you can see a trend, do not worry about the title or the axis labels)"
   ]
  },
  {
   "cell_type": "code",
   "execution_count": null,
   "metadata": {},
   "outputs": [],
   "source": [
    "#- put your code here"
   ]
  },
  {
   "cell_type": "markdown",
   "metadata": {},
   "source": [
    "**Question 4.8.** Create a table called `hourly_averages_july_2016` which contains the average output of every energy source by hour in the month of July 2016. Your table should not contain DAY, MONTH, or YEAR columns.\n",
    "\n",
    "Your answer should look like this (The numbers are intentionally left in the table so that you can check your answer):\n",
    "\n",
    "<img width=70% src=\"./q48_output.png\"/>"
   ]
  },
  {
   "cell_type": "code",
   "execution_count": null,
   "metadata": {},
   "outputs": [],
   "source": [
    "#... hourly_averages_july_2016\n",
    "hourly_averages_july_2016 = ...\n",
    "hourly_averages_july_2016"
   ]
  },
  {
   "cell_type": "code",
   "execution_count": null,
   "metadata": {},
   "outputs": [],
   "source": [
    "_ = ok.grade('q4_8')"
   ]
  },
  {
   "cell_type": "markdown",
   "metadata": {},
   "source": [
    "**Question 4.9.** Plot the hourly average production of solar, wind, and geothermal in July 2016 in a single plot."
   ]
  },
  {
   "cell_type": "code",
   "execution_count": null,
   "metadata": {},
   "outputs": [],
   "source": [
    "#- put your code here"
   ]
  },
  {
   "cell_type": "markdown",
   "metadata": {},
   "source": [
    "You should see that solar production is zero at night, but reaches a peak in the afternoon. On the other hand, wind output is highest at night."
   ]
  },
  {
   "cell_type": "markdown",
   "metadata": {},
   "source": [
    "# Finish Line\n",
    "\n",
    "Congratulations, you're done with the project!  Be sure to\n",
    "\n",
    "- **Verify that all tests pass** (the next cell has a shortcut for that), \n",
    "- **Save and Checkpoint** from the `File` menu,\n",
    "- **Run the last cell to submit your work**\n",
    "\n",
    "### You *do not* need to submit a notebook to Gradescope for this project!"
   ]
  },
  {
   "cell_type": "code",
   "execution_count": null,
   "metadata": {
    "scrolled": false
   },
   "outputs": [],
   "source": [
    "# For your convenience, you can run this cell to run all the tests at once!\n",
    "import os\n",
    "_ = [ok.grade(q[:-3]) for q in os.listdir('tests') if q.startswith('q')]"
   ]
  },
  {
   "cell_type": "code",
   "execution_count": null,
   "metadata": {},
   "outputs": [],
   "source": [
    "_ = ok.submit()"
   ]
  },
  {
   "cell_type": "code",
   "execution_count": null,
   "metadata": {},
   "outputs": [],
   "source": []
  }
 ],
 "metadata": {
  "kernelspec": {
   "display_name": "Python 3",
   "language": "python",
   "name": "python3"
  },
  "language_info": {
   "codemirror_mode": {
    "name": "ipython",
    "version": 3
   },
   "file_extension": ".py",
   "mimetype": "text/x-python",
   "name": "python",
   "nbconvert_exporter": "python",
   "pygments_lexer": "ipython3",
   "version": "3.7.3"
  }
 },
 "nbformat": 4,
 "nbformat_minor": 2
}
